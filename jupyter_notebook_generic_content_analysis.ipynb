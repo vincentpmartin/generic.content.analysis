{
 "cells": [
  {
   "cell_type": "markdown",
   "metadata": {},
   "source": [
    "# Sleep Content Analysis (or Any-Other-Construct Content Analysis)"
   ]
  },
  {
   "cell_type": "markdown",
   "metadata": {},
   "source": [
    "\n",
    "## ⚠️ PLEASE READ BEFORE DOING ANYTHING ⚠️\n",
    "\n",
    "Welcome to this online coding environment ! \n",
    "You are currently running a *Jupyter notebook* that we hope to be usefull for content analysis of questionnaires. \n",
    "\n",
    ">Each cell can be ran individually (pressing the \"Play\" ▶ button or pressing CTRL+ENTER in the each cell). In order to make everything run smoothly, it is **strongly** recommended to run them in order. \n",
    "\n",
    ">***RECOMMANDED:*** You can also run all the cells at the same time : \"Run\" → \"Run All Cells\".<br>\n",
    "> ⚠️ If you choose this option and want to analyse your own data, we suggest that you configure correctly the `experiment`, `import_file` and `references` variables before running all the cells once, then adjust the `max_radius` variable of Figure 4. \n",
    "\n",
    "At the end of the execution, you will have the opportunity to save all yours results in an HTML file, executing `\"File\" → \"Save and Export Notebook as\" → \"HTML\"` \n",
    "\n",
    "If you have chosen to run every cell individually, please begin by running the following cell that imports all the required package for our code to work correctly ↓"
   ]
  },
  {
   "cell_type": "code",
   "execution_count": 149,
   "metadata": {
    "id": "VzoMEEmaImQO"
   },
   "outputs": [],
   "source": [
    "%%capture\n",
    "import pandas as pd\n",
    "import numpy as np \n",
    "from sklearn.metrics import jaccard_score\n",
    "import plotly.express as px\n",
    "import plotly.graph_objects as go\n",
    "from sklearn.preprocessing import normalize\n",
    "from scipy.stats import spearmanr\n",
    "\n",
    "#Required package to download the image\n",
    "!wget https://github.com/plotly/orca/releases/download/v1.2.1/orca-1.2.1-x86_64.AppImage -O /usr/local/bin/orca\n",
    "!chmod +x /usr/local/bin/orca\n",
    "!apt-get install xvfb libgtk2.0-0 libgconf-2-4\n"
   ]
  },
  {
   "cell_type": "markdown",
   "metadata": {
    "id": "MSKzbWLbPOtR"
   },
   "source": [
    "---\n",
    "# Data import"
   ]
  },
  {
   "attachments": {},
   "cell_type": "markdown",
   "metadata": {
    "id": "repZgtSNU7WC"
   },
   "source": [
    "By default, this repository is configured to make you compute your own results (`experiment = \"Custom\"`), but we also configured it to reproduce some previous analyses:\n",
    "\n",
    "* option `experiment = \"Gauld2023_OSAS_content_analysis\"` : Gauld C, Baillieul S, Martin VP, Richaud A, Pelou M, Abi-Saab P,Coelho J, Philip P, Pépin JL, Micoulaud-Franchi JA. \n",
    "What evaluate obstructive sleep apnea patient-based screening questionnaires? A systematic and quantified item content analysis. *Under review* \n",
    "\n",
    "* option `experiment = \"Gauld2023_sleep_content_analysis\"`: \n",
    " Gauld C, Martin VP, Richaud A, Bailleul S, Lucie V, Perromat JL, Zreik I, Taillard J, Geoffroy PA, Lopez R, Micoulaud-Franchi JA. Systematic Item Content and Overlap Analysis of Self-reported Multiple Sleep Disorders Screening Questionnaires in Adults. *Journal of Clinical Medicine*. [https://doi.org/10.3390/jcm12030852](https://doi.org/10.3390/jcm12030852) \n",
    "\n",
    "* option `experiment = \"Fried2017\"` : Fried EI. The 52 symptoms of major depression: Lack of content overlap among seven common depression scales. *Journal of Affective Disorders*. 2017 Jan;208:191–7. \n"
   ]
  },
  {
   "attachments": {},
   "cell_type": "markdown",
   "metadata": {},
   "source": [
    "## Correct symptom file formatting\n",
    "\n",
    "For this notebook to work correcly, your symptom file should be formatted the following way : \n",
    "* the four first columns must be the category (named \"Category\" in our example), subcategory (named \"Subcategory\" in our example), the abbreviation for the symptom (as shown in the Figure, named \"Ab\" in our example) and the name of the symptom (\"Symptom\" in our example);\n",
    "* the other columns are the different questionnaires, while the line are the different symptoms.\n",
    "* For each questionnaire, the symptoms are coded the following way: \n",
    "    * 0: The symptom is absent from this questionnaire\n",
    "    * 1: The symptom is specific in this questionnaire (i.e. the symptom has bene identified in an item mentionning only one symptom)\n",
    "    * 2: The symptom is componed in this questionnaire (i.e. the symptom has bene identified in an item mentionning at least two symptom)\n",
    "\n",
    "⚠️ If you do not have categories or subcategories, just put empty columns as first or second columns ⚠️"
   ]
  },
  {
   "attachments": {},
   "cell_type": "markdown",
   "metadata": {},
   "source": [
    "## Importing data by uploading an excel file \n",
    "\n",
    "To import your own file in the `binder` online folder : \n",
    ">* Open the online folder pressing the \"folder\" icon on the left 📁 \n",
    ">* Click on the \"Upload a file\" button ⭱\n",
    "\n",
    "Now adapt the `experiment`, `import_file` and `correspondance_table` (if needed) to your experiment !"
   ]
  },
  {
   "cell_type": "code",
   "execution_count": 127,
   "metadata": {
    "colab": {
     "base_uri": "https://localhost:8080/",
     "height": 206
    },
    "id": "DdPN9UyEPRAp",
    "outputId": "f18fc141-ba72-4abe-a8f8-e06d9da95981"
   },
   "outputs": [
    {
     "data": {
      "text/html": [
       "<div>\n",
       "<style scoped>\n",
       "    .dataframe tbody tr th:only-of-type {\n",
       "        vertical-align: middle;\n",
       "    }\n",
       "\n",
       "    .dataframe tbody tr th {\n",
       "        vertical-align: top;\n",
       "    }\n",
       "\n",
       "    .dataframe thead th {\n",
       "        text-align: right;\n",
       "    }\n",
       "</style>\n",
       "<table border=\"1\" class=\"dataframe\">\n",
       "  <thead>\n",
       "    <tr style=\"text-align: right;\">\n",
       "      <th></th>\n",
       "      <th>Category</th>\n",
       "      <th>Subcategory</th>\n",
       "      <th>Ab</th>\n",
       "      <th>Symptom</th>\n",
       "      <th>GOAL</th>\n",
       "      <th>NoSAS</th>\n",
       "      <th>STOP</th>\n",
       "      <th>STOP-Bang</th>\n",
       "      <th>Berlin</th>\n",
       "      <th>OSA 50</th>\n",
       "      <th>ASA</th>\n",
       "      <th>Wisconsin Q</th>\n",
       "      <th>SA-SDQ</th>\n",
       "      <th>Haraldsson</th>\n",
       "      <th>AS</th>\n",
       "    </tr>\n",
       "  </thead>\n",
       "  <tbody>\n",
       "    <tr>\n",
       "      <th>0</th>\n",
       "      <td>OSA symptoms</td>\n",
       "      <td>Snoring</td>\n",
       "      <td>S001</td>\n",
       "      <td>Snoring</td>\n",
       "      <td>0</td>\n",
       "      <td>1</td>\n",
       "      <td>0</td>\n",
       "      <td>0</td>\n",
       "      <td>1</td>\n",
       "      <td>0</td>\n",
       "      <td>1</td>\n",
       "      <td>1</td>\n",
       "      <td>0</td>\n",
       "      <td>1</td>\n",
       "      <td>2</td>\n",
       "    </tr>\n",
       "    <tr>\n",
       "      <th>1</th>\n",
       "      <td>OSA symptoms</td>\n",
       "      <td>Snoring</td>\n",
       "      <td>S002</td>\n",
       "      <td>Loud Snoring</td>\n",
       "      <td>1</td>\n",
       "      <td>0</td>\n",
       "      <td>1</td>\n",
       "      <td>1</td>\n",
       "      <td>1</td>\n",
       "      <td>0</td>\n",
       "      <td>1</td>\n",
       "      <td>1</td>\n",
       "      <td>1</td>\n",
       "      <td>0</td>\n",
       "      <td>2</td>\n",
       "    </tr>\n",
       "    <tr>\n",
       "      <th>2</th>\n",
       "      <td>OSA symptoms</td>\n",
       "      <td>Breath abnormalities-related complaints</td>\n",
       "      <td>S003</td>\n",
       "      <td>Self-complaints of breath abnormalities</td>\n",
       "      <td>0</td>\n",
       "      <td>0</td>\n",
       "      <td>0</td>\n",
       "      <td>0</td>\n",
       "      <td>0</td>\n",
       "      <td>0</td>\n",
       "      <td>2</td>\n",
       "      <td>0</td>\n",
       "      <td>1</td>\n",
       "      <td>0</td>\n",
       "      <td>0</td>\n",
       "    </tr>\n",
       "    <tr>\n",
       "      <th>3</th>\n",
       "      <td>OSA symptoms</td>\n",
       "      <td>Breath abnormalities-related complaints</td>\n",
       "      <td>S004</td>\n",
       "      <td>Breath abnormalities complaints reported by other</td>\n",
       "      <td>0</td>\n",
       "      <td>0</td>\n",
       "      <td>0</td>\n",
       "      <td>0</td>\n",
       "      <td>1</td>\n",
       "      <td>1</td>\n",
       "      <td>0</td>\n",
       "      <td>0</td>\n",
       "      <td>0</td>\n",
       "      <td>0</td>\n",
       "      <td>0</td>\n",
       "    </tr>\n",
       "    <tr>\n",
       "      <th>4</th>\n",
       "      <td>OSA symptoms</td>\n",
       "      <td>Breath abnormalities-related complaints</td>\n",
       "      <td>S005</td>\n",
       "      <td>Sweating</td>\n",
       "      <td>0</td>\n",
       "      <td>0</td>\n",
       "      <td>0</td>\n",
       "      <td>0</td>\n",
       "      <td>0</td>\n",
       "      <td>0</td>\n",
       "      <td>0</td>\n",
       "      <td>0</td>\n",
       "      <td>1</td>\n",
       "      <td>0</td>\n",
       "      <td>0</td>\n",
       "    </tr>\n",
       "  </tbody>\n",
       "</table>\n",
       "</div>"
      ],
      "text/plain": [
       "       Category                              Subcategory    Ab  \\\n",
       "0  OSA symptoms                                  Snoring  S001   \n",
       "1  OSA symptoms                                  Snoring  S002   \n",
       "2  OSA symptoms  Breath abnormalities-related complaints  S003   \n",
       "3  OSA symptoms  Breath abnormalities-related complaints  S004   \n",
       "4  OSA symptoms  Breath abnormalities-related complaints  S005   \n",
       "\n",
       "                                             Symptom  GOAL  NoSAS  STOP  \\\n",
       "0                                            Snoring     0      1     0   \n",
       "1                                       Loud Snoring     1      0     1   \n",
       "2            Self-complaints of breath abnormalities     0      0     0   \n",
       "3  Breath abnormalities complaints reported by other     0      0     0   \n",
       "4                                           Sweating     0      0     0   \n",
       "\n",
       "   STOP-Bang  Berlin  OSA 50  ASA  Wisconsin Q  SA-SDQ  Haraldsson  AS  \n",
       "0          0       1       0    1            1       0           1   2  \n",
       "1          1       1       0    1            1       1           0   2  \n",
       "2          0       0       0    2            0       1           0   0  \n",
       "3          0       1       1    0            0       0           0   0  \n",
       "4          0       0       0    0            0       1           0   0  "
      ]
     },
     "execution_count": 127,
     "metadata": {},
     "output_type": "execute_result"
    }
   ],
   "source": [
    "# uncomment the analysis you want to run\n",
    "#experiment = \"Fried2017\"\n",
    "#experiment = \"Gauld2023_sleep_content_analysis\"\n",
    "experiment = \"Gauld2023_OSAS_content_analysis\"\n",
    "#experiment = \"Custom\"\n",
    "\n",
    "if experiment == \"Fried2017\" : \n",
    "    df = pd.read_excel(\"./data/fried2017_reformatted.xlsx\") # reproduction of the seminal paper of Fried et al. https://doi.org/10.1016/j.jad.2016.10.019\n",
    "elif experiment==\"Gauld2023_sleep_content_analysis\" : \n",
    "    df = pd.read_excel(\"./data/gauld2023_sleep_content_analysis_processed.xlsx\")\n",
    "elif experiment==\"Gauld2023_OSAS_content_analysis\" : \n",
    "    df = pd.read_excel(\"./data/gauld2023_OSAS_data_processed.xlsx\")\n",
    "else :\n",
    "    import_file = \"./your_excel_file.xlsx\"\n",
    "    df = pd.read_excel(import_file)\n",
    "    \n",
    "df.rename(columns={df.columns[0]: \"Category\",df.columns[1]: \"Subcategory\", df.columns[2]: \"Ab\", df.columns[3]: \"Symptom\"}, inplace=True) #replacing the name of the three first columns !\n",
    "df.sort_values(by=\"Ab\",inplace = True) # sort the dataset by abbreviation\n",
    "df.head() # print the 5 first rows"
   ]
  },
  {
   "attachments": {},
   "cell_type": "markdown",
   "metadata": {
    "id": "iK8hO_homX6E"
   },
   "source": [
    "## Reference classifications\n",
    "In the `Gauld2023_sleep_content_analysis` paper, we compare the symptoms of the questionnaires with two references classification (ICSD and DSM). If you have reference columns that you want to compare with but you do not want to compute metrics on, please put them in this table. Otherwise, just let this list empty [ ].\n",
    "\n",
    "⚠️ the name of the references should match PERFECTLY the name of the columns they are in (including uppercases and lowercases, or spaces) ⚠️"
   ]
  },
  {
   "cell_type": "code",
   "execution_count": 128,
   "metadata": {
    "id": "L0xFjA4qmXAT"
   },
   "outputs": [],
   "source": [
    "if experiment == \"Fried2017\" or experiment == \"Gauld2023_OSAS_content_analysis\" :\n",
    "    references = []\n",
    "elif experiment == \"Gauld2023_sleep_content_analysis\": \n",
    "    references = ['ICSD', 'DSM']\n",
    "else : \n",
    "    references = ['ref1', 'ref2', '...'] #change here if you want to compare symmptoms of questionnaire with reference classifications\n",
    "\n",
    "header = ['Category','Subcategory', 'Ab', 'Symptom']+references"
   ]
  },
  {
   "cell_type": "markdown",
   "metadata": {
    "id": "jLT3DLDxlaHg"
   },
   "source": [
    "# Ordering questionnaires and symptoms"
   ]
  },
  {
   "cell_type": "markdown",
   "metadata": {
    "id": "H_04et79Wp_4"
   },
   "source": [
    "First, the questionnaires are classified from having the higher number of symptoms to the lowest."
   ]
  },
  {
   "cell_type": "code",
   "execution_count": 129,
   "metadata": {
    "colab": {
     "base_uri": "https://localhost:8080/",
     "height": 206
    },
    "id": "FVKMzpWST5UP",
    "outputId": "e9ef71c3-a669-43ac-97cf-e893a7b4ae33"
   },
   "outputs": [
    {
     "data": {
      "text/html": [
       "<div>\n",
       "<style scoped>\n",
       "    .dataframe tbody tr th:only-of-type {\n",
       "        vertical-align: middle;\n",
       "    }\n",
       "\n",
       "    .dataframe tbody tr th {\n",
       "        vertical-align: top;\n",
       "    }\n",
       "\n",
       "    .dataframe thead th {\n",
       "        text-align: right;\n",
       "    }\n",
       "</style>\n",
       "<table border=\"1\" class=\"dataframe\">\n",
       "  <thead>\n",
       "    <tr style=\"text-align: right;\">\n",
       "      <th></th>\n",
       "      <th>Category</th>\n",
       "      <th>Subcategory</th>\n",
       "      <th>Ab</th>\n",
       "      <th>Symptom</th>\n",
       "      <th>ASA</th>\n",
       "      <th>SA-SDQ</th>\n",
       "      <th>STOP-Bang</th>\n",
       "      <th>Berlin</th>\n",
       "      <th>Haraldsson</th>\n",
       "      <th>NoSAS</th>\n",
       "      <th>STOP</th>\n",
       "      <th>GOAL</th>\n",
       "      <th>OSA 50</th>\n",
       "      <th>AS</th>\n",
       "      <th>Wisconsin Q</th>\n",
       "    </tr>\n",
       "  </thead>\n",
       "  <tbody>\n",
       "    <tr>\n",
       "      <th>0</th>\n",
       "      <td>OSA symptoms</td>\n",
       "      <td>Snoring</td>\n",
       "      <td>S001</td>\n",
       "      <td>Snoring</td>\n",
       "      <td>1</td>\n",
       "      <td>0</td>\n",
       "      <td>0</td>\n",
       "      <td>1</td>\n",
       "      <td>1</td>\n",
       "      <td>1</td>\n",
       "      <td>0</td>\n",
       "      <td>0</td>\n",
       "      <td>0</td>\n",
       "      <td>2</td>\n",
       "      <td>1</td>\n",
       "    </tr>\n",
       "    <tr>\n",
       "      <th>1</th>\n",
       "      <td>OSA symptoms</td>\n",
       "      <td>Snoring</td>\n",
       "      <td>S002</td>\n",
       "      <td>Loud Snoring</td>\n",
       "      <td>1</td>\n",
       "      <td>1</td>\n",
       "      <td>1</td>\n",
       "      <td>1</td>\n",
       "      <td>0</td>\n",
       "      <td>0</td>\n",
       "      <td>1</td>\n",
       "      <td>1</td>\n",
       "      <td>0</td>\n",
       "      <td>2</td>\n",
       "      <td>1</td>\n",
       "    </tr>\n",
       "    <tr>\n",
       "      <th>2</th>\n",
       "      <td>OSA symptoms</td>\n",
       "      <td>Breath abnormalities-related complaints</td>\n",
       "      <td>S003</td>\n",
       "      <td>Self-complaints of breath abnormalities</td>\n",
       "      <td>2</td>\n",
       "      <td>1</td>\n",
       "      <td>0</td>\n",
       "      <td>0</td>\n",
       "      <td>0</td>\n",
       "      <td>0</td>\n",
       "      <td>0</td>\n",
       "      <td>0</td>\n",
       "      <td>0</td>\n",
       "      <td>0</td>\n",
       "      <td>0</td>\n",
       "    </tr>\n",
       "    <tr>\n",
       "      <th>3</th>\n",
       "      <td>OSA symptoms</td>\n",
       "      <td>Breath abnormalities-related complaints</td>\n",
       "      <td>S004</td>\n",
       "      <td>Breath abnormalities complaints reported by other</td>\n",
       "      <td>0</td>\n",
       "      <td>0</td>\n",
       "      <td>0</td>\n",
       "      <td>1</td>\n",
       "      <td>0</td>\n",
       "      <td>0</td>\n",
       "      <td>0</td>\n",
       "      <td>0</td>\n",
       "      <td>1</td>\n",
       "      <td>0</td>\n",
       "      <td>0</td>\n",
       "    </tr>\n",
       "    <tr>\n",
       "      <th>4</th>\n",
       "      <td>OSA symptoms</td>\n",
       "      <td>Breath abnormalities-related complaints</td>\n",
       "      <td>S005</td>\n",
       "      <td>Sweating</td>\n",
       "      <td>0</td>\n",
       "      <td>1</td>\n",
       "      <td>0</td>\n",
       "      <td>0</td>\n",
       "      <td>0</td>\n",
       "      <td>0</td>\n",
       "      <td>0</td>\n",
       "      <td>0</td>\n",
       "      <td>0</td>\n",
       "      <td>0</td>\n",
       "      <td>0</td>\n",
       "    </tr>\n",
       "  </tbody>\n",
       "</table>\n",
       "</div>"
      ],
      "text/plain": [
       "       Category                              Subcategory    Ab  \\\n",
       "0  OSA symptoms                                  Snoring  S001   \n",
       "1  OSA symptoms                                  Snoring  S002   \n",
       "2  OSA symptoms  Breath abnormalities-related complaints  S003   \n",
       "3  OSA symptoms  Breath abnormalities-related complaints  S004   \n",
       "4  OSA symptoms  Breath abnormalities-related complaints  S005   \n",
       "\n",
       "                                             Symptom  ASA  SA-SDQ  STOP-Bang  \\\n",
       "0                                            Snoring    1       0          0   \n",
       "1                                       Loud Snoring    1       1          1   \n",
       "2            Self-complaints of breath abnormalities    2       1          0   \n",
       "3  Breath abnormalities complaints reported by other    0       0          0   \n",
       "4                                           Sweating    0       1          0   \n",
       "\n",
       "   Berlin  Haraldsson  NoSAS  STOP  GOAL  OSA 50  AS  Wisconsin Q  \n",
       "0       1           1      1     0     0       0   2            1  \n",
       "1       1           0      0     1     1       0   2            1  \n",
       "2       0           0      0     0     0       0   0            0  \n",
       "3       1           0      0     0     0       1   0            0  \n",
       "4       0           0      0     0     0       0   0            0  "
      ]
     },
     "execution_count": 129,
     "metadata": {},
     "output_type": "execute_result"
    }
   ],
   "source": [
    "sums = (df.drop(header,axis = 1)>=1).sum(axis = 0) # sum of the number of symptom by questionnaire\n",
    "col = list(sums.sort_values(ascending=False).index.to_numpy()) #we create the list of columns\n",
    "col = header + col\n",
    "# we apply the order of columns to the dataset\n",
    "df = df.loc[:, col]\n",
    "df.head()"
   ]
  },
  {
   "cell_type": "code",
   "execution_count": 130,
   "metadata": {
    "colab": {
     "base_uri": "https://localhost:8080/",
     "height": 1000
    },
    "id": "_2xRL-9HX5ep",
    "outputId": "4e60b5a5-6d86-4946-e860-7cd5dc4fb992"
   },
   "outputs": [
    {
     "data": {
      "text/html": [
       "<div>\n",
       "<style scoped>\n",
       "    .dataframe tbody tr th:only-of-type {\n",
       "        vertical-align: middle;\n",
       "    }\n",
       "\n",
       "    .dataframe tbody tr th {\n",
       "        vertical-align: top;\n",
       "    }\n",
       "\n",
       "    .dataframe thead th {\n",
       "        text-align: right;\n",
       "    }\n",
       "</style>\n",
       "<table border=\"1\" class=\"dataframe\">\n",
       "  <thead>\n",
       "    <tr style=\"text-align: right;\">\n",
       "      <th></th>\n",
       "      <th>Category</th>\n",
       "      <th>Subcategory</th>\n",
       "      <th>Ab</th>\n",
       "      <th>Symptom</th>\n",
       "      <th>ASA</th>\n",
       "      <th>SA-SDQ</th>\n",
       "      <th>STOP-Bang</th>\n",
       "      <th>Berlin</th>\n",
       "      <th>Haraldsson</th>\n",
       "      <th>NoSAS</th>\n",
       "      <th>STOP</th>\n",
       "      <th>GOAL</th>\n",
       "      <th>OSA 50</th>\n",
       "      <th>AS</th>\n",
       "      <th>Wisconsin Q</th>\n",
       "      <th>sum_symptoms</th>\n",
       "    </tr>\n",
       "  </thead>\n",
       "  <tbody>\n",
       "    <tr>\n",
       "      <th>5</th>\n",
       "      <td>OSA symptoms</td>\n",
       "      <td>Breath abnormalities observations</td>\n",
       "      <td>S006</td>\n",
       "      <td>Stop breathing observations</td>\n",
       "      <td>1</td>\n",
       "      <td>1</td>\n",
       "      <td>1</td>\n",
       "      <td>1</td>\n",
       "      <td>1</td>\n",
       "      <td>0</td>\n",
       "      <td>1</td>\n",
       "      <td>0</td>\n",
       "      <td>1</td>\n",
       "      <td>1</td>\n",
       "      <td>1</td>\n",
       "      <td>9</td>\n",
       "    </tr>\n",
       "    <tr>\n",
       "      <th>1</th>\n",
       "      <td>OSA symptoms</td>\n",
       "      <td>Snoring</td>\n",
       "      <td>S002</td>\n",
       "      <td>Loud Snoring</td>\n",
       "      <td>1</td>\n",
       "      <td>1</td>\n",
       "      <td>1</td>\n",
       "      <td>1</td>\n",
       "      <td>0</td>\n",
       "      <td>0</td>\n",
       "      <td>1</td>\n",
       "      <td>1</td>\n",
       "      <td>0</td>\n",
       "      <td>2</td>\n",
       "      <td>1</td>\n",
       "      <td>8</td>\n",
       "    </tr>\n",
       "    <tr>\n",
       "      <th>0</th>\n",
       "      <td>OSA symptoms</td>\n",
       "      <td>Snoring</td>\n",
       "      <td>S001</td>\n",
       "      <td>Snoring</td>\n",
       "      <td>1</td>\n",
       "      <td>0</td>\n",
       "      <td>0</td>\n",
       "      <td>1</td>\n",
       "      <td>1</td>\n",
       "      <td>1</td>\n",
       "      <td>0</td>\n",
       "      <td>0</td>\n",
       "      <td>0</td>\n",
       "      <td>2</td>\n",
       "      <td>1</td>\n",
       "      <td>6</td>\n",
       "    </tr>\n",
       "    <tr>\n",
       "      <th>19</th>\n",
       "      <td>Clinical characteristics</td>\n",
       "      <td>Anthropometric</td>\n",
       "      <td>S020</td>\n",
       "      <td>BMI</td>\n",
       "      <td>1</td>\n",
       "      <td>1</td>\n",
       "      <td>1</td>\n",
       "      <td>1</td>\n",
       "      <td>0</td>\n",
       "      <td>1</td>\n",
       "      <td>0</td>\n",
       "      <td>1</td>\n",
       "      <td>0</td>\n",
       "      <td>0</td>\n",
       "      <td>0</td>\n",
       "      <td>6</td>\n",
       "    </tr>\n",
       "    <tr>\n",
       "      <th>9</th>\n",
       "      <td>Sleep-related symptoms</td>\n",
       "      <td>Sleepiness</td>\n",
       "      <td>S010</td>\n",
       "      <td>Fatigue</td>\n",
       "      <td>2</td>\n",
       "      <td>0</td>\n",
       "      <td>2</td>\n",
       "      <td>1</td>\n",
       "      <td>2</td>\n",
       "      <td>0</td>\n",
       "      <td>2</td>\n",
       "      <td>0</td>\n",
       "      <td>0</td>\n",
       "      <td>0</td>\n",
       "      <td>0</td>\n",
       "      <td>5</td>\n",
       "    </tr>\n",
       "  </tbody>\n",
       "</table>\n",
       "</div>"
      ],
      "text/plain": [
       "                    Category                        Subcategory    Ab  \\\n",
       "5               OSA symptoms  Breath abnormalities observations  S006   \n",
       "1               OSA symptoms                            Snoring  S002   \n",
       "0               OSA symptoms                            Snoring  S001   \n",
       "19  Clinical characteristics                     Anthropometric  S020   \n",
       "9     Sleep-related symptoms                         Sleepiness  S010   \n",
       "\n",
       "                        Symptom  ASA  SA-SDQ  STOP-Bang  Berlin  Haraldsson  \\\n",
       "5   Stop breathing observations    1       1          1       1           1   \n",
       "1                  Loud Snoring    1       1          1       1           0   \n",
       "0                       Snoring    1       0          0       1           1   \n",
       "19                          BMI    1       1          1       1           0   \n",
       "9                       Fatigue    2       0          2       1           2   \n",
       "\n",
       "    NoSAS  STOP  GOAL  OSA 50  AS  Wisconsin Q  sum_symptoms  \n",
       "5       0     1     0       1   1            1             9  \n",
       "1       0     1     1       0   2            1             8  \n",
       "0       1     0     0       0   2            1             6  \n",
       "19      1     0     1       0   0            0             6  \n",
       "9       0     2     0       0   0            0             5  "
      ]
     },
     "execution_count": 130,
     "metadata": {},
     "output_type": "execute_result"
    }
   ],
   "source": [
    "#order of symptoms: most common first (independtly from 'specific' or 'compound').\n",
    "df['sum_symptoms'] = (df.drop(header,axis = 1)>=1).sum(axis = 1)\n",
    "df.sort_values(by=['sum_symptoms','Ab'], ascending = [False,True], inplace = True)\n",
    "df.head()"
   ]
  },
  {
   "attachments": {},
   "cell_type": "markdown",
   "metadata": {
    "id": "dgGMcg8IvzX6"
   },
   "source": [
    "---\n",
    "# 1. Analysis of the number and frequency of symptoms"
   ]
  },
  {
   "cell_type": "markdown",
   "metadata": {},
   "source": [
    "In a first step, we analyse the frequency of the symptoms."
   ]
  },
  {
   "attachments": {},
   "cell_type": "markdown",
   "metadata": {
    "id": "mfyJzGAMqhTZ"
   },
   "source": [
    "## Histogram of number of symptoms"
   ]
  },
  {
   "attachments": {},
   "cell_type": "markdown",
   "metadata": {},
   "source": [
    "### Sorted by number of occurences"
   ]
  },
  {
   "cell_type": "code",
   "execution_count": 131,
   "metadata": {
    "colab": {
     "base_uri": "https://localhost:8080/",
     "height": 537
    },
    "id": "wFHrczKHqTEt",
    "outputId": "9bf8dc8e-5134-4ebf-ab10-f2823fe294ad"
   },
   "outputs": [
    {
     "data": {
      "application/vnd.plotly.v1+json": {
       "config": {
        "plotlyServerURL": "https://plotly.com"
       },
       "data": [
        {
         "alignmentgroup": "True",
         "hovertemplate": "Category=OSA symptoms<br>Symptom=%{x}<br>Number of questionnaires=%{y}<extra></extra>",
         "legendgroup": "OSA symptoms",
         "marker": {
          "color": "rgb(102, 197, 204)",
          "pattern": {
           "shape": ""
          }
         },
         "name": "OSA symptoms",
         "offsetgroup": "OSA symptoms",
         "orientation": "v",
         "showlegend": true,
         "textposition": "auto",
         "type": "bar",
         "x": [
          "Stop breathing observations",
          "Loud Snoring",
          "Snoring",
          "Self-complaints of breath abnormalities",
          "Breath abnormalities complaints reported by other",
          "Sweating",
          "Positional",
          "Alcohol"
         ],
         "xaxis": "x",
         "y": [
          9,
          8,
          6,
          2,
          2,
          1,
          1,
          1
         ],
         "yaxis": "y"
        },
        {
         "alignmentgroup": "True",
         "hovertemplate": "Category=Sleep-related symptoms<br>Symptom=%{x}<br>Number of questionnaires=%{y}<extra></extra>",
         "legendgroup": "Sleep-related symptoms",
         "marker": {
          "color": "rgb(246, 207, 113)",
          "pattern": {
           "shape": ""
          }
         },
         "name": "Sleep-related symptoms",
         "offsetgroup": "Sleep-related symptoms",
         "orientation": "v",
         "showlegend": true,
         "textposition": "auto",
         "type": "bar",
         "x": [
          "Fatigue",
          "Daytime sleepiness",
          "Awakening",
          "Sleepiness at the wheel",
          "Functionning complaints",
          "Insomnia maintaining",
          "Insomnia initiating"
         ],
         "xaxis": "x",
         "y": [
          5,
          4,
          3,
          2,
          1,
          1,
          1
         ],
         "yaxis": "y"
        },
        {
         "alignmentgroup": "True",
         "hovertemplate": "Category=Clinical characteristics<br>Symptom=%{x}<br>Number of questionnaires=%{y}<extra></extra>",
         "legendgroup": "Clinical characteristics",
         "marker": {
          "color": "rgb(248, 156, 116)",
          "pattern": {
           "shape": ""
          }
         },
         "name": "Clinical characteristics",
         "offsetgroup": "Clinical characteristics",
         "orientation": "v",
         "showlegend": true,
         "textposition": "auto",
         "type": "bar",
         "x": [
          "BMI",
          "Age",
          "HTA",
          "Sex",
          "Neck circumference",
          "Amygdala/Toncil",
          "Waist circumference ",
          "Tobacco",
          "Nose",
          "Craniofacial"
         ],
         "xaxis": "x",
         "y": [
          6,
          5,
          4,
          3,
          3,
          2,
          1,
          1,
          1,
          1
         ],
         "yaxis": "y"
        }
       ],
       "layout": {
        "autosize": false,
        "barmode": "relative",
        "height": 600,
        "legend": {
         "title": {
          "text": "Category"
         },
         "tracegroupgap": 0
        },
        "margin": {
         "t": 60
        },
        "template": {
         "data": {
          "bar": [
           {
            "error_x": {
             "color": "#2a3f5f"
            },
            "error_y": {
             "color": "#2a3f5f"
            },
            "marker": {
             "line": {
              "color": "#E5ECF6",
              "width": 0.5
             },
             "pattern": {
              "fillmode": "overlay",
              "size": 10,
              "solidity": 0.2
             }
            },
            "type": "bar"
           }
          ],
          "barpolar": [
           {
            "marker": {
             "line": {
              "color": "#E5ECF6",
              "width": 0.5
             },
             "pattern": {
              "fillmode": "overlay",
              "size": 10,
              "solidity": 0.2
             }
            },
            "type": "barpolar"
           }
          ],
          "carpet": [
           {
            "aaxis": {
             "endlinecolor": "#2a3f5f",
             "gridcolor": "white",
             "linecolor": "white",
             "minorgridcolor": "white",
             "startlinecolor": "#2a3f5f"
            },
            "baxis": {
             "endlinecolor": "#2a3f5f",
             "gridcolor": "white",
             "linecolor": "white",
             "minorgridcolor": "white",
             "startlinecolor": "#2a3f5f"
            },
            "type": "carpet"
           }
          ],
          "choropleth": [
           {
            "colorbar": {
             "outlinewidth": 0,
             "ticks": ""
            },
            "type": "choropleth"
           }
          ],
          "contour": [
           {
            "colorbar": {
             "outlinewidth": 0,
             "ticks": ""
            },
            "colorscale": [
             [
              0,
              "#0d0887"
             ],
             [
              0.1111111111111111,
              "#46039f"
             ],
             [
              0.2222222222222222,
              "#7201a8"
             ],
             [
              0.3333333333333333,
              "#9c179e"
             ],
             [
              0.4444444444444444,
              "#bd3786"
             ],
             [
              0.5555555555555556,
              "#d8576b"
             ],
             [
              0.6666666666666666,
              "#ed7953"
             ],
             [
              0.7777777777777778,
              "#fb9f3a"
             ],
             [
              0.8888888888888888,
              "#fdca26"
             ],
             [
              1,
              "#f0f921"
             ]
            ],
            "type": "contour"
           }
          ],
          "contourcarpet": [
           {
            "colorbar": {
             "outlinewidth": 0,
             "ticks": ""
            },
            "type": "contourcarpet"
           }
          ],
          "heatmap": [
           {
            "colorbar": {
             "outlinewidth": 0,
             "ticks": ""
            },
            "colorscale": [
             [
              0,
              "#0d0887"
             ],
             [
              0.1111111111111111,
              "#46039f"
             ],
             [
              0.2222222222222222,
              "#7201a8"
             ],
             [
              0.3333333333333333,
              "#9c179e"
             ],
             [
              0.4444444444444444,
              "#bd3786"
             ],
             [
              0.5555555555555556,
              "#d8576b"
             ],
             [
              0.6666666666666666,
              "#ed7953"
             ],
             [
              0.7777777777777778,
              "#fb9f3a"
             ],
             [
              0.8888888888888888,
              "#fdca26"
             ],
             [
              1,
              "#f0f921"
             ]
            ],
            "type": "heatmap"
           }
          ],
          "heatmapgl": [
           {
            "colorbar": {
             "outlinewidth": 0,
             "ticks": ""
            },
            "colorscale": [
             [
              0,
              "#0d0887"
             ],
             [
              0.1111111111111111,
              "#46039f"
             ],
             [
              0.2222222222222222,
              "#7201a8"
             ],
             [
              0.3333333333333333,
              "#9c179e"
             ],
             [
              0.4444444444444444,
              "#bd3786"
             ],
             [
              0.5555555555555556,
              "#d8576b"
             ],
             [
              0.6666666666666666,
              "#ed7953"
             ],
             [
              0.7777777777777778,
              "#fb9f3a"
             ],
             [
              0.8888888888888888,
              "#fdca26"
             ],
             [
              1,
              "#f0f921"
             ]
            ],
            "type": "heatmapgl"
           }
          ],
          "histogram": [
           {
            "marker": {
             "pattern": {
              "fillmode": "overlay",
              "size": 10,
              "solidity": 0.2
             }
            },
            "type": "histogram"
           }
          ],
          "histogram2d": [
           {
            "colorbar": {
             "outlinewidth": 0,
             "ticks": ""
            },
            "colorscale": [
             [
              0,
              "#0d0887"
             ],
             [
              0.1111111111111111,
              "#46039f"
             ],
             [
              0.2222222222222222,
              "#7201a8"
             ],
             [
              0.3333333333333333,
              "#9c179e"
             ],
             [
              0.4444444444444444,
              "#bd3786"
             ],
             [
              0.5555555555555556,
              "#d8576b"
             ],
             [
              0.6666666666666666,
              "#ed7953"
             ],
             [
              0.7777777777777778,
              "#fb9f3a"
             ],
             [
              0.8888888888888888,
              "#fdca26"
             ],
             [
              1,
              "#f0f921"
             ]
            ],
            "type": "histogram2d"
           }
          ],
          "histogram2dcontour": [
           {
            "colorbar": {
             "outlinewidth": 0,
             "ticks": ""
            },
            "colorscale": [
             [
              0,
              "#0d0887"
             ],
             [
              0.1111111111111111,
              "#46039f"
             ],
             [
              0.2222222222222222,
              "#7201a8"
             ],
             [
              0.3333333333333333,
              "#9c179e"
             ],
             [
              0.4444444444444444,
              "#bd3786"
             ],
             [
              0.5555555555555556,
              "#d8576b"
             ],
             [
              0.6666666666666666,
              "#ed7953"
             ],
             [
              0.7777777777777778,
              "#fb9f3a"
             ],
             [
              0.8888888888888888,
              "#fdca26"
             ],
             [
              1,
              "#f0f921"
             ]
            ],
            "type": "histogram2dcontour"
           }
          ],
          "mesh3d": [
           {
            "colorbar": {
             "outlinewidth": 0,
             "ticks": ""
            },
            "type": "mesh3d"
           }
          ],
          "parcoords": [
           {
            "line": {
             "colorbar": {
              "outlinewidth": 0,
              "ticks": ""
             }
            },
            "type": "parcoords"
           }
          ],
          "pie": [
           {
            "automargin": true,
            "type": "pie"
           }
          ],
          "scatter": [
           {
            "fillpattern": {
             "fillmode": "overlay",
             "size": 10,
             "solidity": 0.2
            },
            "type": "scatter"
           }
          ],
          "scatter3d": [
           {
            "line": {
             "colorbar": {
              "outlinewidth": 0,
              "ticks": ""
             }
            },
            "marker": {
             "colorbar": {
              "outlinewidth": 0,
              "ticks": ""
             }
            },
            "type": "scatter3d"
           }
          ],
          "scattercarpet": [
           {
            "marker": {
             "colorbar": {
              "outlinewidth": 0,
              "ticks": ""
             }
            },
            "type": "scattercarpet"
           }
          ],
          "scattergeo": [
           {
            "marker": {
             "colorbar": {
              "outlinewidth": 0,
              "ticks": ""
             }
            },
            "type": "scattergeo"
           }
          ],
          "scattergl": [
           {
            "marker": {
             "colorbar": {
              "outlinewidth": 0,
              "ticks": ""
             }
            },
            "type": "scattergl"
           }
          ],
          "scattermapbox": [
           {
            "marker": {
             "colorbar": {
              "outlinewidth": 0,
              "ticks": ""
             }
            },
            "type": "scattermapbox"
           }
          ],
          "scatterpolar": [
           {
            "marker": {
             "colorbar": {
              "outlinewidth": 0,
              "ticks": ""
             }
            },
            "type": "scatterpolar"
           }
          ],
          "scatterpolargl": [
           {
            "marker": {
             "colorbar": {
              "outlinewidth": 0,
              "ticks": ""
             }
            },
            "type": "scatterpolargl"
           }
          ],
          "scatterternary": [
           {
            "marker": {
             "colorbar": {
              "outlinewidth": 0,
              "ticks": ""
             }
            },
            "type": "scatterternary"
           }
          ],
          "surface": [
           {
            "colorbar": {
             "outlinewidth": 0,
             "ticks": ""
            },
            "colorscale": [
             [
              0,
              "#0d0887"
             ],
             [
              0.1111111111111111,
              "#46039f"
             ],
             [
              0.2222222222222222,
              "#7201a8"
             ],
             [
              0.3333333333333333,
              "#9c179e"
             ],
             [
              0.4444444444444444,
              "#bd3786"
             ],
             [
              0.5555555555555556,
              "#d8576b"
             ],
             [
              0.6666666666666666,
              "#ed7953"
             ],
             [
              0.7777777777777778,
              "#fb9f3a"
             ],
             [
              0.8888888888888888,
              "#fdca26"
             ],
             [
              1,
              "#f0f921"
             ]
            ],
            "type": "surface"
           }
          ],
          "table": [
           {
            "cells": {
             "fill": {
              "color": "#EBF0F8"
             },
             "line": {
              "color": "white"
             }
            },
            "header": {
             "fill": {
              "color": "#C8D4E3"
             },
             "line": {
              "color": "white"
             }
            },
            "type": "table"
           }
          ]
         },
         "layout": {
          "annotationdefaults": {
           "arrowcolor": "#2a3f5f",
           "arrowhead": 0,
           "arrowwidth": 1
          },
          "autotypenumbers": "strict",
          "coloraxis": {
           "colorbar": {
            "outlinewidth": 0,
            "ticks": ""
           }
          },
          "colorscale": {
           "diverging": [
            [
             0,
             "#8e0152"
            ],
            [
             0.1,
             "#c51b7d"
            ],
            [
             0.2,
             "#de77ae"
            ],
            [
             0.3,
             "#f1b6da"
            ],
            [
             0.4,
             "#fde0ef"
            ],
            [
             0.5,
             "#f7f7f7"
            ],
            [
             0.6,
             "#e6f5d0"
            ],
            [
             0.7,
             "#b8e186"
            ],
            [
             0.8,
             "#7fbc41"
            ],
            [
             0.9,
             "#4d9221"
            ],
            [
             1,
             "#276419"
            ]
           ],
           "sequential": [
            [
             0,
             "#0d0887"
            ],
            [
             0.1111111111111111,
             "#46039f"
            ],
            [
             0.2222222222222222,
             "#7201a8"
            ],
            [
             0.3333333333333333,
             "#9c179e"
            ],
            [
             0.4444444444444444,
             "#bd3786"
            ],
            [
             0.5555555555555556,
             "#d8576b"
            ],
            [
             0.6666666666666666,
             "#ed7953"
            ],
            [
             0.7777777777777778,
             "#fb9f3a"
            ],
            [
             0.8888888888888888,
             "#fdca26"
            ],
            [
             1,
             "#f0f921"
            ]
           ],
           "sequentialminus": [
            [
             0,
             "#0d0887"
            ],
            [
             0.1111111111111111,
             "#46039f"
            ],
            [
             0.2222222222222222,
             "#7201a8"
            ],
            [
             0.3333333333333333,
             "#9c179e"
            ],
            [
             0.4444444444444444,
             "#bd3786"
            ],
            [
             0.5555555555555556,
             "#d8576b"
            ],
            [
             0.6666666666666666,
             "#ed7953"
            ],
            [
             0.7777777777777778,
             "#fb9f3a"
            ],
            [
             0.8888888888888888,
             "#fdca26"
            ],
            [
             1,
             "#f0f921"
            ]
           ]
          },
          "colorway": [
           "#636efa",
           "#EF553B",
           "#00cc96",
           "#ab63fa",
           "#FFA15A",
           "#19d3f3",
           "#FF6692",
           "#B6E880",
           "#FF97FF",
           "#FECB52"
          ],
          "font": {
           "color": "#2a3f5f"
          },
          "geo": {
           "bgcolor": "white",
           "lakecolor": "white",
           "landcolor": "#E5ECF6",
           "showlakes": true,
           "showland": true,
           "subunitcolor": "white"
          },
          "hoverlabel": {
           "align": "left"
          },
          "hovermode": "closest",
          "mapbox": {
           "style": "light"
          },
          "paper_bgcolor": "white",
          "plot_bgcolor": "#E5ECF6",
          "polar": {
           "angularaxis": {
            "gridcolor": "white",
            "linecolor": "white",
            "ticks": ""
           },
           "bgcolor": "#E5ECF6",
           "radialaxis": {
            "gridcolor": "white",
            "linecolor": "white",
            "ticks": ""
           }
          },
          "scene": {
           "xaxis": {
            "backgroundcolor": "#E5ECF6",
            "gridcolor": "white",
            "gridwidth": 2,
            "linecolor": "white",
            "showbackground": true,
            "ticks": "",
            "zerolinecolor": "white"
           },
           "yaxis": {
            "backgroundcolor": "#E5ECF6",
            "gridcolor": "white",
            "gridwidth": 2,
            "linecolor": "white",
            "showbackground": true,
            "ticks": "",
            "zerolinecolor": "white"
           },
           "zaxis": {
            "backgroundcolor": "#E5ECF6",
            "gridcolor": "white",
            "gridwidth": 2,
            "linecolor": "white",
            "showbackground": true,
            "ticks": "",
            "zerolinecolor": "white"
           }
          },
          "shapedefaults": {
           "line": {
            "color": "#2a3f5f"
           }
          },
          "ternary": {
           "aaxis": {
            "gridcolor": "white",
            "linecolor": "white",
            "ticks": ""
           },
           "baxis": {
            "gridcolor": "white",
            "linecolor": "white",
            "ticks": ""
           },
           "bgcolor": "#E5ECF6",
           "caxis": {
            "gridcolor": "white",
            "linecolor": "white",
            "ticks": ""
           }
          },
          "title": {
           "x": 0.05
          },
          "xaxis": {
           "automargin": true,
           "gridcolor": "white",
           "linecolor": "white",
           "ticks": "",
           "title": {
            "standoff": 15
           },
           "zerolinecolor": "white",
           "zerolinewidth": 2
          },
          "yaxis": {
           "automargin": true,
           "gridcolor": "white",
           "linecolor": "white",
           "ticks": "",
           "title": {
            "standoff": 15
           },
           "zerolinecolor": "white",
           "zerolinewidth": 2
          }
         }
        },
        "width": 1500,
        "xaxis": {
         "anchor": "y",
         "categoryarray": [
          "Stop breathing observations",
          "Loud Snoring",
          "Snoring",
          "BMI",
          "Fatigue",
          "Age",
          "Daytime sleepiness",
          "HTA",
          "Awakening",
          "Sex",
          "Neck circumference",
          "Self-complaints of breath abnormalities",
          "Breath abnormalities complaints reported by other",
          "Sleepiness at the wheel",
          "Amygdala/Toncil",
          "Sweating",
          "Positional",
          "Alcohol",
          "Functionning complaints",
          "Insomnia maintaining",
          "Insomnia initiating",
          "Waist circumference ",
          "Tobacco",
          "Nose",
          "Craniofacial"
         ],
         "categoryorder": "array",
         "domain": [
          0,
          1
         ],
         "tickangle": -60,
         "title": {
          "text": "Symptom"
         }
        },
        "yaxis": {
         "anchor": "x",
         "domain": [
          0,
          1
         ],
         "title": {
          "text": "Number of questionnaires"
         }
        }
       }
      }
     },
     "metadata": {},
     "output_type": "display_data"
    }
   ],
   "source": [
    "df_questionnaires = df.drop(references, axis = 1)\n",
    "if df.shape[0] != df['Category'].isnull().sum() : \n",
    "    color = 'Category'\n",
    "else : \n",
    "    color = \"sum_symptoms\"\n",
    "fig = px.bar(df_questionnaires.sort_values(by=['sum_symptoms','Ab'],ascending = [False,True]),\n",
    "             x='Symptom',\n",
    "             y='sum_symptoms',\n",
    "             color=color,\n",
    "             labels={'sum_symptoms':'Number of questionnaires'},\n",
    "             color_discrete_sequence =  px.colors.qualitative.Pastel, ## more color palettes available here : https://plotly.com/python/builtin-colors\n",
    "             category_orders = {'Category':df_questionnaires.sort_values(by='Ab').Category.unique()}\n",
    "             )\n",
    "fig.update_layout(xaxis_tickangle=-60,autosize=False, width=1500, height=600, \n",
    "                  #xaxis={'categoryorder': 'total descending'}\n",
    "                  xaxis={'categoryorder':'array', 'categoryarray':df_questionnaires.Symptom.unique()},\n",
    "                  )\n",
    "#fig.write_image(\"figure1_histogram_1.pdf\")\n",
    "fig.show()"
   ]
  },
  {
   "attachments": {},
   "cell_type": "markdown",
   "metadata": {
    "id": "dgGMcg8IvzX6"
   },
   "source": [
    "The figure has been save in the online folder (📁 symbol on the left) under the name [figure1_histogram_1.pdf](figure1_histogram_1.pdf). <br>You can change the name and the format of the file changing the name in the `#fig.write_image()` function. \n",
    "<br>⚠️ If you need it, save the figure on your local computer : these online file will be deleted as soon as you quit this page!"
   ]
  },
  {
   "cell_type": "markdown",
   "metadata": {},
   "source": [
    "### Sorted by category"
   ]
  },
  {
   "cell_type": "code",
   "execution_count": 132,
   "metadata": {
    "colab": {
     "base_uri": "https://localhost:8080/",
     "height": 537
    },
    "id": "bciHxgdqtHgj",
    "outputId": "816439f1-57df-40b7-f8ab-cac6316765f7"
   },
   "outputs": [
    {
     "data": {
      "application/vnd.plotly.v1+json": {
       "config": {
        "plotlyServerURL": "https://plotly.com"
       },
       "data": [
        {
         "alignmentgroup": "True",
         "hovertemplate": "Category=OSA symptoms<br>Symptom=%{x}<br>Number of questionnaires=%{y}<extra></extra>",
         "legendgroup": "OSA symptoms",
         "marker": {
          "color": "rgb(102, 197, 204)",
          "pattern": {
           "shape": ""
          }
         },
         "name": "OSA symptoms",
         "offsetgroup": "OSA symptoms",
         "orientation": "v",
         "showlegend": true,
         "textposition": "auto",
         "type": "bar",
         "x": [
          "Stop breathing observations",
          "Loud Snoring",
          "Snoring",
          "Self-complaints of breath abnormalities",
          "Breath abnormalities complaints reported by other",
          "Sweating",
          "Positional",
          "Alcohol"
         ],
         "xaxis": "x",
         "y": [
          9,
          8,
          6,
          2,
          2,
          1,
          1,
          1
         ],
         "yaxis": "y"
        },
        {
         "alignmentgroup": "True",
         "hovertemplate": "Category=Sleep-related symptoms<br>Symptom=%{x}<br>Number of questionnaires=%{y}<extra></extra>",
         "legendgroup": "Sleep-related symptoms",
         "marker": {
          "color": "rgb(246, 207, 113)",
          "pattern": {
           "shape": ""
          }
         },
         "name": "Sleep-related symptoms",
         "offsetgroup": "Sleep-related symptoms",
         "orientation": "v",
         "showlegend": true,
         "textposition": "auto",
         "type": "bar",
         "x": [
          "Fatigue",
          "Daytime sleepiness",
          "Awakening",
          "Sleepiness at the wheel",
          "Functionning complaints",
          "Insomnia maintaining",
          "Insomnia initiating"
         ],
         "xaxis": "x",
         "y": [
          5,
          4,
          3,
          2,
          1,
          1,
          1
         ],
         "yaxis": "y"
        },
        {
         "alignmentgroup": "True",
         "hovertemplate": "Category=Clinical characteristics<br>Symptom=%{x}<br>Number of questionnaires=%{y}<extra></extra>",
         "legendgroup": "Clinical characteristics",
         "marker": {
          "color": "rgb(248, 156, 116)",
          "pattern": {
           "shape": ""
          }
         },
         "name": "Clinical characteristics",
         "offsetgroup": "Clinical characteristics",
         "orientation": "v",
         "showlegend": true,
         "textposition": "auto",
         "type": "bar",
         "x": [
          "BMI",
          "Age",
          "HTA",
          "Sex",
          "Neck circumference",
          "Amygdala/Toncil",
          "Waist circumference ",
          "Tobacco",
          "Nose",
          "Craniofacial"
         ],
         "xaxis": "x",
         "y": [
          6,
          5,
          4,
          3,
          3,
          2,
          1,
          1,
          1,
          1
         ],
         "yaxis": "y"
        }
       ],
       "layout": {
        "autosize": false,
        "barmode": "relative",
        "height": 600,
        "legend": {
         "title": {
          "text": "Category"
         },
         "tracegroupgap": 0
        },
        "margin": {
         "t": 60
        },
        "template": {
         "data": {
          "bar": [
           {
            "error_x": {
             "color": "#2a3f5f"
            },
            "error_y": {
             "color": "#2a3f5f"
            },
            "marker": {
             "line": {
              "color": "#E5ECF6",
              "width": 0.5
             },
             "pattern": {
              "fillmode": "overlay",
              "size": 10,
              "solidity": 0.2
             }
            },
            "type": "bar"
           }
          ],
          "barpolar": [
           {
            "marker": {
             "line": {
              "color": "#E5ECF6",
              "width": 0.5
             },
             "pattern": {
              "fillmode": "overlay",
              "size": 10,
              "solidity": 0.2
             }
            },
            "type": "barpolar"
           }
          ],
          "carpet": [
           {
            "aaxis": {
             "endlinecolor": "#2a3f5f",
             "gridcolor": "white",
             "linecolor": "white",
             "minorgridcolor": "white",
             "startlinecolor": "#2a3f5f"
            },
            "baxis": {
             "endlinecolor": "#2a3f5f",
             "gridcolor": "white",
             "linecolor": "white",
             "minorgridcolor": "white",
             "startlinecolor": "#2a3f5f"
            },
            "type": "carpet"
           }
          ],
          "choropleth": [
           {
            "colorbar": {
             "outlinewidth": 0,
             "ticks": ""
            },
            "type": "choropleth"
           }
          ],
          "contour": [
           {
            "colorbar": {
             "outlinewidth": 0,
             "ticks": ""
            },
            "colorscale": [
             [
              0,
              "#0d0887"
             ],
             [
              0.1111111111111111,
              "#46039f"
             ],
             [
              0.2222222222222222,
              "#7201a8"
             ],
             [
              0.3333333333333333,
              "#9c179e"
             ],
             [
              0.4444444444444444,
              "#bd3786"
             ],
             [
              0.5555555555555556,
              "#d8576b"
             ],
             [
              0.6666666666666666,
              "#ed7953"
             ],
             [
              0.7777777777777778,
              "#fb9f3a"
             ],
             [
              0.8888888888888888,
              "#fdca26"
             ],
             [
              1,
              "#f0f921"
             ]
            ],
            "type": "contour"
           }
          ],
          "contourcarpet": [
           {
            "colorbar": {
             "outlinewidth": 0,
             "ticks": ""
            },
            "type": "contourcarpet"
           }
          ],
          "heatmap": [
           {
            "colorbar": {
             "outlinewidth": 0,
             "ticks": ""
            },
            "colorscale": [
             [
              0,
              "#0d0887"
             ],
             [
              0.1111111111111111,
              "#46039f"
             ],
             [
              0.2222222222222222,
              "#7201a8"
             ],
             [
              0.3333333333333333,
              "#9c179e"
             ],
             [
              0.4444444444444444,
              "#bd3786"
             ],
             [
              0.5555555555555556,
              "#d8576b"
             ],
             [
              0.6666666666666666,
              "#ed7953"
             ],
             [
              0.7777777777777778,
              "#fb9f3a"
             ],
             [
              0.8888888888888888,
              "#fdca26"
             ],
             [
              1,
              "#f0f921"
             ]
            ],
            "type": "heatmap"
           }
          ],
          "heatmapgl": [
           {
            "colorbar": {
             "outlinewidth": 0,
             "ticks": ""
            },
            "colorscale": [
             [
              0,
              "#0d0887"
             ],
             [
              0.1111111111111111,
              "#46039f"
             ],
             [
              0.2222222222222222,
              "#7201a8"
             ],
             [
              0.3333333333333333,
              "#9c179e"
             ],
             [
              0.4444444444444444,
              "#bd3786"
             ],
             [
              0.5555555555555556,
              "#d8576b"
             ],
             [
              0.6666666666666666,
              "#ed7953"
             ],
             [
              0.7777777777777778,
              "#fb9f3a"
             ],
             [
              0.8888888888888888,
              "#fdca26"
             ],
             [
              1,
              "#f0f921"
             ]
            ],
            "type": "heatmapgl"
           }
          ],
          "histogram": [
           {
            "marker": {
             "pattern": {
              "fillmode": "overlay",
              "size": 10,
              "solidity": 0.2
             }
            },
            "type": "histogram"
           }
          ],
          "histogram2d": [
           {
            "colorbar": {
             "outlinewidth": 0,
             "ticks": ""
            },
            "colorscale": [
             [
              0,
              "#0d0887"
             ],
             [
              0.1111111111111111,
              "#46039f"
             ],
             [
              0.2222222222222222,
              "#7201a8"
             ],
             [
              0.3333333333333333,
              "#9c179e"
             ],
             [
              0.4444444444444444,
              "#bd3786"
             ],
             [
              0.5555555555555556,
              "#d8576b"
             ],
             [
              0.6666666666666666,
              "#ed7953"
             ],
             [
              0.7777777777777778,
              "#fb9f3a"
             ],
             [
              0.8888888888888888,
              "#fdca26"
             ],
             [
              1,
              "#f0f921"
             ]
            ],
            "type": "histogram2d"
           }
          ],
          "histogram2dcontour": [
           {
            "colorbar": {
             "outlinewidth": 0,
             "ticks": ""
            },
            "colorscale": [
             [
              0,
              "#0d0887"
             ],
             [
              0.1111111111111111,
              "#46039f"
             ],
             [
              0.2222222222222222,
              "#7201a8"
             ],
             [
              0.3333333333333333,
              "#9c179e"
             ],
             [
              0.4444444444444444,
              "#bd3786"
             ],
             [
              0.5555555555555556,
              "#d8576b"
             ],
             [
              0.6666666666666666,
              "#ed7953"
             ],
             [
              0.7777777777777778,
              "#fb9f3a"
             ],
             [
              0.8888888888888888,
              "#fdca26"
             ],
             [
              1,
              "#f0f921"
             ]
            ],
            "type": "histogram2dcontour"
           }
          ],
          "mesh3d": [
           {
            "colorbar": {
             "outlinewidth": 0,
             "ticks": ""
            },
            "type": "mesh3d"
           }
          ],
          "parcoords": [
           {
            "line": {
             "colorbar": {
              "outlinewidth": 0,
              "ticks": ""
             }
            },
            "type": "parcoords"
           }
          ],
          "pie": [
           {
            "automargin": true,
            "type": "pie"
           }
          ],
          "scatter": [
           {
            "fillpattern": {
             "fillmode": "overlay",
             "size": 10,
             "solidity": 0.2
            },
            "type": "scatter"
           }
          ],
          "scatter3d": [
           {
            "line": {
             "colorbar": {
              "outlinewidth": 0,
              "ticks": ""
             }
            },
            "marker": {
             "colorbar": {
              "outlinewidth": 0,
              "ticks": ""
             }
            },
            "type": "scatter3d"
           }
          ],
          "scattercarpet": [
           {
            "marker": {
             "colorbar": {
              "outlinewidth": 0,
              "ticks": ""
             }
            },
            "type": "scattercarpet"
           }
          ],
          "scattergeo": [
           {
            "marker": {
             "colorbar": {
              "outlinewidth": 0,
              "ticks": ""
             }
            },
            "type": "scattergeo"
           }
          ],
          "scattergl": [
           {
            "marker": {
             "colorbar": {
              "outlinewidth": 0,
              "ticks": ""
             }
            },
            "type": "scattergl"
           }
          ],
          "scattermapbox": [
           {
            "marker": {
             "colorbar": {
              "outlinewidth": 0,
              "ticks": ""
             }
            },
            "type": "scattermapbox"
           }
          ],
          "scatterpolar": [
           {
            "marker": {
             "colorbar": {
              "outlinewidth": 0,
              "ticks": ""
             }
            },
            "type": "scatterpolar"
           }
          ],
          "scatterpolargl": [
           {
            "marker": {
             "colorbar": {
              "outlinewidth": 0,
              "ticks": ""
             }
            },
            "type": "scatterpolargl"
           }
          ],
          "scatterternary": [
           {
            "marker": {
             "colorbar": {
              "outlinewidth": 0,
              "ticks": ""
             }
            },
            "type": "scatterternary"
           }
          ],
          "surface": [
           {
            "colorbar": {
             "outlinewidth": 0,
             "ticks": ""
            },
            "colorscale": [
             [
              0,
              "#0d0887"
             ],
             [
              0.1111111111111111,
              "#46039f"
             ],
             [
              0.2222222222222222,
              "#7201a8"
             ],
             [
              0.3333333333333333,
              "#9c179e"
             ],
             [
              0.4444444444444444,
              "#bd3786"
             ],
             [
              0.5555555555555556,
              "#d8576b"
             ],
             [
              0.6666666666666666,
              "#ed7953"
             ],
             [
              0.7777777777777778,
              "#fb9f3a"
             ],
             [
              0.8888888888888888,
              "#fdca26"
             ],
             [
              1,
              "#f0f921"
             ]
            ],
            "type": "surface"
           }
          ],
          "table": [
           {
            "cells": {
             "fill": {
              "color": "#EBF0F8"
             },
             "line": {
              "color": "white"
             }
            },
            "header": {
             "fill": {
              "color": "#C8D4E3"
             },
             "line": {
              "color": "white"
             }
            },
            "type": "table"
           }
          ]
         },
         "layout": {
          "annotationdefaults": {
           "arrowcolor": "#2a3f5f",
           "arrowhead": 0,
           "arrowwidth": 1
          },
          "autotypenumbers": "strict",
          "coloraxis": {
           "colorbar": {
            "outlinewidth": 0,
            "ticks": ""
           }
          },
          "colorscale": {
           "diverging": [
            [
             0,
             "#8e0152"
            ],
            [
             0.1,
             "#c51b7d"
            ],
            [
             0.2,
             "#de77ae"
            ],
            [
             0.3,
             "#f1b6da"
            ],
            [
             0.4,
             "#fde0ef"
            ],
            [
             0.5,
             "#f7f7f7"
            ],
            [
             0.6,
             "#e6f5d0"
            ],
            [
             0.7,
             "#b8e186"
            ],
            [
             0.8,
             "#7fbc41"
            ],
            [
             0.9,
             "#4d9221"
            ],
            [
             1,
             "#276419"
            ]
           ],
           "sequential": [
            [
             0,
             "#0d0887"
            ],
            [
             0.1111111111111111,
             "#46039f"
            ],
            [
             0.2222222222222222,
             "#7201a8"
            ],
            [
             0.3333333333333333,
             "#9c179e"
            ],
            [
             0.4444444444444444,
             "#bd3786"
            ],
            [
             0.5555555555555556,
             "#d8576b"
            ],
            [
             0.6666666666666666,
             "#ed7953"
            ],
            [
             0.7777777777777778,
             "#fb9f3a"
            ],
            [
             0.8888888888888888,
             "#fdca26"
            ],
            [
             1,
             "#f0f921"
            ]
           ],
           "sequentialminus": [
            [
             0,
             "#0d0887"
            ],
            [
             0.1111111111111111,
             "#46039f"
            ],
            [
             0.2222222222222222,
             "#7201a8"
            ],
            [
             0.3333333333333333,
             "#9c179e"
            ],
            [
             0.4444444444444444,
             "#bd3786"
            ],
            [
             0.5555555555555556,
             "#d8576b"
            ],
            [
             0.6666666666666666,
             "#ed7953"
            ],
            [
             0.7777777777777778,
             "#fb9f3a"
            ],
            [
             0.8888888888888888,
             "#fdca26"
            ],
            [
             1,
             "#f0f921"
            ]
           ]
          },
          "colorway": [
           "#636efa",
           "#EF553B",
           "#00cc96",
           "#ab63fa",
           "#FFA15A",
           "#19d3f3",
           "#FF6692",
           "#B6E880",
           "#FF97FF",
           "#FECB52"
          ],
          "font": {
           "color": "#2a3f5f"
          },
          "geo": {
           "bgcolor": "white",
           "lakecolor": "white",
           "landcolor": "#E5ECF6",
           "showlakes": true,
           "showland": true,
           "subunitcolor": "white"
          },
          "hoverlabel": {
           "align": "left"
          },
          "hovermode": "closest",
          "mapbox": {
           "style": "light"
          },
          "paper_bgcolor": "white",
          "plot_bgcolor": "#E5ECF6",
          "polar": {
           "angularaxis": {
            "gridcolor": "white",
            "linecolor": "white",
            "ticks": ""
           },
           "bgcolor": "#E5ECF6",
           "radialaxis": {
            "gridcolor": "white",
            "linecolor": "white",
            "ticks": ""
           }
          },
          "scene": {
           "xaxis": {
            "backgroundcolor": "#E5ECF6",
            "gridcolor": "white",
            "gridwidth": 2,
            "linecolor": "white",
            "showbackground": true,
            "ticks": "",
            "zerolinecolor": "white"
           },
           "yaxis": {
            "backgroundcolor": "#E5ECF6",
            "gridcolor": "white",
            "gridwidth": 2,
            "linecolor": "white",
            "showbackground": true,
            "ticks": "",
            "zerolinecolor": "white"
           },
           "zaxis": {
            "backgroundcolor": "#E5ECF6",
            "gridcolor": "white",
            "gridwidth": 2,
            "linecolor": "white",
            "showbackground": true,
            "ticks": "",
            "zerolinecolor": "white"
           }
          },
          "shapedefaults": {
           "line": {
            "color": "#2a3f5f"
           }
          },
          "ternary": {
           "aaxis": {
            "gridcolor": "white",
            "linecolor": "white",
            "ticks": ""
           },
           "baxis": {
            "gridcolor": "white",
            "linecolor": "white",
            "ticks": ""
           },
           "bgcolor": "#E5ECF6",
           "caxis": {
            "gridcolor": "white",
            "linecolor": "white",
            "ticks": ""
           }
          },
          "title": {
           "x": 0.05
          },
          "xaxis": {
           "automargin": true,
           "gridcolor": "white",
           "linecolor": "white",
           "ticks": "",
           "title": {
            "standoff": 15
           },
           "zerolinecolor": "white",
           "zerolinewidth": 2
          },
          "yaxis": {
           "automargin": true,
           "gridcolor": "white",
           "linecolor": "white",
           "ticks": "",
           "title": {
            "standoff": 15
           },
           "zerolinecolor": "white",
           "zerolinewidth": 2
          }
         }
        },
        "width": 1500,
        "xaxis": {
         "anchor": "y",
         "domain": [
          0,
          1
         ],
         "tickangle": -60,
         "title": {
          "text": "Symptom"
         }
        },
        "yaxis": {
         "anchor": "x",
         "domain": [
          0,
          1
         ],
         "title": {
          "text": "Number of questionnaires"
         }
        }
       }
      }
     },
     "metadata": {},
     "output_type": "display_data"
    }
   ],
   "source": [
    "if df.shape[0] != df['Category'].isnull().sum() : \n",
    "    color = 'Category'\n",
    "else : \n",
    "    color = \"sum_symptoms\"\n",
    "fig = px.bar(df_questionnaires.sort_values(by=['sum_symptoms','Ab'],ascending = [False,True]),\n",
    "             x='Symptom',\n",
    "             y='sum_symptoms',\n",
    "             color=color,\n",
    "             labels={'sum_symptoms':'Number of questionnaires'},\n",
    "             color_discrete_sequence =  px.colors.qualitative.Pastel, # more color palettes available here : https://plotly.com/python/builtin-colors\n",
    "             category_orders = {'Category':df_questionnaires.sort_values(by='Ab').Category.unique()}\n",
    "            )\n",
    "fig.update_layout(xaxis_tickangle=-60,autosize=False, width=1500, height=600)\n",
    "#fig.write_image(\"figure2_histogram_2.pdf\")\n",
    "fig.show()"
   ]
  },
  {
   "attachments": {},
   "cell_type": "markdown",
   "metadata": {
    "id": "dgGMcg8IvzX6"
   },
   "source": [
    "The figure has been save in the online folder (📁 symbol on the left) under the name [figure2_histogram_2.pdf](figure2_histogram_2.pdf). <br>You can change the name and the format of the file changing the name in the `#fig.write_image()` function. \n",
    "<br>⚠️ If you need it, save the figure on your local computer : these online file will be deleted as soon as you quit this page!"
   ]
  },
  {
   "attachments": {},
   "cell_type": "markdown",
   "metadata": {
    "id": "3OISRmoSwTGX"
   },
   "source": [
    "## Number of symptoms by questionnaire"
   ]
  },
  {
   "cell_type": "code",
   "execution_count": 133,
   "metadata": {
    "colab": {
     "base_uri": "https://localhost:8080/",
     "height": 488
    },
    "id": "bTYZAecywQhN",
    "outputId": "3fe68fca-8c09-4394-9c40-689fec57deb7"
   },
   "outputs": [
    {
     "data": {
      "text/html": [
       "<div>\n",
       "<style scoped>\n",
       "    .dataframe tbody tr th:only-of-type {\n",
       "        vertical-align: middle;\n",
       "    }\n",
       "\n",
       "    .dataframe tbody tr th {\n",
       "        vertical-align: top;\n",
       "    }\n",
       "\n",
       "    .dataframe thead th {\n",
       "        text-align: right;\n",
       "    }\n",
       "</style>\n",
       "<table border=\"1\" class=\"dataframe\">\n",
       "  <thead>\n",
       "    <tr style=\"text-align: right;\">\n",
       "      <th></th>\n",
       "      <th>Specific symptoms</th>\n",
       "      <th>Compound symptoms</th>\n",
       "      <th>Total</th>\n",
       "    </tr>\n",
       "  </thead>\n",
       "  <tbody>\n",
       "    <tr>\n",
       "      <th>ASA</th>\n",
       "      <td>9</td>\n",
       "      <td>4</td>\n",
       "      <td>13</td>\n",
       "    </tr>\n",
       "    <tr>\n",
       "      <th>SA-SDQ</th>\n",
       "      <td>10</td>\n",
       "      <td>1</td>\n",
       "      <td>11</td>\n",
       "    </tr>\n",
       "    <tr>\n",
       "      <th>STOP-Bang</th>\n",
       "      <td>7</td>\n",
       "      <td>2</td>\n",
       "      <td>9</td>\n",
       "    </tr>\n",
       "    <tr>\n",
       "      <th>Berlin</th>\n",
       "      <td>8</td>\n",
       "      <td>1</td>\n",
       "      <td>9</td>\n",
       "    </tr>\n",
       "    <tr>\n",
       "      <th>Haraldsson</th>\n",
       "      <td>3</td>\n",
       "      <td>4</td>\n",
       "      <td>7</td>\n",
       "    </tr>\n",
       "    <tr>\n",
       "      <th>NoSAS</th>\n",
       "      <td>5</td>\n",
       "      <td>0</td>\n",
       "      <td>5</td>\n",
       "    </tr>\n",
       "    <tr>\n",
       "      <th>STOP</th>\n",
       "      <td>3</td>\n",
       "      <td>2</td>\n",
       "      <td>5</td>\n",
       "    </tr>\n",
       "    <tr>\n",
       "      <th>GOAL</th>\n",
       "      <td>4</td>\n",
       "      <td>0</td>\n",
       "      <td>4</td>\n",
       "    </tr>\n",
       "    <tr>\n",
       "      <th>OSA 50</th>\n",
       "      <td>4</td>\n",
       "      <td>0</td>\n",
       "      <td>4</td>\n",
       "    </tr>\n",
       "    <tr>\n",
       "      <th>AS</th>\n",
       "      <td>2</td>\n",
       "      <td>2</td>\n",
       "      <td>4</td>\n",
       "    </tr>\n",
       "    <tr>\n",
       "      <th>Wisconsin Q</th>\n",
       "      <td>3</td>\n",
       "      <td>0</td>\n",
       "      <td>3</td>\n",
       "    </tr>\n",
       "  </tbody>\n",
       "</table>\n",
       "</div>"
      ],
      "text/plain": [
       "             Specific symptoms  Compound symptoms  Total\n",
       "ASA                          9                  4     13\n",
       "SA-SDQ                      10                  1     11\n",
       "STOP-Bang                    7                  2      9\n",
       "Berlin                       8                  1      9\n",
       "Haraldsson                   3                  4      7\n",
       "NoSAS                        5                  0      5\n",
       "STOP                         3                  2      5\n",
       "GOAL                         4                  0      4\n",
       "OSA 50                       4                  0      4\n",
       "AS                           2                  2      4\n",
       "Wisconsin Q                  3                  0      3"
      ]
     },
     "metadata": {},
     "output_type": "display_data"
    }
   ],
   "source": [
    "sympt_per_questionnaire = pd.DataFrame(np.zeros((df.shape[1]-5,3)), index = df.iloc[:,4:-1].columns, columns = ['Specific symptoms', 'Compound symptoms', 'Total'])\n",
    "sympt_per_questionnaire['Specific symptoms'] = (df.iloc[:,4:-1]==1).sum(axis = 0)\n",
    "sympt_per_questionnaire['Compound symptoms'] = (df.iloc[:,4:-1]==2).sum(axis = 0)\n",
    "sympt_per_questionnaire['Total'] = (df.iloc[:,4:-1]>=1).sum(axis = 0)\n",
    "sympt_per_questionnaire.to_excel(\"table1_symptomes_per_questionnaire.xlsx\")\n",
    "\n",
    "display(sympt_per_questionnaire)"
   ]
  },
  {
   "cell_type": "markdown",
   "metadata": {
    "id": "dgGMcg8IvzX6"
   },
   "source": [
    "The table has been save in the online folder (📁 symbol on the left) under the name [table1_symptoms_per_questionnaire.xlsx](./table1_symptoms_per_questionnaire.xlsx). <br>You can change the name and the format of the file changing the name in the `sympt_per_questionnaire.to_excel()` function. \n",
    "<br>⚠️ If you need it, save the excel file on your local computer : these online file will be deleted as soon as you quit this page!"
   ]
  },
  {
   "cell_type": "markdown",
   "metadata": {
    "id": "OC5h01srm0Lo"
   },
   "source": [
    "## Symptoms that are in classifications but not in questionnaires"
   ]
  },
  {
   "cell_type": "code",
   "execution_count": 134,
   "metadata": {
    "colab": {
     "base_uri": "https://localhost:8080/"
    },
    "id": "YlNkFjvBm6Ez",
    "outputId": "9202890b-a602-4afe-e112-a42e2a145912"
   },
   "outputs": [
    {
     "name": "stdout",
     "output_type": "stream",
     "text": [
      "References list is empty\n"
     ]
    }
   ],
   "source": [
    "if len(references) > 0 :\n",
    "  for ref in references: \n",
    "    print(\"---\", ref, \"---\")\n",
    "    for symptom in df.Symptom.unique() : \n",
    "      if (int(df.loc[df.Symptom == symptom,ref]) == 1 and int(df.loc[df.Symptom == symptom, 'sum_symptoms'])==0) : \n",
    "        print(symptom)\n",
    "else : \n",
    "    print(\"References list is empty\")"
   ]
  },
  {
   "attachments": {},
   "cell_type": "markdown",
   "metadata": {
    "id": "qw9SetrFK_Sg"
   },
   "source": [
    "## Number of symptoms in each category for each questionnaire"
   ]
  },
  {
   "cell_type": "code",
   "execution_count": 135,
   "metadata": {
    "colab": {
     "base_uri": "https://localhost:8080/",
     "height": 332
    },
    "id": "gFr5e2C5B_KN",
    "outputId": "59c485cf-60f3-4987-f24d-ff56de10fb16"
   },
   "outputs": [
    {
     "data": {
      "text/html": [
       "<div>\n",
       "<style scoped>\n",
       "    .dataframe tbody tr th:only-of-type {\n",
       "        vertical-align: middle;\n",
       "    }\n",
       "\n",
       "    .dataframe tbody tr th {\n",
       "        vertical-align: top;\n",
       "    }\n",
       "\n",
       "    .dataframe thead th {\n",
       "        text-align: right;\n",
       "    }\n",
       "</style>\n",
       "<table border=\"1\" class=\"dataframe\">\n",
       "  <thead>\n",
       "    <tr style=\"text-align: right;\">\n",
       "      <th></th>\n",
       "      <th>ASA</th>\n",
       "      <th>SA-SDQ</th>\n",
       "      <th>STOP-Bang</th>\n",
       "      <th>Berlin</th>\n",
       "      <th>Haraldsson</th>\n",
       "      <th>NoSAS</th>\n",
       "      <th>STOP</th>\n",
       "      <th>GOAL</th>\n",
       "      <th>OSA 50</th>\n",
       "      <th>AS</th>\n",
       "      <th>Wisconsin Q</th>\n",
       "    </tr>\n",
       "  </thead>\n",
       "  <tbody>\n",
       "    <tr>\n",
       "      <th>OSA symptoms</th>\n",
       "      <td>4</td>\n",
       "      <td>6</td>\n",
       "      <td>2</td>\n",
       "      <td>4</td>\n",
       "      <td>2</td>\n",
       "      <td>1</td>\n",
       "      <td>2</td>\n",
       "      <td>1</td>\n",
       "      <td>2</td>\n",
       "      <td>3</td>\n",
       "      <td>3</td>\n",
       "    </tr>\n",
       "    <tr>\n",
       "      <th>Sleep-related symptoms</th>\n",
       "      <td>4</td>\n",
       "      <td>1</td>\n",
       "      <td>2</td>\n",
       "      <td>3</td>\n",
       "      <td>5</td>\n",
       "      <td>0</td>\n",
       "      <td>2</td>\n",
       "      <td>0</td>\n",
       "      <td>0</td>\n",
       "      <td>0</td>\n",
       "      <td>0</td>\n",
       "    </tr>\n",
       "    <tr>\n",
       "      <th>Clinical characteristics</th>\n",
       "      <td>5</td>\n",
       "      <td>4</td>\n",
       "      <td>5</td>\n",
       "      <td>2</td>\n",
       "      <td>0</td>\n",
       "      <td>4</td>\n",
       "      <td>1</td>\n",
       "      <td>3</td>\n",
       "      <td>2</td>\n",
       "      <td>1</td>\n",
       "      <td>0</td>\n",
       "    </tr>\n",
       "  </tbody>\n",
       "</table>\n",
       "</div>"
      ],
      "text/plain": [
       "                          ASA  SA-SDQ  STOP-Bang  Berlin  Haraldsson  NoSAS  \\\n",
       "OSA symptoms                4       6          2       4           2      1   \n",
       "Sleep-related symptoms      4       1          2       3           5      0   \n",
       "Clinical characteristics    5       4          5       2           0      4   \n",
       "\n",
       "                          STOP  GOAL  OSA 50  AS  Wisconsin Q  \n",
       "OSA symptoms                 2     1       2   3            3  \n",
       "Sleep-related symptoms       2     0       0   0            0  \n",
       "Clinical characteristics     1     3       2   1            0  "
      ]
     },
     "metadata": {},
     "output_type": "display_data"
    }
   ],
   "source": [
    "# number of categories/questionnaire\n",
    "if df.shape[0] != df['Category'].isnull().sum() : \n",
    "  cat_per_questionnaire = pd.DataFrame(np.zeros((df.shape[1]-5,len(df.Category.unique()))), index = df.iloc[:,4:-1].columns, columns = df.sort_values(by=\"Ab\").Category.unique())\n",
    "  for category in df.Category.unique():\n",
    "    cat_per_questionnaire.loc[:,category] = (df[df.Category==category].iloc[:,4:-1]>=1).sum(axis = 0)\n",
    "  display(cat_per_questionnaire.T)\n",
    "  cat_per_questionnaire.T.to_excel(\"table2_categorie_per_questionnaire.xlsx\")\n",
    "else : \n",
    "  print('No category in this dataframe !')"
   ]
  },
  {
   "cell_type": "markdown",
   "metadata": {
    "id": "dgGMcg8IvzX6"
   },
   "source": [
    "The table has been save in the online folder (📁 symbol on the left) under the name [table2_categorie_per_questionnaire.xlsx](./table2_categorie_per_questionnaire.xlsx). <br>You can change the name and the format of the file changing the name in the `cat_per_questionnaire.T.to_excel()` function. \n",
    "<br>⚠️ If you need it, save the excel file on your local computer : these online file will be deleted as soon as you quit this page!"
   ]
  },
  {
   "cell_type": "markdown",
   "metadata": {
    "id": "qXcSGINHJ9Mt"
   },
   "source": [
    "## Distribution across the categories of the symptoms measured by each questionnaire\n",
    "(i.e. same thing as before, but normalized by questionnaire (sum across lines equals 1))."
   ]
  },
  {
   "cell_type": "code",
   "execution_count": 136,
   "metadata": {
    "colab": {
     "base_uri": "https://localhost:8080/",
     "height": 542
    },
    "id": "3nwer2_9FXTg",
    "outputId": "58e9ab91-2767-4fc3-be02-a26160d832cc"
   },
   "outputs": [
    {
     "data": {
      "application/vnd.plotly.v1+json": {
       "config": {
        "plotlyServerURL": "https://plotly.com"
       },
       "data": [
        {
         "coloraxis": "coloraxis",
         "hovertemplate": "x: %{x}<br>y: %{y}<br>color: %{z}<extra></extra>",
         "name": "0",
         "texttemplate": "%{z}",
         "type": "heatmap",
         "x": [
          "ASA",
          "SA-SDQ",
          "STOP-Bang",
          "Berlin",
          "Haraldsson",
          "NoSAS",
          "STOP",
          "GOAL",
          "OSA 50",
          "AS",
          "Wisconsin Q"
         ],
         "xaxis": "x",
         "y": [
          "OSA symptoms",
          "Sleep-related symptoms",
          "Clinical characteristics"
         ],
         "yaxis": "y",
         "z": [
          [
           30.8,
           54.5,
           22.2,
           44.4,
           28.6,
           20,
           40,
           25,
           50,
           75,
           100
          ],
          [
           30.8,
           9.1,
           22.2,
           33.3,
           71.4,
           0,
           40,
           0,
           0,
           0,
           0
          ],
          [
           38.5,
           36.4,
           55.6,
           22.2,
           0,
           80,
           20,
           75,
           50,
           25,
           0
          ]
         ]
        }
       ],
       "layout": {
        "autosize": false,
        "coloraxis": {
         "colorscale": [
          [
           0,
           "rgb(12,51,131)"
          ],
          [
           0.25,
           "rgb(10,136,186)"
          ],
          [
           0.5,
           "rgb(242,211,56)"
          ],
          [
           0.75,
           "rgb(242,143,56)"
          ],
          [
           1,
           "rgb(217,30,30)"
          ]
         ]
        },
        "height": 400,
        "margin": {
         "t": 60
        },
        "template": {
         "data": {
          "bar": [
           {
            "error_x": {
             "color": "#2a3f5f"
            },
            "error_y": {
             "color": "#2a3f5f"
            },
            "marker": {
             "line": {
              "color": "#E5ECF6",
              "width": 0.5
             },
             "pattern": {
              "fillmode": "overlay",
              "size": 10,
              "solidity": 0.2
             }
            },
            "type": "bar"
           }
          ],
          "barpolar": [
           {
            "marker": {
             "line": {
              "color": "#E5ECF6",
              "width": 0.5
             },
             "pattern": {
              "fillmode": "overlay",
              "size": 10,
              "solidity": 0.2
             }
            },
            "type": "barpolar"
           }
          ],
          "carpet": [
           {
            "aaxis": {
             "endlinecolor": "#2a3f5f",
             "gridcolor": "white",
             "linecolor": "white",
             "minorgridcolor": "white",
             "startlinecolor": "#2a3f5f"
            },
            "baxis": {
             "endlinecolor": "#2a3f5f",
             "gridcolor": "white",
             "linecolor": "white",
             "minorgridcolor": "white",
             "startlinecolor": "#2a3f5f"
            },
            "type": "carpet"
           }
          ],
          "choropleth": [
           {
            "colorbar": {
             "outlinewidth": 0,
             "ticks": ""
            },
            "type": "choropleth"
           }
          ],
          "contour": [
           {
            "colorbar": {
             "outlinewidth": 0,
             "ticks": ""
            },
            "colorscale": [
             [
              0,
              "#0d0887"
             ],
             [
              0.1111111111111111,
              "#46039f"
             ],
             [
              0.2222222222222222,
              "#7201a8"
             ],
             [
              0.3333333333333333,
              "#9c179e"
             ],
             [
              0.4444444444444444,
              "#bd3786"
             ],
             [
              0.5555555555555556,
              "#d8576b"
             ],
             [
              0.6666666666666666,
              "#ed7953"
             ],
             [
              0.7777777777777778,
              "#fb9f3a"
             ],
             [
              0.8888888888888888,
              "#fdca26"
             ],
             [
              1,
              "#f0f921"
             ]
            ],
            "type": "contour"
           }
          ],
          "contourcarpet": [
           {
            "colorbar": {
             "outlinewidth": 0,
             "ticks": ""
            },
            "type": "contourcarpet"
           }
          ],
          "heatmap": [
           {
            "colorbar": {
             "outlinewidth": 0,
             "ticks": ""
            },
            "colorscale": [
             [
              0,
              "#0d0887"
             ],
             [
              0.1111111111111111,
              "#46039f"
             ],
             [
              0.2222222222222222,
              "#7201a8"
             ],
             [
              0.3333333333333333,
              "#9c179e"
             ],
             [
              0.4444444444444444,
              "#bd3786"
             ],
             [
              0.5555555555555556,
              "#d8576b"
             ],
             [
              0.6666666666666666,
              "#ed7953"
             ],
             [
              0.7777777777777778,
              "#fb9f3a"
             ],
             [
              0.8888888888888888,
              "#fdca26"
             ],
             [
              1,
              "#f0f921"
             ]
            ],
            "type": "heatmap"
           }
          ],
          "heatmapgl": [
           {
            "colorbar": {
             "outlinewidth": 0,
             "ticks": ""
            },
            "colorscale": [
             [
              0,
              "#0d0887"
             ],
             [
              0.1111111111111111,
              "#46039f"
             ],
             [
              0.2222222222222222,
              "#7201a8"
             ],
             [
              0.3333333333333333,
              "#9c179e"
             ],
             [
              0.4444444444444444,
              "#bd3786"
             ],
             [
              0.5555555555555556,
              "#d8576b"
             ],
             [
              0.6666666666666666,
              "#ed7953"
             ],
             [
              0.7777777777777778,
              "#fb9f3a"
             ],
             [
              0.8888888888888888,
              "#fdca26"
             ],
             [
              1,
              "#f0f921"
             ]
            ],
            "type": "heatmapgl"
           }
          ],
          "histogram": [
           {
            "marker": {
             "pattern": {
              "fillmode": "overlay",
              "size": 10,
              "solidity": 0.2
             }
            },
            "type": "histogram"
           }
          ],
          "histogram2d": [
           {
            "colorbar": {
             "outlinewidth": 0,
             "ticks": ""
            },
            "colorscale": [
             [
              0,
              "#0d0887"
             ],
             [
              0.1111111111111111,
              "#46039f"
             ],
             [
              0.2222222222222222,
              "#7201a8"
             ],
             [
              0.3333333333333333,
              "#9c179e"
             ],
             [
              0.4444444444444444,
              "#bd3786"
             ],
             [
              0.5555555555555556,
              "#d8576b"
             ],
             [
              0.6666666666666666,
              "#ed7953"
             ],
             [
              0.7777777777777778,
              "#fb9f3a"
             ],
             [
              0.8888888888888888,
              "#fdca26"
             ],
             [
              1,
              "#f0f921"
             ]
            ],
            "type": "histogram2d"
           }
          ],
          "histogram2dcontour": [
           {
            "colorbar": {
             "outlinewidth": 0,
             "ticks": ""
            },
            "colorscale": [
             [
              0,
              "#0d0887"
             ],
             [
              0.1111111111111111,
              "#46039f"
             ],
             [
              0.2222222222222222,
              "#7201a8"
             ],
             [
              0.3333333333333333,
              "#9c179e"
             ],
             [
              0.4444444444444444,
              "#bd3786"
             ],
             [
              0.5555555555555556,
              "#d8576b"
             ],
             [
              0.6666666666666666,
              "#ed7953"
             ],
             [
              0.7777777777777778,
              "#fb9f3a"
             ],
             [
              0.8888888888888888,
              "#fdca26"
             ],
             [
              1,
              "#f0f921"
             ]
            ],
            "type": "histogram2dcontour"
           }
          ],
          "mesh3d": [
           {
            "colorbar": {
             "outlinewidth": 0,
             "ticks": ""
            },
            "type": "mesh3d"
           }
          ],
          "parcoords": [
           {
            "line": {
             "colorbar": {
              "outlinewidth": 0,
              "ticks": ""
             }
            },
            "type": "parcoords"
           }
          ],
          "pie": [
           {
            "automargin": true,
            "type": "pie"
           }
          ],
          "scatter": [
           {
            "fillpattern": {
             "fillmode": "overlay",
             "size": 10,
             "solidity": 0.2
            },
            "type": "scatter"
           }
          ],
          "scatter3d": [
           {
            "line": {
             "colorbar": {
              "outlinewidth": 0,
              "ticks": ""
             }
            },
            "marker": {
             "colorbar": {
              "outlinewidth": 0,
              "ticks": ""
             }
            },
            "type": "scatter3d"
           }
          ],
          "scattercarpet": [
           {
            "marker": {
             "colorbar": {
              "outlinewidth": 0,
              "ticks": ""
             }
            },
            "type": "scattercarpet"
           }
          ],
          "scattergeo": [
           {
            "marker": {
             "colorbar": {
              "outlinewidth": 0,
              "ticks": ""
             }
            },
            "type": "scattergeo"
           }
          ],
          "scattergl": [
           {
            "marker": {
             "colorbar": {
              "outlinewidth": 0,
              "ticks": ""
             }
            },
            "type": "scattergl"
           }
          ],
          "scattermapbox": [
           {
            "marker": {
             "colorbar": {
              "outlinewidth": 0,
              "ticks": ""
             }
            },
            "type": "scattermapbox"
           }
          ],
          "scatterpolar": [
           {
            "marker": {
             "colorbar": {
              "outlinewidth": 0,
              "ticks": ""
             }
            },
            "type": "scatterpolar"
           }
          ],
          "scatterpolargl": [
           {
            "marker": {
             "colorbar": {
              "outlinewidth": 0,
              "ticks": ""
             }
            },
            "type": "scatterpolargl"
           }
          ],
          "scatterternary": [
           {
            "marker": {
             "colorbar": {
              "outlinewidth": 0,
              "ticks": ""
             }
            },
            "type": "scatterternary"
           }
          ],
          "surface": [
           {
            "colorbar": {
             "outlinewidth": 0,
             "ticks": ""
            },
            "colorscale": [
             [
              0,
              "#0d0887"
             ],
             [
              0.1111111111111111,
              "#46039f"
             ],
             [
              0.2222222222222222,
              "#7201a8"
             ],
             [
              0.3333333333333333,
              "#9c179e"
             ],
             [
              0.4444444444444444,
              "#bd3786"
             ],
             [
              0.5555555555555556,
              "#d8576b"
             ],
             [
              0.6666666666666666,
              "#ed7953"
             ],
             [
              0.7777777777777778,
              "#fb9f3a"
             ],
             [
              0.8888888888888888,
              "#fdca26"
             ],
             [
              1,
              "#f0f921"
             ]
            ],
            "type": "surface"
           }
          ],
          "table": [
           {
            "cells": {
             "fill": {
              "color": "#EBF0F8"
             },
             "line": {
              "color": "white"
             }
            },
            "header": {
             "fill": {
              "color": "#C8D4E3"
             },
             "line": {
              "color": "white"
             }
            },
            "type": "table"
           }
          ]
         },
         "layout": {
          "annotationdefaults": {
           "arrowcolor": "#2a3f5f",
           "arrowhead": 0,
           "arrowwidth": 1
          },
          "autotypenumbers": "strict",
          "coloraxis": {
           "colorbar": {
            "outlinewidth": 0,
            "ticks": ""
           }
          },
          "colorscale": {
           "diverging": [
            [
             0,
             "#8e0152"
            ],
            [
             0.1,
             "#c51b7d"
            ],
            [
             0.2,
             "#de77ae"
            ],
            [
             0.3,
             "#f1b6da"
            ],
            [
             0.4,
             "#fde0ef"
            ],
            [
             0.5,
             "#f7f7f7"
            ],
            [
             0.6,
             "#e6f5d0"
            ],
            [
             0.7,
             "#b8e186"
            ],
            [
             0.8,
             "#7fbc41"
            ],
            [
             0.9,
             "#4d9221"
            ],
            [
             1,
             "#276419"
            ]
           ],
           "sequential": [
            [
             0,
             "#0d0887"
            ],
            [
             0.1111111111111111,
             "#46039f"
            ],
            [
             0.2222222222222222,
             "#7201a8"
            ],
            [
             0.3333333333333333,
             "#9c179e"
            ],
            [
             0.4444444444444444,
             "#bd3786"
            ],
            [
             0.5555555555555556,
             "#d8576b"
            ],
            [
             0.6666666666666666,
             "#ed7953"
            ],
            [
             0.7777777777777778,
             "#fb9f3a"
            ],
            [
             0.8888888888888888,
             "#fdca26"
            ],
            [
             1,
             "#f0f921"
            ]
           ],
           "sequentialminus": [
            [
             0,
             "#0d0887"
            ],
            [
             0.1111111111111111,
             "#46039f"
            ],
            [
             0.2222222222222222,
             "#7201a8"
            ],
            [
             0.3333333333333333,
             "#9c179e"
            ],
            [
             0.4444444444444444,
             "#bd3786"
            ],
            [
             0.5555555555555556,
             "#d8576b"
            ],
            [
             0.6666666666666666,
             "#ed7953"
            ],
            [
             0.7777777777777778,
             "#fb9f3a"
            ],
            [
             0.8888888888888888,
             "#fdca26"
            ],
            [
             1,
             "#f0f921"
            ]
           ]
          },
          "colorway": [
           "#636efa",
           "#EF553B",
           "#00cc96",
           "#ab63fa",
           "#FFA15A",
           "#19d3f3",
           "#FF6692",
           "#B6E880",
           "#FF97FF",
           "#FECB52"
          ],
          "font": {
           "color": "#2a3f5f"
          },
          "geo": {
           "bgcolor": "white",
           "lakecolor": "white",
           "landcolor": "#E5ECF6",
           "showlakes": true,
           "showland": true,
           "subunitcolor": "white"
          },
          "hoverlabel": {
           "align": "left"
          },
          "hovermode": "closest",
          "mapbox": {
           "style": "light"
          },
          "paper_bgcolor": "white",
          "plot_bgcolor": "#E5ECF6",
          "polar": {
           "angularaxis": {
            "gridcolor": "white",
            "linecolor": "white",
            "ticks": ""
           },
           "bgcolor": "#E5ECF6",
           "radialaxis": {
            "gridcolor": "white",
            "linecolor": "white",
            "ticks": ""
           }
          },
          "scene": {
           "xaxis": {
            "backgroundcolor": "#E5ECF6",
            "gridcolor": "white",
            "gridwidth": 2,
            "linecolor": "white",
            "showbackground": true,
            "ticks": "",
            "zerolinecolor": "white"
           },
           "yaxis": {
            "backgroundcolor": "#E5ECF6",
            "gridcolor": "white",
            "gridwidth": 2,
            "linecolor": "white",
            "showbackground": true,
            "ticks": "",
            "zerolinecolor": "white"
           },
           "zaxis": {
            "backgroundcolor": "#E5ECF6",
            "gridcolor": "white",
            "gridwidth": 2,
            "linecolor": "white",
            "showbackground": true,
            "ticks": "",
            "zerolinecolor": "white"
           }
          },
          "shapedefaults": {
           "line": {
            "color": "#2a3f5f"
           }
          },
          "ternary": {
           "aaxis": {
            "gridcolor": "white",
            "linecolor": "white",
            "ticks": ""
           },
           "baxis": {
            "gridcolor": "white",
            "linecolor": "white",
            "ticks": ""
           },
           "bgcolor": "#E5ECF6",
           "caxis": {
            "gridcolor": "white",
            "linecolor": "white",
            "ticks": ""
           }
          },
          "title": {
           "x": 0.05
          },
          "xaxis": {
           "automargin": true,
           "gridcolor": "white",
           "linecolor": "white",
           "ticks": "",
           "title": {
            "standoff": 15
           },
           "zerolinecolor": "white",
           "zerolinewidth": 2
          },
          "yaxis": {
           "automargin": true,
           "gridcolor": "white",
           "linecolor": "white",
           "ticks": "",
           "title": {
            "standoff": 15
           },
           "zerolinecolor": "white",
           "zerolinewidth": 2
          }
         }
        },
        "width": 800,
        "xaxis": {
         "anchor": "y",
         "constrain": "domain",
         "domain": [
          0,
          1
         ],
         "scaleanchor": "y",
         "side": "top"
        },
        "yaxis": {
         "anchor": "x",
         "autorange": "reversed",
         "constrain": "domain",
         "domain": [
          0,
          1
         ]
        }
       }
      }
     },
     "metadata": {},
     "output_type": "display_data"
    }
   ],
   "source": [
    "if df.shape[0] != df['Category'].isnull().sum() : \n",
    "  fig = px.imshow(pd.DataFrame(np.round(normalize(cat_per_questionnaire,norm='l1').T*100,1), # for printing text, we round the percentages to 1 decimal\n",
    "                              columns = cat_per_questionnaire.index,\n",
    "                              index= cat_per_questionnaire.columns),\n",
    "                  text_auto=True, # add the text\n",
    "                  color_continuous_scale= 'Portland'# more color palettes available here : https://plotly.com/python/builtin-colorscales/\n",
    "  )\n",
    "  fig.update_xaxes(side=\"top\") # xaxis on top of the figure\n",
    "  fig.update_layout(\n",
    "    autosize=False,\n",
    "    width=800,\n",
    "    height=400\n",
    "    )\n",
    "  #fig.write_image(\"figure3_heatmap.pdf\") # writing the figure in a file\n",
    "  fig.show() # showing the figure\n",
    "else : \n",
    "  print('No category in this dataframe !')"
   ]
  },
  {
   "attachments": {},
   "cell_type": "markdown",
   "metadata": {
    "id": "dgGMcg8IvzX6"
   },
   "source": [
    "Figure 3 has been save in the online folder (📁 symbol on the left) under the name [figure3_heatmap.pdf](figure3_heatmap.pdf). You can change the name and the format of the file changing the name in the `#fig.write_image()` function. \n",
    "<br>⚠️ If you need it, save the figure on your local computer : these online file will be deleted as soon as you quit this page!"
   ]
  },
  {
   "attachments": {},
   "cell_type": "markdown",
   "metadata": {
    "id": "M9ddyXYaTthc"
   },
   "source": [
    "---\n",
    "# 2. Analysis and data vizualisation of content analysis Figure"
   ]
  },
  {
   "cell_type": "markdown",
   "metadata": {
    "id": "lLJwmyUyYQa0"
   },
   "source": [
    "## Changing shape of data"
   ]
  },
  {
   "cell_type": "code",
   "execution_count": 137,
   "metadata": {
    "colab": {
     "base_uri": "https://localhost:8080/",
     "height": 206
    },
    "id": "KqkwIGepYQKw",
    "outputId": "bb6ff268-639e-4a5f-9e19-f4395e925490"
   },
   "outputs": [
    {
     "data": {
      "text/html": [
       "<div>\n",
       "<style scoped>\n",
       "    .dataframe tbody tr th:only-of-type {\n",
       "        vertical-align: middle;\n",
       "    }\n",
       "\n",
       "    .dataframe tbody tr th {\n",
       "        vertical-align: top;\n",
       "    }\n",
       "\n",
       "    .dataframe thead th {\n",
       "        text-align: right;\n",
       "    }\n",
       "</style>\n",
       "<table border=\"1\" class=\"dataframe\">\n",
       "  <thead>\n",
       "    <tr style=\"text-align: right;\">\n",
       "      <th></th>\n",
       "      <th>Category</th>\n",
       "      <th>Subcategory</th>\n",
       "      <th>Ab</th>\n",
       "      <th>Symptom</th>\n",
       "      <th>variable</th>\n",
       "      <th>value</th>\n",
       "    </tr>\n",
       "  </thead>\n",
       "  <tbody>\n",
       "    <tr>\n",
       "      <th>0</th>\n",
       "      <td>OSA symptoms</td>\n",
       "      <td>Breath abnormalities observations</td>\n",
       "      <td>S006</td>\n",
       "      <td>Stop breathing observations</td>\n",
       "      <td>ASA</td>\n",
       "      <td>1</td>\n",
       "    </tr>\n",
       "    <tr>\n",
       "      <th>1</th>\n",
       "      <td>OSA symptoms</td>\n",
       "      <td>Snoring</td>\n",
       "      <td>S002</td>\n",
       "      <td>Loud Snoring</td>\n",
       "      <td>ASA</td>\n",
       "      <td>1</td>\n",
       "    </tr>\n",
       "    <tr>\n",
       "      <th>2</th>\n",
       "      <td>OSA symptoms</td>\n",
       "      <td>Snoring</td>\n",
       "      <td>S001</td>\n",
       "      <td>Snoring</td>\n",
       "      <td>ASA</td>\n",
       "      <td>1</td>\n",
       "    </tr>\n",
       "    <tr>\n",
       "      <th>3</th>\n",
       "      <td>Clinical characteristics</td>\n",
       "      <td>Anthropometric</td>\n",
       "      <td>S020</td>\n",
       "      <td>BMI</td>\n",
       "      <td>ASA</td>\n",
       "      <td>1</td>\n",
       "    </tr>\n",
       "    <tr>\n",
       "      <th>4</th>\n",
       "      <td>Sleep-related symptoms</td>\n",
       "      <td>Sleepiness</td>\n",
       "      <td>S010</td>\n",
       "      <td>Fatigue</td>\n",
       "      <td>ASA</td>\n",
       "      <td>2</td>\n",
       "    </tr>\n",
       "  </tbody>\n",
       "</table>\n",
       "</div>"
      ],
      "text/plain": [
       "                   Category                        Subcategory    Ab  \\\n",
       "0              OSA symptoms  Breath abnormalities observations  S006   \n",
       "1              OSA symptoms                            Snoring  S002   \n",
       "2              OSA symptoms                            Snoring  S001   \n",
       "3  Clinical characteristics                     Anthropometric  S020   \n",
       "4    Sleep-related symptoms                         Sleepiness  S010   \n",
       "\n",
       "                       Symptom variable  value  \n",
       "0  Stop breathing observations      ASA      1  \n",
       "1                 Loud Snoring      ASA      1  \n",
       "2                      Snoring      ASA      1  \n",
       "3                          BMI      ASA      1  \n",
       "4                      Fatigue      ASA      2  "
      ]
     },
     "execution_count": 137,
     "metadata": {},
     "output_type": "execute_result"
    }
   ],
   "source": [
    "# changing the shape of data\n",
    "df_col = df.melt(id_vars=['Category','Subcategory','Ab', 'Symptom'], value_vars=col).copy()\n",
    "df_col.head()"
   ]
  },
  {
   "attachments": {},
   "cell_type": "markdown",
   "metadata": {
    "id": "yePX1cREmJzO"
   },
   "source": [
    "## Content Analysis Figure"
   ]
  },
  {
   "cell_type": "markdown",
   "metadata": {},
   "source": [
    "If you want to analyse custom data, you will have to set the variable `max_radius` so that the figure have the desired look !"
   ]
  },
  {
   "cell_type": "code",
   "execution_count": 138,
   "metadata": {
    "id": "dBCCGl1emIyg"
   },
   "outputs": [
    {
     "data": {
      "application/vnd.plotly.v1+json": {
       "config": {
        "plotlyServerURL": "https://plotly.com"
       },
       "data": [
        {
         "mode": "markers",
         "opacity": 0,
         "r": [
          0,
          0,
          0,
          0,
          0,
          0,
          0,
          0,
          0,
          0,
          0,
          0,
          0,
          0,
          0,
          0,
          0,
          0,
          0,
          0,
          0,
          0,
          0,
          0,
          0
         ],
         "showlegend": false,
         "theta": [
          "S006",
          "S002",
          "S001",
          "S020",
          "S010",
          "S016",
          "S009",
          "S021",
          "S013",
          "S017",
          "S018",
          "S003",
          "S004",
          "S011",
          "S024",
          "S005",
          "S007",
          "S008",
          "S012",
          "S014",
          "S015",
          "S019",
          "S022",
          "S023",
          "S025"
         ],
         "type": "scatterpolar"
        },
        {
         "hoverinfo": "text",
         "hovertext": [
          "Scale: ASA<br>Sympt.:Stop breathing observations<br>Specific<br>Category: OSA symptoms",
          "Scale: ASA<br>Sympt.:Loud Snoring<br>Specific<br>Category: OSA symptoms",
          "Scale: ASA<br>Sympt.:Snoring<br>Specific<br>Category: OSA symptoms",
          "Scale: ASA<br>Sympt.:BMI<br>Specific<br>Category: Clinical characteristics",
          "Scale: ASA<br>Sympt.:Awakening<br>Specific<br>Category: Sleep-related symptoms",
          "Scale: ASA<br>Sympt.:Neck circumference<br>Specific<br>Category: Clinical characteristics",
          "Scale: ASA<br>Sympt.:Amygdala/Toncil<br>Specific<br>Category: Clinical characteristics",
          "Scale: ASA<br>Sympt.:Nose<br>Specific<br>Category: Clinical characteristics",
          "Scale: ASA<br>Sympt.:Craniofacial<br>Specific<br>Category: Clinical characteristics"
         ],
         "marker": {
          "color": "rgb(102, 197, 204)",
          "line": {
           "width": 0
          },
          "symbol": "circle"
         },
         "mode": "markers",
         "name": "ASA",
         "opacity": 1,
         "r": [
          17,
          17,
          17,
          17,
          17,
          17,
          17,
          17,
          17
         ],
         "theta": [
          "S006",
          "S002",
          "S001",
          "S020",
          "S013",
          "S018",
          "S024",
          "S023",
          "S025"
         ],
         "type": "scatterpolar"
        },
        {
         "hoverinfo": "text",
         "hovertext": [
          "Scale: SA-SDQ<br>Sympt.:Stop breathing observations<br>Specific<br>Category: OSA symptoms",
          "Scale: SA-SDQ<br>Sympt.:Loud Snoring<br>Specific<br>Category: OSA symptoms",
          "Scale: SA-SDQ<br>Sympt.:BMI<br>Specific<br>Category: Clinical characteristics",
          "Scale: SA-SDQ<br>Sympt.:Age<br>Specific<br>Category: Clinical characteristics",
          "Scale: SA-SDQ<br>Sympt.:HTA<br>Specific<br>Category: Clinical characteristics",
          "Scale: SA-SDQ<br>Sympt.:Self-complaints of breath abnormalities<br>Specific<br>Category: OSA symptoms",
          "Scale: SA-SDQ<br>Sympt.:Sweating<br>Specific<br>Category: OSA symptoms",
          "Scale: SA-SDQ<br>Sympt.:Positional<br>Specific<br>Category: OSA symptoms",
          "Scale: SA-SDQ<br>Sympt.:Alcohol<br>Specific<br>Category: OSA symptoms",
          "Scale: SA-SDQ<br>Sympt.:Tobacco<br>Specific<br>Category: Clinical characteristics"
         ],
         "marker": {
          "color": "rgb(246, 207, 113)",
          "line": {
           "width": 0
          },
          "symbol": "circle"
         },
         "mode": "markers",
         "name": "SA-SDQ",
         "opacity": 1,
         "r": [
          16,
          16,
          16,
          16,
          16,
          16,
          16,
          16,
          16,
          16
         ],
         "theta": [
          "S006",
          "S002",
          "S020",
          "S016",
          "S021",
          "S003",
          "S005",
          "S007",
          "S008",
          "S022"
         ],
         "type": "scatterpolar"
        },
        {
         "hoverinfo": "text",
         "hovertext": [
          "Scale: STOP-Bang<br>Sympt.:Stop breathing observations<br>Specific<br>Category: OSA symptoms",
          "Scale: STOP-Bang<br>Sympt.:Loud Snoring<br>Specific<br>Category: OSA symptoms",
          "Scale: STOP-Bang<br>Sympt.:BMI<br>Specific<br>Category: Clinical characteristics",
          "Scale: STOP-Bang<br>Sympt.:Age<br>Specific<br>Category: Clinical characteristics",
          "Scale: STOP-Bang<br>Sympt.:HTA<br>Specific<br>Category: Clinical characteristics",
          "Scale: STOP-Bang<br>Sympt.:Sex<br>Specific<br>Category: Clinical characteristics",
          "Scale: STOP-Bang<br>Sympt.:Neck circumference<br>Specific<br>Category: Clinical characteristics"
         ],
         "marker": {
          "color": "rgb(248, 156, 116)",
          "line": {
           "width": 0
          },
          "symbol": "circle"
         },
         "mode": "markers",
         "name": "STOP-Bang",
         "opacity": 1,
         "r": [
          15,
          15,
          15,
          15,
          15,
          15,
          15
         ],
         "theta": [
          "S006",
          "S002",
          "S020",
          "S016",
          "S021",
          "S017",
          "S018"
         ],
         "type": "scatterpolar"
        },
        {
         "hoverinfo": "text",
         "hovertext": [
          "Scale: Berlin<br>Sympt.:Stop breathing observations<br>Specific<br>Category: OSA symptoms",
          "Scale: Berlin<br>Sympt.:Loud Snoring<br>Specific<br>Category: OSA symptoms",
          "Scale: Berlin<br>Sympt.:Snoring<br>Specific<br>Category: OSA symptoms",
          "Scale: Berlin<br>Sympt.:BMI<br>Specific<br>Category: Clinical characteristics",
          "Scale: Berlin<br>Sympt.:Fatigue<br>Specific<br>Category: Sleep-related symptoms",
          "Scale: Berlin<br>Sympt.:HTA<br>Specific<br>Category: Clinical characteristics",
          "Scale: Berlin<br>Sympt.:Breath abnormalities complaints reported by other<br>Specific<br>Category: OSA symptoms",
          "Scale: Berlin<br>Sympt.:Sleepiness at the wheel<br>Specific<br>Category: Sleep-related symptoms"
         ],
         "marker": {
          "color": "rgb(220, 176, 242)",
          "line": {
           "width": 0
          },
          "symbol": "circle"
         },
         "mode": "markers",
         "name": "Berlin",
         "opacity": 1,
         "r": [
          14,
          14,
          14,
          14,
          14,
          14,
          14,
          14
         ],
         "theta": [
          "S006",
          "S002",
          "S001",
          "S020",
          "S010",
          "S021",
          "S004",
          "S011"
         ],
         "type": "scatterpolar"
        },
        {
         "hoverinfo": "text",
         "hovertext": [
          "Scale: Haraldsson<br>Sympt.:Stop breathing observations<br>Specific<br>Category: OSA symptoms",
          "Scale: Haraldsson<br>Sympt.:Snoring<br>Specific<br>Category: OSA symptoms",
          "Scale: Haraldsson<br>Sympt.:Awakening<br>Specific<br>Category: Sleep-related symptoms"
         ],
         "marker": {
          "color": "rgb(135, 197, 95)",
          "line": {
           "width": 0
          },
          "symbol": "circle"
         },
         "mode": "markers",
         "name": "Haraldsson",
         "opacity": 1,
         "r": [
          13,
          13,
          13
         ],
         "theta": [
          "S006",
          "S001",
          "S013"
         ],
         "type": "scatterpolar"
        },
        {
         "hoverinfo": "text",
         "hovertext": [
          "Scale: NoSAS<br>Sympt.:Snoring<br>Specific<br>Category: OSA symptoms",
          "Scale: NoSAS<br>Sympt.:BMI<br>Specific<br>Category: Clinical characteristics",
          "Scale: NoSAS<br>Sympt.:Age<br>Specific<br>Category: Clinical characteristics",
          "Scale: NoSAS<br>Sympt.:Sex<br>Specific<br>Category: Clinical characteristics",
          "Scale: NoSAS<br>Sympt.:Neck circumference<br>Specific<br>Category: Clinical characteristics"
         ],
         "marker": {
          "color": "rgb(158, 185, 243)",
          "line": {
           "width": 0
          },
          "symbol": "circle"
         },
         "mode": "markers",
         "name": "NoSAS",
         "opacity": 1,
         "r": [
          12,
          12,
          12,
          12,
          12
         ],
         "theta": [
          "S001",
          "S020",
          "S016",
          "S017",
          "S018"
         ],
         "type": "scatterpolar"
        },
        {
         "hoverinfo": "text",
         "hovertext": [
          "Scale: STOP<br>Sympt.:Stop breathing observations<br>Specific<br>Category: OSA symptoms",
          "Scale: STOP<br>Sympt.:Loud Snoring<br>Specific<br>Category: OSA symptoms",
          "Scale: STOP<br>Sympt.:HTA<br>Specific<br>Category: Clinical characteristics"
         ],
         "marker": {
          "color": "rgb(254, 136, 177)",
          "line": {
           "width": 0
          },
          "symbol": "circle"
         },
         "mode": "markers",
         "name": "STOP",
         "opacity": 1,
         "r": [
          11,
          11,
          11
         ],
         "theta": [
          "S006",
          "S002",
          "S021"
         ],
         "type": "scatterpolar"
        },
        {
         "hoverinfo": "text",
         "hovertext": [
          "Scale: GOAL<br>Sympt.:Loud Snoring<br>Specific<br>Category: OSA symptoms",
          "Scale: GOAL<br>Sympt.:BMI<br>Specific<br>Category: Clinical characteristics",
          "Scale: GOAL<br>Sympt.:Age<br>Specific<br>Category: Clinical characteristics",
          "Scale: GOAL<br>Sympt.:Sex<br>Specific<br>Category: Clinical characteristics"
         ],
         "marker": {
          "color": "rgb(201, 219, 116)",
          "line": {
           "width": 0
          },
          "symbol": "circle"
         },
         "mode": "markers",
         "name": "GOAL",
         "opacity": 1,
         "r": [
          10,
          10,
          10,
          10
         ],
         "theta": [
          "S002",
          "S020",
          "S016",
          "S017"
         ],
         "type": "scatterpolar"
        },
        {
         "hoverinfo": "text",
         "hovertext": [
          "Scale: OSA 50<br>Sympt.:Stop breathing observations<br>Specific<br>Category: OSA symptoms",
          "Scale: OSA 50<br>Sympt.:Age<br>Specific<br>Category: Clinical characteristics",
          "Scale: OSA 50<br>Sympt.:Breath abnormalities complaints reported by other<br>Specific<br>Category: OSA symptoms",
          "Scale: OSA 50<br>Sympt.:Waist circumference <br>Specific<br>Category: Clinical characteristics"
         ],
         "marker": {
          "color": "rgb(139, 224, 164)",
          "line": {
           "width": 0
          },
          "symbol": "circle"
         },
         "mode": "markers",
         "name": "OSA 50",
         "opacity": 1,
         "r": [
          9,
          9,
          9,
          9
         ],
         "theta": [
          "S006",
          "S016",
          "S004",
          "S019"
         ],
         "type": "scatterpolar"
        },
        {
         "hoverinfo": "text",
         "hovertext": [
          "Scale: AS<br>Sympt.:Stop breathing observations<br>Specific<br>Category: OSA symptoms",
          "Scale: AS<br>Sympt.:Amygdala/Toncil<br>Specific<br>Category: Clinical characteristics"
         ],
         "marker": {
          "color": "rgb(180, 151, 231)",
          "line": {
           "width": 0
          },
          "symbol": "circle"
         },
         "mode": "markers",
         "name": "AS",
         "opacity": 1,
         "r": [
          8,
          8
         ],
         "theta": [
          "S006",
          "S024"
         ],
         "type": "scatterpolar"
        },
        {
         "hoverinfo": "text",
         "hovertext": [
          "Scale: Wisconsin Q<br>Sympt.:Stop breathing observations<br>Specific<br>Category: OSA symptoms",
          "Scale: Wisconsin Q<br>Sympt.:Loud Snoring<br>Specific<br>Category: OSA symptoms",
          "Scale: Wisconsin Q<br>Sympt.:Snoring<br>Specific<br>Category: OSA symptoms"
         ],
         "marker": {
          "color": "rgb(179, 179, 179)",
          "line": {
           "width": 0
          },
          "symbol": "circle"
         },
         "mode": "markers",
         "name": "Wisconsin Q",
         "opacity": 1,
         "r": [
          7,
          7,
          7
         ],
         "theta": [
          "S006",
          "S002",
          "S001"
         ],
         "type": "scatterpolar"
        },
        {
         "hoverinfo": "text",
         "hovertext": [
          "Scale: ASA<br>Sympt.:Fatigue<br>Compound<br>Category: Sleep-related symptoms",
          "Scale: ASA<br>Sympt.:Daytime sleepiness<br>Compound<br>Category: Sleep-related symptoms",
          "Scale: ASA<br>Sympt.:Self-complaints of breath abnormalities<br>Compound<br>Category: OSA symptoms",
          "Scale: ASA<br>Sympt.:Sleepiness at the wheel<br>Compound<br>Category: Sleep-related symptoms"
         ],
         "marker": {
          "color": "white",
          "line": {
           "color": "rgb(102, 197, 204)",
           "width": 1
          },
          "symbol": "circle"
         },
         "mode": "markers",
         "r": [
          17,
          17,
          17,
          17
         ],
         "showlegend": false,
         "theta": [
          "S010",
          "S009",
          "S003",
          "S011"
         ],
         "type": "scatterpolar"
        },
        {
         "hoverinfo": "text",
         "hovertext": [
          "Scale: SA-SDQ<br>Sympt.:Awakening<br>Compound<br>Category: Sleep-related symptoms"
         ],
         "marker": {
          "color": "white",
          "line": {
           "color": "rgb(246, 207, 113)",
           "width": 1
          },
          "symbol": "circle"
         },
         "mode": "markers",
         "r": [
          16
         ],
         "showlegend": false,
         "theta": [
          "S013"
         ],
         "type": "scatterpolar"
        },
        {
         "hoverinfo": "text",
         "hovertext": [
          "Scale: STOP-Bang<br>Sympt.:Fatigue<br>Compound<br>Category: Sleep-related symptoms",
          "Scale: STOP-Bang<br>Sympt.:Daytime sleepiness<br>Compound<br>Category: Sleep-related symptoms"
         ],
         "marker": {
          "color": "white",
          "line": {
           "color": "rgb(248, 156, 116)",
           "width": 1
          },
          "symbol": "circle"
         },
         "mode": "markers",
         "r": [
          15,
          15
         ],
         "showlegend": false,
         "theta": [
          "S010",
          "S009"
         ],
         "type": "scatterpolar"
        },
        {
         "hoverinfo": "text",
         "hovertext": [
          "Scale: Berlin<br>Sympt.:Functionning complaints<br>Compound<br>Category: Sleep-related symptoms"
         ],
         "marker": {
          "color": "white",
          "line": {
           "color": "rgb(220, 176, 242)",
           "width": 1
          },
          "symbol": "circle"
         },
         "mode": "markers",
         "r": [
          14
         ],
         "showlegend": false,
         "theta": [
          "S012"
         ],
         "type": "scatterpolar"
        },
        {
         "hoverinfo": "text",
         "hovertext": [
          "Scale: Haraldsson<br>Sympt.:Fatigue<br>Compound<br>Category: Sleep-related symptoms",
          "Scale: Haraldsson<br>Sympt.:Daytime sleepiness<br>Compound<br>Category: Sleep-related symptoms",
          "Scale: Haraldsson<br>Sympt.:Insomnia maintaining<br>Compound<br>Category: Sleep-related symptoms",
          "Scale: Haraldsson<br>Sympt.:Insomnia initiating<br>Compound<br>Category: Sleep-related symptoms"
         ],
         "marker": {
          "color": "white",
          "line": {
           "color": "rgb(135, 197, 95)",
           "width": 1
          },
          "symbol": "circle"
         },
         "mode": "markers",
         "r": [
          13,
          13,
          13,
          13
         ],
         "showlegend": false,
         "theta": [
          "S010",
          "S009",
          "S014",
          "S015"
         ],
         "type": "scatterpolar"
        },
        {
         "hoverinfo": "text",
         "hovertext": [
          "Scale: STOP<br>Sympt.:Fatigue<br>Compound<br>Category: Sleep-related symptoms",
          "Scale: STOP<br>Sympt.:Daytime sleepiness<br>Compound<br>Category: Sleep-related symptoms"
         ],
         "marker": {
          "color": "white",
          "line": {
           "color": "rgb(254, 136, 177)",
           "width": 1
          },
          "symbol": "circle"
         },
         "mode": "markers",
         "r": [
          11,
          11
         ],
         "showlegend": false,
         "theta": [
          "S010",
          "S009"
         ],
         "type": "scatterpolar"
        },
        {
         "hoverinfo": "text",
         "hovertext": [
          "Scale: AS<br>Sympt.:Loud Snoring<br>Compound<br>Category: OSA symptoms",
          "Scale: AS<br>Sympt.:Snoring<br>Compound<br>Category: OSA symptoms"
         ],
         "marker": {
          "color": "white",
          "line": {
           "color": "rgb(180, 151, 231)",
           "width": 1
          },
          "symbol": "circle"
         },
         "mode": "markers",
         "r": [
          8,
          8
         ],
         "showlegend": false,
         "theta": [
          "S002",
          "S001"
         ],
         "type": "scatterpolar"
        },
        {
         "fill": "toself",
         "fillcolor": "white",
         "line": {
          "color": "white",
          "width": 0
         },
         "r": [
          6.2,
          6.2,
          6.2,
          6.2,
          6.2,
          6.2,
          6.2,
          6.2,
          6.2,
          6.2,
          6.2,
          6.2,
          6.2,
          6.2,
          6.2,
          6.2,
          6.2,
          6.2,
          6.2,
          6.2,
          6.2,
          6.2,
          6.2,
          6.2,
          6.2
         ],
         "showlegend": false,
         "theta": [
          "S006",
          "S002",
          "S001",
          "S020",
          "S010",
          "S016",
          "S009",
          "S021",
          "S013",
          "S017",
          "S018",
          "S003",
          "S004",
          "S011",
          "S024",
          "S005",
          "S007",
          "S008",
          "S012",
          "S014",
          "S015",
          "S019",
          "S022",
          "S023",
          "S025"
         ],
         "type": "scatterpolar"
        }
       ],
       "layout": {
        "autosize": true,
        "height": 500,
        "legend": {
         "font": {
          "color": "black",
          "size": 10
         }
        },
        "paper_bgcolor": "rgba(0,0,0,0)",
        "plot_bgcolor": "rgba(0,0,0,0)",
        "polar": {
         "angularaxis": {
          "direction": "counterclockwise",
          "gridcolor": "lightgrey",
          "rotation": 90,
          "tickfont": {
           "size": 7
          }
         },
         "bgcolor": "white",
         "radialaxis": {
          "color": "lightgrey",
          "dtick": 1,
          "gridcolor": "lightgrey",
          "gridwidth": 1,
          "layer": "below traces",
          "linecolor": "lightgrey",
          "range": [
           0,
           18
          ],
          "showgrid": true,
          "tickfont": {
           "color": "rgba(0,0,0,0)"
          },
          "visible": true
         }
        },
        "template": {
         "data": {
          "bar": [
           {
            "error_x": {
             "color": "#2a3f5f"
            },
            "error_y": {
             "color": "#2a3f5f"
            },
            "marker": {
             "line": {
              "color": "#E5ECF6",
              "width": 0.5
             },
             "pattern": {
              "fillmode": "overlay",
              "size": 10,
              "solidity": 0.2
             }
            },
            "type": "bar"
           }
          ],
          "barpolar": [
           {
            "marker": {
             "line": {
              "color": "#E5ECF6",
              "width": 0.5
             },
             "pattern": {
              "fillmode": "overlay",
              "size": 10,
              "solidity": 0.2
             }
            },
            "type": "barpolar"
           }
          ],
          "carpet": [
           {
            "aaxis": {
             "endlinecolor": "#2a3f5f",
             "gridcolor": "white",
             "linecolor": "white",
             "minorgridcolor": "white",
             "startlinecolor": "#2a3f5f"
            },
            "baxis": {
             "endlinecolor": "#2a3f5f",
             "gridcolor": "white",
             "linecolor": "white",
             "minorgridcolor": "white",
             "startlinecolor": "#2a3f5f"
            },
            "type": "carpet"
           }
          ],
          "choropleth": [
           {
            "colorbar": {
             "outlinewidth": 0,
             "ticks": ""
            },
            "type": "choropleth"
           }
          ],
          "contour": [
           {
            "colorbar": {
             "outlinewidth": 0,
             "ticks": ""
            },
            "colorscale": [
             [
              0,
              "#0d0887"
             ],
             [
              0.1111111111111111,
              "#46039f"
             ],
             [
              0.2222222222222222,
              "#7201a8"
             ],
             [
              0.3333333333333333,
              "#9c179e"
             ],
             [
              0.4444444444444444,
              "#bd3786"
             ],
             [
              0.5555555555555556,
              "#d8576b"
             ],
             [
              0.6666666666666666,
              "#ed7953"
             ],
             [
              0.7777777777777778,
              "#fb9f3a"
             ],
             [
              0.8888888888888888,
              "#fdca26"
             ],
             [
              1,
              "#f0f921"
             ]
            ],
            "type": "contour"
           }
          ],
          "contourcarpet": [
           {
            "colorbar": {
             "outlinewidth": 0,
             "ticks": ""
            },
            "type": "contourcarpet"
           }
          ],
          "heatmap": [
           {
            "colorbar": {
             "outlinewidth": 0,
             "ticks": ""
            },
            "colorscale": [
             [
              0,
              "#0d0887"
             ],
             [
              0.1111111111111111,
              "#46039f"
             ],
             [
              0.2222222222222222,
              "#7201a8"
             ],
             [
              0.3333333333333333,
              "#9c179e"
             ],
             [
              0.4444444444444444,
              "#bd3786"
             ],
             [
              0.5555555555555556,
              "#d8576b"
             ],
             [
              0.6666666666666666,
              "#ed7953"
             ],
             [
              0.7777777777777778,
              "#fb9f3a"
             ],
             [
              0.8888888888888888,
              "#fdca26"
             ],
             [
              1,
              "#f0f921"
             ]
            ],
            "type": "heatmap"
           }
          ],
          "heatmapgl": [
           {
            "colorbar": {
             "outlinewidth": 0,
             "ticks": ""
            },
            "colorscale": [
             [
              0,
              "#0d0887"
             ],
             [
              0.1111111111111111,
              "#46039f"
             ],
             [
              0.2222222222222222,
              "#7201a8"
             ],
             [
              0.3333333333333333,
              "#9c179e"
             ],
             [
              0.4444444444444444,
              "#bd3786"
             ],
             [
              0.5555555555555556,
              "#d8576b"
             ],
             [
              0.6666666666666666,
              "#ed7953"
             ],
             [
              0.7777777777777778,
              "#fb9f3a"
             ],
             [
              0.8888888888888888,
              "#fdca26"
             ],
             [
              1,
              "#f0f921"
             ]
            ],
            "type": "heatmapgl"
           }
          ],
          "histogram": [
           {
            "marker": {
             "pattern": {
              "fillmode": "overlay",
              "size": 10,
              "solidity": 0.2
             }
            },
            "type": "histogram"
           }
          ],
          "histogram2d": [
           {
            "colorbar": {
             "outlinewidth": 0,
             "ticks": ""
            },
            "colorscale": [
             [
              0,
              "#0d0887"
             ],
             [
              0.1111111111111111,
              "#46039f"
             ],
             [
              0.2222222222222222,
              "#7201a8"
             ],
             [
              0.3333333333333333,
              "#9c179e"
             ],
             [
              0.4444444444444444,
              "#bd3786"
             ],
             [
              0.5555555555555556,
              "#d8576b"
             ],
             [
              0.6666666666666666,
              "#ed7953"
             ],
             [
              0.7777777777777778,
              "#fb9f3a"
             ],
             [
              0.8888888888888888,
              "#fdca26"
             ],
             [
              1,
              "#f0f921"
             ]
            ],
            "type": "histogram2d"
           }
          ],
          "histogram2dcontour": [
           {
            "colorbar": {
             "outlinewidth": 0,
             "ticks": ""
            },
            "colorscale": [
             [
              0,
              "#0d0887"
             ],
             [
              0.1111111111111111,
              "#46039f"
             ],
             [
              0.2222222222222222,
              "#7201a8"
             ],
             [
              0.3333333333333333,
              "#9c179e"
             ],
             [
              0.4444444444444444,
              "#bd3786"
             ],
             [
              0.5555555555555556,
              "#d8576b"
             ],
             [
              0.6666666666666666,
              "#ed7953"
             ],
             [
              0.7777777777777778,
              "#fb9f3a"
             ],
             [
              0.8888888888888888,
              "#fdca26"
             ],
             [
              1,
              "#f0f921"
             ]
            ],
            "type": "histogram2dcontour"
           }
          ],
          "mesh3d": [
           {
            "colorbar": {
             "outlinewidth": 0,
             "ticks": ""
            },
            "type": "mesh3d"
           }
          ],
          "parcoords": [
           {
            "line": {
             "colorbar": {
              "outlinewidth": 0,
              "ticks": ""
             }
            },
            "type": "parcoords"
           }
          ],
          "pie": [
           {
            "automargin": true,
            "type": "pie"
           }
          ],
          "scatter": [
           {
            "fillpattern": {
             "fillmode": "overlay",
             "size": 10,
             "solidity": 0.2
            },
            "type": "scatter"
           }
          ],
          "scatter3d": [
           {
            "line": {
             "colorbar": {
              "outlinewidth": 0,
              "ticks": ""
             }
            },
            "marker": {
             "colorbar": {
              "outlinewidth": 0,
              "ticks": ""
             }
            },
            "type": "scatter3d"
           }
          ],
          "scattercarpet": [
           {
            "marker": {
             "colorbar": {
              "outlinewidth": 0,
              "ticks": ""
             }
            },
            "type": "scattercarpet"
           }
          ],
          "scattergeo": [
           {
            "marker": {
             "colorbar": {
              "outlinewidth": 0,
              "ticks": ""
             }
            },
            "type": "scattergeo"
           }
          ],
          "scattergl": [
           {
            "marker": {
             "colorbar": {
              "outlinewidth": 0,
              "ticks": ""
             }
            },
            "type": "scattergl"
           }
          ],
          "scattermapbox": [
           {
            "marker": {
             "colorbar": {
              "outlinewidth": 0,
              "ticks": ""
             }
            },
            "type": "scattermapbox"
           }
          ],
          "scatterpolar": [
           {
            "marker": {
             "colorbar": {
              "outlinewidth": 0,
              "ticks": ""
             }
            },
            "type": "scatterpolar"
           }
          ],
          "scatterpolargl": [
           {
            "marker": {
             "colorbar": {
              "outlinewidth": 0,
              "ticks": ""
             }
            },
            "type": "scatterpolargl"
           }
          ],
          "scatterternary": [
           {
            "marker": {
             "colorbar": {
              "outlinewidth": 0,
              "ticks": ""
             }
            },
            "type": "scatterternary"
           }
          ],
          "surface": [
           {
            "colorbar": {
             "outlinewidth": 0,
             "ticks": ""
            },
            "colorscale": [
             [
              0,
              "#0d0887"
             ],
             [
              0.1111111111111111,
              "#46039f"
             ],
             [
              0.2222222222222222,
              "#7201a8"
             ],
             [
              0.3333333333333333,
              "#9c179e"
             ],
             [
              0.4444444444444444,
              "#bd3786"
             ],
             [
              0.5555555555555556,
              "#d8576b"
             ],
             [
              0.6666666666666666,
              "#ed7953"
             ],
             [
              0.7777777777777778,
              "#fb9f3a"
             ],
             [
              0.8888888888888888,
              "#fdca26"
             ],
             [
              1,
              "#f0f921"
             ]
            ],
            "type": "surface"
           }
          ],
          "table": [
           {
            "cells": {
             "fill": {
              "color": "#EBF0F8"
             },
             "line": {
              "color": "white"
             }
            },
            "header": {
             "fill": {
              "color": "#C8D4E3"
             },
             "line": {
              "color": "white"
             }
            },
            "type": "table"
           }
          ]
         },
         "layout": {
          "annotationdefaults": {
           "arrowcolor": "#2a3f5f",
           "arrowhead": 0,
           "arrowwidth": 1
          },
          "autotypenumbers": "strict",
          "coloraxis": {
           "colorbar": {
            "outlinewidth": 0,
            "ticks": ""
           }
          },
          "colorscale": {
           "diverging": [
            [
             0,
             "#8e0152"
            ],
            [
             0.1,
             "#c51b7d"
            ],
            [
             0.2,
             "#de77ae"
            ],
            [
             0.3,
             "#f1b6da"
            ],
            [
             0.4,
             "#fde0ef"
            ],
            [
             0.5,
             "#f7f7f7"
            ],
            [
             0.6,
             "#e6f5d0"
            ],
            [
             0.7,
             "#b8e186"
            ],
            [
             0.8,
             "#7fbc41"
            ],
            [
             0.9,
             "#4d9221"
            ],
            [
             1,
             "#276419"
            ]
           ],
           "sequential": [
            [
             0,
             "#0d0887"
            ],
            [
             0.1111111111111111,
             "#46039f"
            ],
            [
             0.2222222222222222,
             "#7201a8"
            ],
            [
             0.3333333333333333,
             "#9c179e"
            ],
            [
             0.4444444444444444,
             "#bd3786"
            ],
            [
             0.5555555555555556,
             "#d8576b"
            ],
            [
             0.6666666666666666,
             "#ed7953"
            ],
            [
             0.7777777777777778,
             "#fb9f3a"
            ],
            [
             0.8888888888888888,
             "#fdca26"
            ],
            [
             1,
             "#f0f921"
            ]
           ],
           "sequentialminus": [
            [
             0,
             "#0d0887"
            ],
            [
             0.1111111111111111,
             "#46039f"
            ],
            [
             0.2222222222222222,
             "#7201a8"
            ],
            [
             0.3333333333333333,
             "#9c179e"
            ],
            [
             0.4444444444444444,
             "#bd3786"
            ],
            [
             0.5555555555555556,
             "#d8576b"
            ],
            [
             0.6666666666666666,
             "#ed7953"
            ],
            [
             0.7777777777777778,
             "#fb9f3a"
            ],
            [
             0.8888888888888888,
             "#fdca26"
            ],
            [
             1,
             "#f0f921"
            ]
           ]
          },
          "colorway": [
           "#636efa",
           "#EF553B",
           "#00cc96",
           "#ab63fa",
           "#FFA15A",
           "#19d3f3",
           "#FF6692",
           "#B6E880",
           "#FF97FF",
           "#FECB52"
          ],
          "font": {
           "color": "#2a3f5f"
          },
          "geo": {
           "bgcolor": "white",
           "lakecolor": "white",
           "landcolor": "#E5ECF6",
           "showlakes": true,
           "showland": true,
           "subunitcolor": "white"
          },
          "hoverlabel": {
           "align": "left"
          },
          "hovermode": "closest",
          "mapbox": {
           "style": "light"
          },
          "paper_bgcolor": "white",
          "plot_bgcolor": "#E5ECF6",
          "polar": {
           "angularaxis": {
            "gridcolor": "white",
            "linecolor": "white",
            "ticks": ""
           },
           "bgcolor": "#E5ECF6",
           "radialaxis": {
            "gridcolor": "white",
            "linecolor": "white",
            "ticks": ""
           }
          },
          "scene": {
           "xaxis": {
            "backgroundcolor": "#E5ECF6",
            "gridcolor": "white",
            "gridwidth": 2,
            "linecolor": "white",
            "showbackground": true,
            "ticks": "",
            "zerolinecolor": "white"
           },
           "yaxis": {
            "backgroundcolor": "#E5ECF6",
            "gridcolor": "white",
            "gridwidth": 2,
            "linecolor": "white",
            "showbackground": true,
            "ticks": "",
            "zerolinecolor": "white"
           },
           "zaxis": {
            "backgroundcolor": "#E5ECF6",
            "gridcolor": "white",
            "gridwidth": 2,
            "linecolor": "white",
            "showbackground": true,
            "ticks": "",
            "zerolinecolor": "white"
           }
          },
          "shapedefaults": {
           "line": {
            "color": "#2a3f5f"
           }
          },
          "ternary": {
           "aaxis": {
            "gridcolor": "white",
            "linecolor": "white",
            "ticks": ""
           },
           "baxis": {
            "gridcolor": "white",
            "linecolor": "white",
            "ticks": ""
           },
           "bgcolor": "#E5ECF6",
           "caxis": {
            "gridcolor": "white",
            "linecolor": "white",
            "ticks": ""
           }
          },
          "title": {
           "x": 0.05
          },
          "xaxis": {
           "automargin": true,
           "gridcolor": "white",
           "linecolor": "white",
           "ticks": "",
           "title": {
            "standoff": 15
           },
           "zerolinecolor": "white",
           "zerolinewidth": 2
          },
          "yaxis": {
           "automargin": true,
           "gridcolor": "white",
           "linecolor": "white",
           "ticks": "",
           "title": {
            "standoff": 15
           },
           "zerolinecolor": "white",
           "zerolinewidth": 2
          }
         }
        },
        "width": 600
       }
      }
     },
     "metadata": {},
     "output_type": "display_data"
    }
   ],
   "source": [
    "###\n",
    "# PARAMETERS\n",
    "###\n",
    "if experiment == \"Fried2017\" :\n",
    "    max_radius = 13\n",
    "elif experiment == \"Gauld2023_sleep_content_analysis\" : \n",
    "    max_radius = 20 # maximum radius on the final figure\n",
    "elif experiment == \"Gauld2023_OSAS_content_analysis\" : \n",
    "    max_radius = 17 # maximum radius on the final figure\n",
    "else : \n",
    "    max_radius = 100 # <- /!\\ value to set /!\\ !!!\n",
    "min_radius = 6.2 # minimum intern radius\n",
    "\n",
    "# dictionnary questionnaire <->  radius of the circles\n",
    "dic = {}\n",
    "i = max_radius\n",
    "for scale in df_col.variable.unique() : \n",
    "    dic[scale] = i\n",
    "    i-=1\n",
    "\n",
    "# dictionnary scale <-> color\n",
    "palette = px.colors.qualitative.Pastel # choice of the palette. More choice in the following documentation : https://plotly.com/python/builtin-colorscales/\n",
    "i = 0\n",
    "dic_color = {}\n",
    "# circular attribution of the colors (at the end of the palette, we go back to the beginning)\n",
    "for scale in df_col['variable'].unique() : \n",
    "    if i>len(palette)-1 : \n",
    "        i = 0\n",
    "    dic_color[scale] =palette[i]\n",
    "    i+=1\n",
    "\n",
    "###\n",
    "# FIGURE\n",
    "###\n",
    "    \n",
    "fig = go.Figure()\n",
    "# transparency plot with all the symptoms to set their order in the plot\n",
    "fig.add_trace(go.Scatterpolar(\n",
    "            r = [0 for k in range(len(df.index))], # list of radiuses\n",
    "            theta = df.Ab, # list of angles\n",
    "            mode = 'markers',\n",
    "            showlegend = False, # no legend thanks\n",
    "        opacity = 0.0, # everything transparent !\n",
    "    ))\n",
    "\n",
    "if df.shape[0] == df['Category'].isnull().sum() : \n",
    "    df_col.loc[:,'Category'] = \"\"\n",
    "\n",
    "### specific symptoms (value == 1)\n",
    "df_spe = df_col[df_col.value == 1].copy() # we isolate only the specific symptoms\n",
    "for scale in df_spe.variable.unique() : \n",
    "    temp = df_spe[df_spe.variable==scale] # dataframe with the data of each scale\n",
    "    fig.add_trace(go.Scatterpolar(\n",
    "            r = [dic[scale] for k in range(temp.shape[0])], # constant radius corresponding to the dictionnary value\n",
    "            theta = temp.Ab, # angle = symptom \n",
    "            mode = 'markers',\n",
    "        name = scale, # name in the legend\n",
    "        hoverinfo=\"text\", # type of hover. 'text' means that we design it by hand.\n",
    "        hovertext= \"Scale: \"+scale+\"<br>\"+\"Sympt.:\"+temp.Symptom + \"<br>Specific\"+\"<br>Category: \"+temp.Category, # \\n is <br> (html)\n",
    "        # if category column in not empty\n",
    "        \n",
    "        opacity = 1.0,\n",
    "        marker=dict( #property of the markers\n",
    "            color = dic_color[scale], # color depending on the scale \n",
    "            symbol = \"circle\", # we want filled circles\n",
    "            line=dict( # property of the line of the markers\n",
    "                width=0 # we do not want line !\n",
    "            ))\n",
    "    ))\n",
    "\n",
    "### component symptoms (=2)\n",
    "df_comp = df_col[df_col.value == 2].copy()# we isolate only the compound symptoms\n",
    "for scale in df_comp.variable.unique() : \n",
    "    temp = df_comp[df_comp.variable==scale] # dataframe with the data of each scale\n",
    "    fig.add_trace(go.Scatterpolar(\n",
    "            r = [dic[scale] for k in range(temp.shape[0])], # constant radius corresponding to the dictionnary value\n",
    "            theta = temp.Ab,  # angle = symptom \n",
    "            mode = 'markers',\n",
    "        hoverinfo=\"text\",\n",
    "        hovertext= \"Scale: \"+scale+\"<br>\"+\"Sympt.:\"+temp.Symptom + \"<br>Compound\"+\"<br>Category: \"+temp.Category, # \\n is <br> (html)\n",
    "        showlegend = False, # no legend\n",
    "        marker=dict( # properties of the markers\n",
    "            color = 'white', # white circle with color line\n",
    "            symbol = \"circle\",\n",
    "            line=dict(\n",
    "                color=dic_color[scale], # color of the line\n",
    "                width=1, # width of the line\n",
    "         ))\n",
    "    ))\n",
    "    i+=1\n",
    "    \n",
    "### white circle in the center\n",
    "fig.add_trace(go.Scatterpolar(\n",
    "    r=[min_radius for k in range (len(df.Ab))], # radius of the circle = min_radius (set before)\n",
    "    theta=df.Ab, # all angles\n",
    "    fill='toself',\n",
    "    fillcolor = \"white\", # color of the circle\n",
    "    showlegend = False, # no legend\n",
    "    line=dict(\n",
    "    color=\"white\",\n",
    "    width=0, # no line\n",
    "        ))\n",
    ")\n",
    "\n",
    "\n",
    "### Set options common to all traces with fig.update_traces\n",
    "\n",
    "fig.update_polars(bgcolor='white')\n",
    "fig.update_layout(\n",
    "    autosize=True, # to allow or not autosize\n",
    "    width=600, # width of the figure\n",
    "    height=500, # height of the figure\n",
    "    paper_bgcolor = 'rgba(0,0,0,0)', plot_bgcolor= 'rgba(0,0,0,0)',# background color\n",
    "    polar = dict( #options for the polar plot\n",
    "          radialaxis = dict(visible = True, # allowing radius lines  \n",
    "                            color=\"lightgrey\", # color of the lines\n",
    "                            gridcolor = \"lightgrey\", # color of the grid\n",
    "                            linecolor=\"lightgrey\", #color of the lines\n",
    "                            gridwidth = 1, # step in the grid\n",
    "                            range=[0, max_radius+1], # range of the grid\n",
    "                            dtick=1, # step in the grid\n",
    "                            showgrid =True, # showing the grid\n",
    "                            layer=\"below traces\", # put the grid below traces\n",
    "                            tickfont_color ='rgba(0,0,0,0)'),# putting tickfont into white to make them disappear\n",
    "          angularaxis = dict(\n",
    "        gridcolor = \"lightgrey\", # color of the angular grid\n",
    "        tickfont_size=7, # font size of labels (ex. \"S01\")\n",
    "        rotation=90, # start position of angular axis \n",
    "        direction=\"counterclockwise\" # changin direction to align with Fried et al. \n",
    "        )),\n",
    "        legend = dict(font = dict(size = 10, color = \"black\")) # size and color of the legend\n",
    ")\n",
    "\n",
    "\n",
    "#fig.write_image(\"figure4_radial.pdf\") #saving figure into a file\n",
    "fig.show() # showing figure"
   ]
  },
  {
   "attachments": {},
   "cell_type": "markdown",
   "metadata": {
    "id": "dgGMcg8IvzX6"
   },
   "source": [
    "The figure has been save in the online folder (📁 symbol on the left) under the name [figure4_radial.pdf](figure4_radial.pdf). You can change the name and the format of the file changing the name in the `#fig.write_image()` function. \n",
    "<br>⚠️ If you need it, save the figure on your local computer : these online file will be deleted as soon as you quit this page!"
   ]
  },
  {
   "attachments": {},
   "cell_type": "markdown",
   "metadata": {
    "id": "diFlIHLzPFRp"
   },
   "source": [
    "## Overlap between questionnaires - Jaccard Index"
   ]
  },
  {
   "cell_type": "markdown",
   "metadata": {
    "id": "YZ-EHm68I3aO"
   },
   "source": [
    "In order to estimate the overlap between the symptoms measured by the questionnes, calculate the Jaccard index, which is defined as the number of symmtoms that are measured by both questionnaires, divided by the number of unique symptoms measured both questionnaires."
   ]
  },
  {
   "attachments": {},
   "cell_type": "markdown",
   "metadata": {
    "id": "zN-BHyPUw2dF"
   },
   "source": [
    "### Jaccard index of symptom for each pair of questionnaire\n",
    "First, we compute the Jaccard index for each pair of questionnaires and plot it using a heatmap."
   ]
  },
  {
   "cell_type": "code",
   "execution_count": 139,
   "metadata": {
    "colab": {
     "base_uri": "https://localhost:8080/",
     "height": 817
    },
    "id": "FwVQmC77NrTO",
    "outputId": "d1e4920c-d090-4b55-f3d9-a7615a208287"
   },
   "outputs": [
    {
     "data": {
      "text/html": [
       "<div>\n",
       "<style scoped>\n",
       "    .dataframe tbody tr th:only-of-type {\n",
       "        vertical-align: middle;\n",
       "    }\n",
       "\n",
       "    .dataframe tbody tr th {\n",
       "        vertical-align: top;\n",
       "    }\n",
       "\n",
       "    .dataframe thead th {\n",
       "        text-align: right;\n",
       "    }\n",
       "</style>\n",
       "<table border=\"1\" class=\"dataframe\">\n",
       "  <thead>\n",
       "    <tr style=\"text-align: right;\">\n",
       "      <th></th>\n",
       "      <th>ASA</th>\n",
       "      <th>SA-SDQ</th>\n",
       "      <th>STOP-Bang</th>\n",
       "      <th>Berlin</th>\n",
       "      <th>Haraldsson</th>\n",
       "      <th>NoSAS</th>\n",
       "      <th>STOP</th>\n",
       "      <th>GOAL</th>\n",
       "      <th>OSA 50</th>\n",
       "      <th>AS</th>\n",
       "      <th>Wisconsin Q</th>\n",
       "    </tr>\n",
       "  </thead>\n",
       "  <tbody>\n",
       "    <tr>\n",
       "      <th>ASA</th>\n",
       "      <td>1.000000</td>\n",
       "      <td>0.263158</td>\n",
       "      <td>0.375000</td>\n",
       "      <td>0.375000</td>\n",
       "      <td>0.333333</td>\n",
       "      <td>0.200000</td>\n",
       "      <td>0.285714</td>\n",
       "      <td>0.133333</td>\n",
       "      <td>0.062500</td>\n",
       "      <td>0.307692</td>\n",
       "      <td>0.230769</td>\n",
       "    </tr>\n",
       "    <tr>\n",
       "      <th>SA-SDQ</th>\n",
       "      <td>0.263158</td>\n",
       "      <td>1.000000</td>\n",
       "      <td>0.333333</td>\n",
       "      <td>0.250000</td>\n",
       "      <td>0.125000</td>\n",
       "      <td>0.142857</td>\n",
       "      <td>0.230769</td>\n",
       "      <td>0.250000</td>\n",
       "      <td>0.153846</td>\n",
       "      <td>0.153846</td>\n",
       "      <td>0.166667</td>\n",
       "    </tr>\n",
       "    <tr>\n",
       "      <th>STOP-Bang</th>\n",
       "      <td>0.375000</td>\n",
       "      <td>0.333333</td>\n",
       "      <td>1.000000</td>\n",
       "      <td>0.384615</td>\n",
       "      <td>0.230769</td>\n",
       "      <td>0.400000</td>\n",
       "      <td>0.555556</td>\n",
       "      <td>0.444444</td>\n",
       "      <td>0.181818</td>\n",
       "      <td>0.181818</td>\n",
       "      <td>0.200000</td>\n",
       "    </tr>\n",
       "    <tr>\n",
       "      <th>Berlin</th>\n",
       "      <td>0.375000</td>\n",
       "      <td>0.250000</td>\n",
       "      <td>0.384615</td>\n",
       "      <td>1.000000</td>\n",
       "      <td>0.230769</td>\n",
       "      <td>0.166667</td>\n",
       "      <td>0.400000</td>\n",
       "      <td>0.181818</td>\n",
       "      <td>0.181818</td>\n",
       "      <td>0.300000</td>\n",
       "      <td>0.333333</td>\n",
       "    </tr>\n",
       "    <tr>\n",
       "      <th>Haraldsson</th>\n",
       "      <td>0.333333</td>\n",
       "      <td>0.125000</td>\n",
       "      <td>0.230769</td>\n",
       "      <td>0.230769</td>\n",
       "      <td>1.000000</td>\n",
       "      <td>0.090909</td>\n",
       "      <td>0.333333</td>\n",
       "      <td>0.000000</td>\n",
       "      <td>0.100000</td>\n",
       "      <td>0.222222</td>\n",
       "      <td>0.250000</td>\n",
       "    </tr>\n",
       "    <tr>\n",
       "      <th>NoSAS</th>\n",
       "      <td>0.200000</td>\n",
       "      <td>0.142857</td>\n",
       "      <td>0.400000</td>\n",
       "      <td>0.166667</td>\n",
       "      <td>0.090909</td>\n",
       "      <td>1.000000</td>\n",
       "      <td>0.000000</td>\n",
       "      <td>0.500000</td>\n",
       "      <td>0.125000</td>\n",
       "      <td>0.125000</td>\n",
       "      <td>0.142857</td>\n",
       "    </tr>\n",
       "    <tr>\n",
       "      <th>STOP</th>\n",
       "      <td>0.285714</td>\n",
       "      <td>0.230769</td>\n",
       "      <td>0.555556</td>\n",
       "      <td>0.400000</td>\n",
       "      <td>0.333333</td>\n",
       "      <td>0.000000</td>\n",
       "      <td>1.000000</td>\n",
       "      <td>0.125000</td>\n",
       "      <td>0.125000</td>\n",
       "      <td>0.285714</td>\n",
       "      <td>0.333333</td>\n",
       "    </tr>\n",
       "    <tr>\n",
       "      <th>GOAL</th>\n",
       "      <td>0.133333</td>\n",
       "      <td>0.250000</td>\n",
       "      <td>0.444444</td>\n",
       "      <td>0.181818</td>\n",
       "      <td>0.000000</td>\n",
       "      <td>0.500000</td>\n",
       "      <td>0.125000</td>\n",
       "      <td>1.000000</td>\n",
       "      <td>0.142857</td>\n",
       "      <td>0.142857</td>\n",
       "      <td>0.166667</td>\n",
       "    </tr>\n",
       "    <tr>\n",
       "      <th>OSA 50</th>\n",
       "      <td>0.062500</td>\n",
       "      <td>0.153846</td>\n",
       "      <td>0.181818</td>\n",
       "      <td>0.181818</td>\n",
       "      <td>0.100000</td>\n",
       "      <td>0.125000</td>\n",
       "      <td>0.125000</td>\n",
       "      <td>0.142857</td>\n",
       "      <td>1.000000</td>\n",
       "      <td>0.142857</td>\n",
       "      <td>0.166667</td>\n",
       "    </tr>\n",
       "    <tr>\n",
       "      <th>AS</th>\n",
       "      <td>0.307692</td>\n",
       "      <td>0.153846</td>\n",
       "      <td>0.181818</td>\n",
       "      <td>0.300000</td>\n",
       "      <td>0.222222</td>\n",
       "      <td>0.125000</td>\n",
       "      <td>0.285714</td>\n",
       "      <td>0.142857</td>\n",
       "      <td>0.142857</td>\n",
       "      <td>1.000000</td>\n",
       "      <td>0.750000</td>\n",
       "    </tr>\n",
       "    <tr>\n",
       "      <th>Wisconsin Q</th>\n",
       "      <td>0.230769</td>\n",
       "      <td>0.166667</td>\n",
       "      <td>0.200000</td>\n",
       "      <td>0.333333</td>\n",
       "      <td>0.250000</td>\n",
       "      <td>0.142857</td>\n",
       "      <td>0.333333</td>\n",
       "      <td>0.166667</td>\n",
       "      <td>0.166667</td>\n",
       "      <td>0.750000</td>\n",
       "      <td>1.000000</td>\n",
       "    </tr>\n",
       "  </tbody>\n",
       "</table>\n",
       "</div>"
      ],
      "text/plain": [
       "                  ASA    SA-SDQ  STOP-Bang    Berlin  Haraldsson     NoSAS  \\\n",
       "ASA          1.000000  0.263158   0.375000  0.375000    0.333333  0.200000   \n",
       "SA-SDQ       0.263158  1.000000   0.333333  0.250000    0.125000  0.142857   \n",
       "STOP-Bang    0.375000  0.333333   1.000000  0.384615    0.230769  0.400000   \n",
       "Berlin       0.375000  0.250000   0.384615  1.000000    0.230769  0.166667   \n",
       "Haraldsson   0.333333  0.125000   0.230769  0.230769    1.000000  0.090909   \n",
       "NoSAS        0.200000  0.142857   0.400000  0.166667    0.090909  1.000000   \n",
       "STOP         0.285714  0.230769   0.555556  0.400000    0.333333  0.000000   \n",
       "GOAL         0.133333  0.250000   0.444444  0.181818    0.000000  0.500000   \n",
       "OSA 50       0.062500  0.153846   0.181818  0.181818    0.100000  0.125000   \n",
       "AS           0.307692  0.153846   0.181818  0.300000    0.222222  0.125000   \n",
       "Wisconsin Q  0.230769  0.166667   0.200000  0.333333    0.250000  0.142857   \n",
       "\n",
       "                 STOP      GOAL    OSA 50        AS  Wisconsin Q  \n",
       "ASA          0.285714  0.133333  0.062500  0.307692     0.230769  \n",
       "SA-SDQ       0.230769  0.250000  0.153846  0.153846     0.166667  \n",
       "STOP-Bang    0.555556  0.444444  0.181818  0.181818     0.200000  \n",
       "Berlin       0.400000  0.181818  0.181818  0.300000     0.333333  \n",
       "Haraldsson   0.333333  0.000000  0.100000  0.222222     0.250000  \n",
       "NoSAS        0.000000  0.500000  0.125000  0.125000     0.142857  \n",
       "STOP         1.000000  0.125000  0.125000  0.285714     0.333333  \n",
       "GOAL         0.125000  1.000000  0.142857  0.142857     0.166667  \n",
       "OSA 50       0.125000  0.142857  1.000000  0.142857     0.166667  \n",
       "AS           0.285714  0.142857  0.142857  1.000000     0.750000  \n",
       "Wisconsin Q  0.333333  0.166667  0.166667  0.750000     1.000000  "
      ]
     },
     "metadata": {},
     "output_type": "display_data"
    }
   ],
   "source": [
    "###\n",
    "# Computing the table\n",
    "###\n",
    "jaccard_table = pd.DataFrame(np.zeros((df.shape[1]-5,df.shape[1]-5)), index = df.columns[4:-1], columns = df.columns[4:-1]) # df.columns[3:-1] : questionnaires without header\n",
    "for questionnaire1 in df.columns[4:-1] : \n",
    "  for questionnaire2 in df.columns[4:-1] : \n",
    "    jaccard_table.loc[questionnaire1, questionnaire2] = jaccard_score(df[questionnaire1]>=1, df[questionnaire2]>=1)\n",
    "    \n",
    "display(jaccard_table)\n",
    "jaccard_table.to_excel(\"table3_jaccard_pairs.xlsx\")"
   ]
  },
  {
   "cell_type": "markdown",
   "metadata": {
    "id": "dgGMcg8IvzX6"
   },
   "source": [
    "Table 3 has been save in the online folder (📁 symbol on the left) under the name [table3_jaccard_pairs.xlsx](./table3_jaccard_pairs.xlsx). <br>You can change the name and the format of the file changing the name in the `jaccard_table.to_excel()` function. \n",
    "<br>⚠️ If you need it, save the excel file on your local computer : these online file will be deleted as soon as you quit this page!"
   ]
  },
  {
   "cell_type": "code",
   "execution_count": 140,
   "metadata": {},
   "outputs": [
    {
     "data": {
      "application/vnd.plotly.v1+json": {
       "config": {
        "plotlyServerURL": "https://plotly.com"
       },
       "data": [
        {
         "coloraxis": "coloraxis",
         "hovertemplate": "x: %{x}<br>y: %{y}<br>color: %{z}<extra></extra>",
         "name": "0",
         "texttemplate": "%{z}",
         "type": "heatmap",
         "x": [
          "ASA",
          "SA-SDQ",
          "STOP-Bang",
          "Berlin",
          "Haraldsson",
          "NoSAS",
          "STOP",
          "GOAL",
          "OSA 50",
          "AS",
          "Wisconsin Q"
         ],
         "xaxis": "x",
         "y": [
          "ASA",
          "SA-SDQ",
          "STOP-Bang",
          "Berlin",
          "Haraldsson",
          "NoSAS",
          "STOP",
          "GOAL",
          "OSA 50",
          "AS",
          "Wisconsin Q"
         ],
         "yaxis": "y",
         "z": [
          [
           1,
           0.263,
           0.375,
           0.375,
           0.333,
           0.2,
           0.286,
           0.133,
           0.062,
           0.308,
           0.231
          ],
          [
           0.263,
           1,
           0.333,
           0.25,
           0.125,
           0.143,
           0.231,
           0.25,
           0.154,
           0.154,
           0.167
          ],
          [
           0.375,
           0.333,
           1,
           0.385,
           0.231,
           0.4,
           0.556,
           0.444,
           0.182,
           0.182,
           0.2
          ],
          [
           0.375,
           0.25,
           0.385,
           1,
           0.231,
           0.167,
           0.4,
           0.182,
           0.182,
           0.3,
           0.333
          ],
          [
           0.333,
           0.125,
           0.231,
           0.231,
           1,
           0.091,
           0.333,
           0,
           0.1,
           0.222,
           0.25
          ],
          [
           0.2,
           0.143,
           0.4,
           0.167,
           0.091,
           1,
           0,
           0.5,
           0.125,
           0.125,
           0.143
          ],
          [
           0.286,
           0.231,
           0.556,
           0.4,
           0.333,
           0,
           1,
           0.125,
           0.125,
           0.286,
           0.333
          ],
          [
           0.133,
           0.25,
           0.444,
           0.182,
           0,
           0.5,
           0.125,
           1,
           0.143,
           0.143,
           0.167
          ],
          [
           0.062,
           0.154,
           0.182,
           0.182,
           0.1,
           0.125,
           0.125,
           0.143,
           1,
           0.143,
           0.167
          ],
          [
           0.308,
           0.154,
           0.182,
           0.3,
           0.222,
           0.125,
           0.286,
           0.143,
           0.143,
           1,
           0.75
          ],
          [
           0.231,
           0.167,
           0.2,
           0.333,
           0.25,
           0.143,
           0.333,
           0.167,
           0.167,
           0.75,
           1
          ]
         ]
        }
       ],
       "layout": {
        "autosize": false,
        "coloraxis": {
         "colorscale": [
          [
           0,
           "rgb(12,51,131)"
          ],
          [
           0.25,
           "rgb(10,136,186)"
          ],
          [
           0.5,
           "rgb(242,211,56)"
          ],
          [
           0.75,
           "rgb(242,143,56)"
          ],
          [
           1,
           "rgb(217,30,30)"
          ]
         ]
        },
        "height": 600,
        "margin": {
         "t": 60
        },
        "template": {
         "data": {
          "bar": [
           {
            "error_x": {
             "color": "#2a3f5f"
            },
            "error_y": {
             "color": "#2a3f5f"
            },
            "marker": {
             "line": {
              "color": "#E5ECF6",
              "width": 0.5
             },
             "pattern": {
              "fillmode": "overlay",
              "size": 10,
              "solidity": 0.2
             }
            },
            "type": "bar"
           }
          ],
          "barpolar": [
           {
            "marker": {
             "line": {
              "color": "#E5ECF6",
              "width": 0.5
             },
             "pattern": {
              "fillmode": "overlay",
              "size": 10,
              "solidity": 0.2
             }
            },
            "type": "barpolar"
           }
          ],
          "carpet": [
           {
            "aaxis": {
             "endlinecolor": "#2a3f5f",
             "gridcolor": "white",
             "linecolor": "white",
             "minorgridcolor": "white",
             "startlinecolor": "#2a3f5f"
            },
            "baxis": {
             "endlinecolor": "#2a3f5f",
             "gridcolor": "white",
             "linecolor": "white",
             "minorgridcolor": "white",
             "startlinecolor": "#2a3f5f"
            },
            "type": "carpet"
           }
          ],
          "choropleth": [
           {
            "colorbar": {
             "outlinewidth": 0,
             "ticks": ""
            },
            "type": "choropleth"
           }
          ],
          "contour": [
           {
            "colorbar": {
             "outlinewidth": 0,
             "ticks": ""
            },
            "colorscale": [
             [
              0,
              "#0d0887"
             ],
             [
              0.1111111111111111,
              "#46039f"
             ],
             [
              0.2222222222222222,
              "#7201a8"
             ],
             [
              0.3333333333333333,
              "#9c179e"
             ],
             [
              0.4444444444444444,
              "#bd3786"
             ],
             [
              0.5555555555555556,
              "#d8576b"
             ],
             [
              0.6666666666666666,
              "#ed7953"
             ],
             [
              0.7777777777777778,
              "#fb9f3a"
             ],
             [
              0.8888888888888888,
              "#fdca26"
             ],
             [
              1,
              "#f0f921"
             ]
            ],
            "type": "contour"
           }
          ],
          "contourcarpet": [
           {
            "colorbar": {
             "outlinewidth": 0,
             "ticks": ""
            },
            "type": "contourcarpet"
           }
          ],
          "heatmap": [
           {
            "colorbar": {
             "outlinewidth": 0,
             "ticks": ""
            },
            "colorscale": [
             [
              0,
              "#0d0887"
             ],
             [
              0.1111111111111111,
              "#46039f"
             ],
             [
              0.2222222222222222,
              "#7201a8"
             ],
             [
              0.3333333333333333,
              "#9c179e"
             ],
             [
              0.4444444444444444,
              "#bd3786"
             ],
             [
              0.5555555555555556,
              "#d8576b"
             ],
             [
              0.6666666666666666,
              "#ed7953"
             ],
             [
              0.7777777777777778,
              "#fb9f3a"
             ],
             [
              0.8888888888888888,
              "#fdca26"
             ],
             [
              1,
              "#f0f921"
             ]
            ],
            "type": "heatmap"
           }
          ],
          "heatmapgl": [
           {
            "colorbar": {
             "outlinewidth": 0,
             "ticks": ""
            },
            "colorscale": [
             [
              0,
              "#0d0887"
             ],
             [
              0.1111111111111111,
              "#46039f"
             ],
             [
              0.2222222222222222,
              "#7201a8"
             ],
             [
              0.3333333333333333,
              "#9c179e"
             ],
             [
              0.4444444444444444,
              "#bd3786"
             ],
             [
              0.5555555555555556,
              "#d8576b"
             ],
             [
              0.6666666666666666,
              "#ed7953"
             ],
             [
              0.7777777777777778,
              "#fb9f3a"
             ],
             [
              0.8888888888888888,
              "#fdca26"
             ],
             [
              1,
              "#f0f921"
             ]
            ],
            "type": "heatmapgl"
           }
          ],
          "histogram": [
           {
            "marker": {
             "pattern": {
              "fillmode": "overlay",
              "size": 10,
              "solidity": 0.2
             }
            },
            "type": "histogram"
           }
          ],
          "histogram2d": [
           {
            "colorbar": {
             "outlinewidth": 0,
             "ticks": ""
            },
            "colorscale": [
             [
              0,
              "#0d0887"
             ],
             [
              0.1111111111111111,
              "#46039f"
             ],
             [
              0.2222222222222222,
              "#7201a8"
             ],
             [
              0.3333333333333333,
              "#9c179e"
             ],
             [
              0.4444444444444444,
              "#bd3786"
             ],
             [
              0.5555555555555556,
              "#d8576b"
             ],
             [
              0.6666666666666666,
              "#ed7953"
             ],
             [
              0.7777777777777778,
              "#fb9f3a"
             ],
             [
              0.8888888888888888,
              "#fdca26"
             ],
             [
              1,
              "#f0f921"
             ]
            ],
            "type": "histogram2d"
           }
          ],
          "histogram2dcontour": [
           {
            "colorbar": {
             "outlinewidth": 0,
             "ticks": ""
            },
            "colorscale": [
             [
              0,
              "#0d0887"
             ],
             [
              0.1111111111111111,
              "#46039f"
             ],
             [
              0.2222222222222222,
              "#7201a8"
             ],
             [
              0.3333333333333333,
              "#9c179e"
             ],
             [
              0.4444444444444444,
              "#bd3786"
             ],
             [
              0.5555555555555556,
              "#d8576b"
             ],
             [
              0.6666666666666666,
              "#ed7953"
             ],
             [
              0.7777777777777778,
              "#fb9f3a"
             ],
             [
              0.8888888888888888,
              "#fdca26"
             ],
             [
              1,
              "#f0f921"
             ]
            ],
            "type": "histogram2dcontour"
           }
          ],
          "mesh3d": [
           {
            "colorbar": {
             "outlinewidth": 0,
             "ticks": ""
            },
            "type": "mesh3d"
           }
          ],
          "parcoords": [
           {
            "line": {
             "colorbar": {
              "outlinewidth": 0,
              "ticks": ""
             }
            },
            "type": "parcoords"
           }
          ],
          "pie": [
           {
            "automargin": true,
            "type": "pie"
           }
          ],
          "scatter": [
           {
            "fillpattern": {
             "fillmode": "overlay",
             "size": 10,
             "solidity": 0.2
            },
            "type": "scatter"
           }
          ],
          "scatter3d": [
           {
            "line": {
             "colorbar": {
              "outlinewidth": 0,
              "ticks": ""
             }
            },
            "marker": {
             "colorbar": {
              "outlinewidth": 0,
              "ticks": ""
             }
            },
            "type": "scatter3d"
           }
          ],
          "scattercarpet": [
           {
            "marker": {
             "colorbar": {
              "outlinewidth": 0,
              "ticks": ""
             }
            },
            "type": "scattercarpet"
           }
          ],
          "scattergeo": [
           {
            "marker": {
             "colorbar": {
              "outlinewidth": 0,
              "ticks": ""
             }
            },
            "type": "scattergeo"
           }
          ],
          "scattergl": [
           {
            "marker": {
             "colorbar": {
              "outlinewidth": 0,
              "ticks": ""
             }
            },
            "type": "scattergl"
           }
          ],
          "scattermapbox": [
           {
            "marker": {
             "colorbar": {
              "outlinewidth": 0,
              "ticks": ""
             }
            },
            "type": "scattermapbox"
           }
          ],
          "scatterpolar": [
           {
            "marker": {
             "colorbar": {
              "outlinewidth": 0,
              "ticks": ""
             }
            },
            "type": "scatterpolar"
           }
          ],
          "scatterpolargl": [
           {
            "marker": {
             "colorbar": {
              "outlinewidth": 0,
              "ticks": ""
             }
            },
            "type": "scatterpolargl"
           }
          ],
          "scatterternary": [
           {
            "marker": {
             "colorbar": {
              "outlinewidth": 0,
              "ticks": ""
             }
            },
            "type": "scatterternary"
           }
          ],
          "surface": [
           {
            "colorbar": {
             "outlinewidth": 0,
             "ticks": ""
            },
            "colorscale": [
             [
              0,
              "#0d0887"
             ],
             [
              0.1111111111111111,
              "#46039f"
             ],
             [
              0.2222222222222222,
              "#7201a8"
             ],
             [
              0.3333333333333333,
              "#9c179e"
             ],
             [
              0.4444444444444444,
              "#bd3786"
             ],
             [
              0.5555555555555556,
              "#d8576b"
             ],
             [
              0.6666666666666666,
              "#ed7953"
             ],
             [
              0.7777777777777778,
              "#fb9f3a"
             ],
             [
              0.8888888888888888,
              "#fdca26"
             ],
             [
              1,
              "#f0f921"
             ]
            ],
            "type": "surface"
           }
          ],
          "table": [
           {
            "cells": {
             "fill": {
              "color": "#EBF0F8"
             },
             "line": {
              "color": "white"
             }
            },
            "header": {
             "fill": {
              "color": "#C8D4E3"
             },
             "line": {
              "color": "white"
             }
            },
            "type": "table"
           }
          ]
         },
         "layout": {
          "annotationdefaults": {
           "arrowcolor": "#2a3f5f",
           "arrowhead": 0,
           "arrowwidth": 1
          },
          "autotypenumbers": "strict",
          "coloraxis": {
           "colorbar": {
            "outlinewidth": 0,
            "ticks": ""
           }
          },
          "colorscale": {
           "diverging": [
            [
             0,
             "#8e0152"
            ],
            [
             0.1,
             "#c51b7d"
            ],
            [
             0.2,
             "#de77ae"
            ],
            [
             0.3,
             "#f1b6da"
            ],
            [
             0.4,
             "#fde0ef"
            ],
            [
             0.5,
             "#f7f7f7"
            ],
            [
             0.6,
             "#e6f5d0"
            ],
            [
             0.7,
             "#b8e186"
            ],
            [
             0.8,
             "#7fbc41"
            ],
            [
             0.9,
             "#4d9221"
            ],
            [
             1,
             "#276419"
            ]
           ],
           "sequential": [
            [
             0,
             "#0d0887"
            ],
            [
             0.1111111111111111,
             "#46039f"
            ],
            [
             0.2222222222222222,
             "#7201a8"
            ],
            [
             0.3333333333333333,
             "#9c179e"
            ],
            [
             0.4444444444444444,
             "#bd3786"
            ],
            [
             0.5555555555555556,
             "#d8576b"
            ],
            [
             0.6666666666666666,
             "#ed7953"
            ],
            [
             0.7777777777777778,
             "#fb9f3a"
            ],
            [
             0.8888888888888888,
             "#fdca26"
            ],
            [
             1,
             "#f0f921"
            ]
           ],
           "sequentialminus": [
            [
             0,
             "#0d0887"
            ],
            [
             0.1111111111111111,
             "#46039f"
            ],
            [
             0.2222222222222222,
             "#7201a8"
            ],
            [
             0.3333333333333333,
             "#9c179e"
            ],
            [
             0.4444444444444444,
             "#bd3786"
            ],
            [
             0.5555555555555556,
             "#d8576b"
            ],
            [
             0.6666666666666666,
             "#ed7953"
            ],
            [
             0.7777777777777778,
             "#fb9f3a"
            ],
            [
             0.8888888888888888,
             "#fdca26"
            ],
            [
             1,
             "#f0f921"
            ]
           ]
          },
          "colorway": [
           "#636efa",
           "#EF553B",
           "#00cc96",
           "#ab63fa",
           "#FFA15A",
           "#19d3f3",
           "#FF6692",
           "#B6E880",
           "#FF97FF",
           "#FECB52"
          ],
          "font": {
           "color": "#2a3f5f"
          },
          "geo": {
           "bgcolor": "white",
           "lakecolor": "white",
           "landcolor": "#E5ECF6",
           "showlakes": true,
           "showland": true,
           "subunitcolor": "white"
          },
          "hoverlabel": {
           "align": "left"
          },
          "hovermode": "closest",
          "mapbox": {
           "style": "light"
          },
          "paper_bgcolor": "white",
          "plot_bgcolor": "#E5ECF6",
          "polar": {
           "angularaxis": {
            "gridcolor": "white",
            "linecolor": "white",
            "ticks": ""
           },
           "bgcolor": "#E5ECF6",
           "radialaxis": {
            "gridcolor": "white",
            "linecolor": "white",
            "ticks": ""
           }
          },
          "scene": {
           "xaxis": {
            "backgroundcolor": "#E5ECF6",
            "gridcolor": "white",
            "gridwidth": 2,
            "linecolor": "white",
            "showbackground": true,
            "ticks": "",
            "zerolinecolor": "white"
           },
           "yaxis": {
            "backgroundcolor": "#E5ECF6",
            "gridcolor": "white",
            "gridwidth": 2,
            "linecolor": "white",
            "showbackground": true,
            "ticks": "",
            "zerolinecolor": "white"
           },
           "zaxis": {
            "backgroundcolor": "#E5ECF6",
            "gridcolor": "white",
            "gridwidth": 2,
            "linecolor": "white",
            "showbackground": true,
            "ticks": "",
            "zerolinecolor": "white"
           }
          },
          "shapedefaults": {
           "line": {
            "color": "#2a3f5f"
           }
          },
          "ternary": {
           "aaxis": {
            "gridcolor": "white",
            "linecolor": "white",
            "ticks": ""
           },
           "baxis": {
            "gridcolor": "white",
            "linecolor": "white",
            "ticks": ""
           },
           "bgcolor": "#E5ECF6",
           "caxis": {
            "gridcolor": "white",
            "linecolor": "white",
            "ticks": ""
           }
          },
          "title": {
           "x": 0.05
          },
          "xaxis": {
           "automargin": true,
           "gridcolor": "white",
           "linecolor": "white",
           "ticks": "",
           "title": {
            "standoff": 15
           },
           "zerolinecolor": "white",
           "zerolinewidth": 2
          },
          "yaxis": {
           "automargin": true,
           "gridcolor": "white",
           "linecolor": "white",
           "ticks": "",
           "title": {
            "standoff": 15
           },
           "zerolinecolor": "white",
           "zerolinewidth": 2
          }
         }
        },
        "width": 600,
        "xaxis": {
         "anchor": "y",
         "constrain": "domain",
         "domain": [
          0,
          1
         ],
         "scaleanchor": "y",
         "side": "top"
        },
        "yaxis": {
         "anchor": "x",
         "autorange": "reversed",
         "constrain": "domain",
         "domain": [
          0,
          1
         ]
        }
       }
      }
     },
     "metadata": {},
     "output_type": "display_data"
    }
   ],
   "source": [
    "###\n",
    "# Plotting it as a heatmap\n",
    "###\n",
    "fig = px.imshow(pd.DataFrame(np.round(jaccard_table,3), # rounding values for the plot\n",
    "                             index = jaccard_table.index,\n",
    "                             columns= jaccard_table.columns),\n",
    "                text_auto=True, # annotating values in the plot\n",
    "                color_continuous_scale= 'Portland'# more color palettes available here : https://plotly.com/python/builtin-colorscales/\n",
    ")\n",
    "fig.update_xaxes(side=\"top\")\n",
    "fig.update_layout(\n",
    "    autosize=False,\n",
    "    width=600,\n",
    "    height=600\n",
    "    )\n",
    "#fig.write_image(\"figure5_heatmap_jaccard.pdf\") # writting the figure into a file\n",
    "fig.show() # showing figure"
   ]
  },
  {
   "attachments": {},
   "cell_type": "markdown",
   "metadata": {
    "id": "dgGMcg8IvzX6"
   },
   "source": [
    "The figure has been save in the online folder (📁 symbol on the left) under the name [figure5_heatmap_jaccard.pdf](figure5_heatmap_jaccard.pdf). <br>You can change the name and the format of the file changing the name in the `#fig.write_image()` function. \n",
    "<br>⚠️ If you want it, save the figure on your local computer : these online file will be deleted as soon as you quit this page!"
   ]
  },
  {
   "attachments": {},
   "cell_type": "markdown",
   "metadata": {
    "id": "F1UPcuVEIxr6"
   },
   "source": [
    "### Avg. Jaccard index\n",
    "Then, we compute the average of Jaccard index for each questionnaire with other questionnaires (excluding the references). "
   ]
  },
  {
   "cell_type": "code",
   "execution_count": 141,
   "metadata": {
    "colab": {
     "base_uri": "https://localhost:8080/",
     "height": 443
    },
    "id": "kZWl2KxpIAu1",
    "outputId": "60844259-0542-47a3-8834-de586fd09b50"
   },
   "outputs": [
    {
     "data": {
      "text/html": [
       "<div>\n",
       "<style scoped>\n",
       "    .dataframe tbody tr th:only-of-type {\n",
       "        vertical-align: middle;\n",
       "    }\n",
       "\n",
       "    .dataframe tbody tr th {\n",
       "        vertical-align: top;\n",
       "    }\n",
       "\n",
       "    .dataframe thead th {\n",
       "        text-align: right;\n",
       "    }\n",
       "</style>\n",
       "<table border=\"1\" class=\"dataframe\">\n",
       "  <thead>\n",
       "    <tr style=\"text-align: right;\">\n",
       "      <th></th>\n",
       "      <th>Avg. Jaccard Index</th>\n",
       "    </tr>\n",
       "  </thead>\n",
       "  <tbody>\n",
       "    <tr>\n",
       "      <th>ASA</th>\n",
       "      <td>0.256650</td>\n",
       "    </tr>\n",
       "    <tr>\n",
       "      <th>SA-SDQ</th>\n",
       "      <td>0.206948</td>\n",
       "    </tr>\n",
       "    <tr>\n",
       "      <th>STOP-Bang</th>\n",
       "      <td>0.328735</td>\n",
       "    </tr>\n",
       "    <tr>\n",
       "      <th>Berlin</th>\n",
       "      <td>0.280402</td>\n",
       "    </tr>\n",
       "    <tr>\n",
       "      <th>Haraldsson</th>\n",
       "      <td>0.191634</td>\n",
       "    </tr>\n",
       "    <tr>\n",
       "      <th>NoSAS</th>\n",
       "      <td>0.189329</td>\n",
       "    </tr>\n",
       "    <tr>\n",
       "      <th>STOP</th>\n",
       "      <td>0.267442</td>\n",
       "    </tr>\n",
       "    <tr>\n",
       "      <th>GOAL</th>\n",
       "      <td>0.208698</td>\n",
       "    </tr>\n",
       "    <tr>\n",
       "      <th>OSA 50</th>\n",
       "      <td>0.138236</td>\n",
       "    </tr>\n",
       "    <tr>\n",
       "      <th>AS</th>\n",
       "      <td>0.261201</td>\n",
       "    </tr>\n",
       "    <tr>\n",
       "      <th>Wisconsin Q</th>\n",
       "      <td>0.274029</td>\n",
       "    </tr>\n",
       "  </tbody>\n",
       "</table>\n",
       "</div>"
      ],
      "text/plain": [
       "             Avg. Jaccard Index\n",
       "ASA                    0.256650\n",
       "SA-SDQ                 0.206948\n",
       "STOP-Bang              0.328735\n",
       "Berlin                 0.280402\n",
       "Haraldsson             0.191634\n",
       "NoSAS                  0.189329\n",
       "STOP                   0.267442\n",
       "GOAL                   0.208698\n",
       "OSA 50                 0.138236\n",
       "AS                     0.261201\n",
       "Wisconsin Q            0.274029"
      ]
     },
     "metadata": {},
     "output_type": "display_data"
    },
    {
     "name": "stdout",
     "output_type": "stream",
     "text": [
      "Average Jaccard index (wo references): 0.23666 (sd: 0.0542)\n"
     ]
    }
   ],
   "source": [
    "jaccard = pd.DataFrame(np.zeros((len(df.drop(header+['sum_symptoms'],axis = 1).columns),1)), index = df.drop(header+['sum_symptoms'],axis = 1).columns, columns=['Avg. Jaccard Index'])\n",
    "for questionnaire in df.drop(header+['sum_symptoms'], axis=1).columns : \n",
    "  jaccard.loc[questionnaire, 'Avg. Jaccard Index'] = jaccard_table.drop(references+[questionnaire], axis = 1).loc[questionnaire, :].mean()\n",
    "display(jaccard)\n",
    "jaccard.to_excel(\"table4_jaccard_average_questionnaires.xlsx\")\n",
    "print(\"Average Jaccard index (wo references): \"+str(np.round(float(jaccard.mean()),5)) +\" (sd: \"+str(np.round(float(jaccard.std()),4))+ \")\" )\n"
   ]
  },
  {
   "cell_type": "markdown",
   "metadata": {
    "id": "dgGMcg8IvzX6"
   },
   "source": [
    "Table 4 has been save in the online folder (📁 symbol on the left) under the name [table4_jaccard_average_questionnaires.xlsx](./table4_jaccard_average_questionnaires.xlsx). <br>You can change the name and the format of the file changing the name in the `jaccard.to_excel()` function. \n",
    "<br>⚠️ If you need it, save the excel file on your local computer : these online file will be deleted as soon as you quit this page!"
   ]
  },
  {
   "cell_type": "markdown",
   "metadata": {
    "id": "ZEl9cvZ1Gs6Y"
   },
   "source": [
    "### Correlation between the number of symptoms and the average Jacquart index for each questionnaire "
   ]
  },
  {
   "cell_type": "code",
   "execution_count": 142,
   "metadata": {
    "colab": {
     "base_uri": "https://localhost:8080/",
     "height": 478
    },
    "id": "vJuZ7q7oG0g3",
    "outputId": "af8e0f2b-413c-402b-c8cb-ff2de72e6c63"
   },
   "outputs": [
    {
     "data": {
      "text/html": [
       "<div>\n",
       "<style scoped>\n",
       "    .dataframe tbody tr th:only-of-type {\n",
       "        vertical-align: middle;\n",
       "    }\n",
       "\n",
       "    .dataframe tbody tr th {\n",
       "        vertical-align: top;\n",
       "    }\n",
       "\n",
       "    .dataframe thead th {\n",
       "        text-align: right;\n",
       "    }\n",
       "</style>\n",
       "<table border=\"1\" class=\"dataframe\">\n",
       "  <thead>\n",
       "    <tr style=\"text-align: right;\">\n",
       "      <th></th>\n",
       "      <th>Avg. Jaccard Index</th>\n",
       "      <th>Specific symptoms</th>\n",
       "      <th>Compound symptoms</th>\n",
       "      <th>Total</th>\n",
       "    </tr>\n",
       "  </thead>\n",
       "  <tbody>\n",
       "    <tr>\n",
       "      <th>ASA</th>\n",
       "      <td>0.256650</td>\n",
       "      <td>9</td>\n",
       "      <td>4</td>\n",
       "      <td>13</td>\n",
       "    </tr>\n",
       "    <tr>\n",
       "      <th>SA-SDQ</th>\n",
       "      <td>0.206948</td>\n",
       "      <td>10</td>\n",
       "      <td>1</td>\n",
       "      <td>11</td>\n",
       "    </tr>\n",
       "    <tr>\n",
       "      <th>STOP-Bang</th>\n",
       "      <td>0.328735</td>\n",
       "      <td>7</td>\n",
       "      <td>2</td>\n",
       "      <td>9</td>\n",
       "    </tr>\n",
       "    <tr>\n",
       "      <th>Berlin</th>\n",
       "      <td>0.280402</td>\n",
       "      <td>8</td>\n",
       "      <td>1</td>\n",
       "      <td>9</td>\n",
       "    </tr>\n",
       "    <tr>\n",
       "      <th>Haraldsson</th>\n",
       "      <td>0.191634</td>\n",
       "      <td>3</td>\n",
       "      <td>4</td>\n",
       "      <td>7</td>\n",
       "    </tr>\n",
       "    <tr>\n",
       "      <th>NoSAS</th>\n",
       "      <td>0.189329</td>\n",
       "      <td>5</td>\n",
       "      <td>0</td>\n",
       "      <td>5</td>\n",
       "    </tr>\n",
       "    <tr>\n",
       "      <th>STOP</th>\n",
       "      <td>0.267442</td>\n",
       "      <td>3</td>\n",
       "      <td>2</td>\n",
       "      <td>5</td>\n",
       "    </tr>\n",
       "    <tr>\n",
       "      <th>GOAL</th>\n",
       "      <td>0.208698</td>\n",
       "      <td>4</td>\n",
       "      <td>0</td>\n",
       "      <td>4</td>\n",
       "    </tr>\n",
       "    <tr>\n",
       "      <th>OSA 50</th>\n",
       "      <td>0.138236</td>\n",
       "      <td>4</td>\n",
       "      <td>0</td>\n",
       "      <td>4</td>\n",
       "    </tr>\n",
       "    <tr>\n",
       "      <th>AS</th>\n",
       "      <td>0.261201</td>\n",
       "      <td>2</td>\n",
       "      <td>2</td>\n",
       "      <td>4</td>\n",
       "    </tr>\n",
       "    <tr>\n",
       "      <th>Wisconsin Q</th>\n",
       "      <td>0.274029</td>\n",
       "      <td>3</td>\n",
       "      <td>0</td>\n",
       "      <td>3</td>\n",
       "    </tr>\n",
       "  </tbody>\n",
       "</table>\n",
       "</div>"
      ],
      "text/plain": [
       "             Avg. Jaccard Index  Specific symptoms  Compound symptoms  Total\n",
       "ASA                    0.256650                  9                  4     13\n",
       "SA-SDQ                 0.206948                 10                  1     11\n",
       "STOP-Bang              0.328735                  7                  2      9\n",
       "Berlin                 0.280402                  8                  1      9\n",
       "Haraldsson             0.191634                  3                  4      7\n",
       "NoSAS                  0.189329                  5                  0      5\n",
       "STOP                   0.267442                  3                  2      5\n",
       "GOAL                   0.208698                  4                  0      4\n",
       "OSA 50                 0.138236                  4                  0      4\n",
       "AS                     0.261201                  2                  2      4\n",
       "Wisconsin Q            0.274029                  3                  0      3"
      ]
     },
     "metadata": {},
     "output_type": "display_data"
    },
    {
     "name": "stdout",
     "output_type": "stream",
     "text": [
      "Correlation between Jaccard Index and number of specific symptoms:  SpearmanrResult(correlation=0.0, pvalue=1.0)\n",
      "Correlation between Jaccard Index and number of compound symptoms:  SpearmanrResult(correlation=0.24545784641604232, pvalue=0.46691618386154077)\n",
      "Correlation between Jaccard Index and total number of symptoms:  SpearmanrResult(correlation=0.11521838449545894, pvalue=0.7358609458354772)\n"
     ]
    }
   ],
   "source": [
    "correlations = jaccard.join(sympt_per_questionnaire)\n",
    "display(correlations)\n",
    "print(\"Correlation between Jaccard Index and number of specific symptoms: \",spearmanr(correlations['Avg. Jaccard Index'], correlations['Specific symptoms']))\n",
    "print(\"Correlation between Jaccard Index and number of compound symptoms: \",spearmanr(correlations['Avg. Jaccard Index'], correlations['Compound symptoms']))\n",
    "print(\"Correlation between Jaccard Index and total number of symptoms: \",spearmanr(correlations['Avg. Jaccard Index'], correlations['Total']))"
   ]
  },
  {
   "attachments": {},
   "cell_type": "markdown",
   "metadata": {
    "id": "HU7E-SuOw7zi"
   },
   "source": [
    "### Jaccard index of symptoms for each pair of questionnaire for each category\n",
    "\n",
    "Computing the same metric (average of average) for each category of questionnaires."
   ]
  },
  {
   "cell_type": "code",
   "execution_count": 143,
   "metadata": {
    "colab": {
     "base_uri": "https://localhost:8080/",
     "height": 332
    },
    "id": "G85VauUfOZWR",
    "outputId": "4d7af344-8d1b-4f82-a098-bedb60d8a23f"
   },
   "outputs": [
    {
     "data": {
      "text/html": [
       "<div>\n",
       "<style scoped>\n",
       "    .dataframe tbody tr th:only-of-type {\n",
       "        vertical-align: middle;\n",
       "    }\n",
       "\n",
       "    .dataframe tbody tr th {\n",
       "        vertical-align: top;\n",
       "    }\n",
       "\n",
       "    .dataframe thead th {\n",
       "        text-align: right;\n",
       "    }\n",
       "</style>\n",
       "<table border=\"1\" class=\"dataframe\">\n",
       "  <thead>\n",
       "    <tr style=\"text-align: right;\">\n",
       "      <th></th>\n",
       "      <th>Avg. Jaccard Index</th>\n",
       "    </tr>\n",
       "  </thead>\n",
       "  <tbody>\n",
       "    <tr>\n",
       "      <th>OSA symptoms</th>\n",
       "      <td>0.393983</td>\n",
       "    </tr>\n",
       "    <tr>\n",
       "      <th>Sleep-related symptoms</th>\n",
       "      <td>0.319524</td>\n",
       "    </tr>\n",
       "    <tr>\n",
       "      <th>Clinical characteristics</th>\n",
       "      <td>0.213062</td>\n",
       "    </tr>\n",
       "  </tbody>\n",
       "</table>\n",
       "</div>"
      ],
      "text/plain": [
       "                          Avg. Jaccard Index\n",
       "OSA symptoms                        0.393983\n",
       "Sleep-related symptoms              0.319524\n",
       "Clinical characteristics            0.213062"
      ]
     },
     "metadata": {},
     "output_type": "display_data"
    }
   ],
   "source": [
    "if df.shape[0] != df['Category'].isnull().sum() : \n",
    "  res = pd.DataFrame(np.zeros((len(df.Category.unique()),1)), index = df.sort_values(by=\"Ab\").Category.unique(), columns=['Avg. Jaccard Index'])\n",
    "  for category in df.Category.unique() : \n",
    "      df_category = df.drop(header+['sum_symptoms'],axis = 1)[df.Category==category]\n",
    "      df_category = df_category.iloc[:,(df_category.sum(axis = 0)!=0.0).to_numpy()] # we keep only the questionnaire with at least 1 symptom\n",
    "      liste_avg = []\n",
    "      for questionnaire1 in df_category.columns : \n",
    "        liste = []\n",
    "        for questionnaire2 in df_category.columns : \n",
    "          if questionnaire1!= questionnaire2 :\n",
    "            liste.append(jaccard_score(df_category[questionnaire1]>=1, df_category[questionnaire2]>=1))\n",
    "        liste_avg.append(np.mean(liste))\n",
    "      res.loc[category, 'Avg. Jaccard Index'] = np.mean(liste_avg)\n",
    "  display(res)\n",
    "  res.to_excel(\"table5_jaccard_categories.xlsx\")\n",
    "\n",
    "else : \n",
    "  print(\"Category is empty\")"
   ]
  },
  {
   "cell_type": "markdown",
   "metadata": {
    "id": "dgGMcg8IvzX6"
   },
   "source": [
    "Table 5 has been save in the online folder (📁 symbol on the left) under the name [table5_jaccard_categories.xlsx](./table5_jaccard_categories.xlsx). <br>You can change the name and the format of the file changing the name in the `res.to_excel()` function. \n",
    "<br>⚠️ If you need it, save the excel file on your local computer : these online file will be deleted as soon as you quit this page!"
   ]
  },
  {
   "attachments": {},
   "cell_type": "markdown",
   "metadata": {},
   "source": [
    "Computing the same metric (average of average) for each subcategory."
   ]
  },
  {
   "cell_type": "code",
   "execution_count": 144,
   "metadata": {},
   "outputs": [
    {
     "name": "stderr",
     "output_type": "stream",
     "text": [
      "c:\\Users\\Vincent\\anaconda3\\lib\\site-packages\\numpy\\core\\fromnumeric.py:3440: RuntimeWarning:\n",
      "\n",
      "Mean of empty slice.\n",
      "\n",
      "c:\\Users\\Vincent\\anaconda3\\lib\\site-packages\\numpy\\core\\_methods.py:189: RuntimeWarning:\n",
      "\n",
      "invalid value encountered in double_scalars\n",
      "\n",
      "c:\\Users\\Vincent\\anaconda3\\lib\\site-packages\\numpy\\core\\fromnumeric.py:3440: RuntimeWarning:\n",
      "\n",
      "Mean of empty slice.\n",
      "\n",
      "c:\\Users\\Vincent\\anaconda3\\lib\\site-packages\\numpy\\core\\_methods.py:189: RuntimeWarning:\n",
      "\n",
      "invalid value encountered in double_scalars\n",
      "\n"
     ]
    },
    {
     "data": {
      "text/html": [
       "<div>\n",
       "<style scoped>\n",
       "    .dataframe tbody tr th:only-of-type {\n",
       "        vertical-align: middle;\n",
       "    }\n",
       "\n",
       "    .dataframe tbody tr th {\n",
       "        vertical-align: top;\n",
       "    }\n",
       "\n",
       "    .dataframe thead th {\n",
       "        text-align: right;\n",
       "    }\n",
       "</style>\n",
       "<table border=\"1\" class=\"dataframe\">\n",
       "  <thead>\n",
       "    <tr style=\"text-align: right;\">\n",
       "      <th></th>\n",
       "      <th>Avg. Jaccard Index</th>\n",
       "    </tr>\n",
       "  </thead>\n",
       "  <tbody>\n",
       "    <tr>\n",
       "      <th>Snoring</th>\n",
       "      <td>0.555556</td>\n",
       "    </tr>\n",
       "    <tr>\n",
       "      <th>Breath abnormalities-related complaints</th>\n",
       "      <td>0.250000</td>\n",
       "    </tr>\n",
       "    <tr>\n",
       "      <th>Breath abnormalities observations</th>\n",
       "      <td>1.000000</td>\n",
       "    </tr>\n",
       "    <tr>\n",
       "      <th>Context</th>\n",
       "      <td>NaN</td>\n",
       "    </tr>\n",
       "    <tr>\n",
       "      <th>Sleepiness</th>\n",
       "      <td>0.625000</td>\n",
       "    </tr>\n",
       "    <tr>\n",
       "      <th>Awakening</th>\n",
       "      <td>1.000000</td>\n",
       "    </tr>\n",
       "    <tr>\n",
       "      <th>Insomnia</th>\n",
       "      <td>NaN</td>\n",
       "    </tr>\n",
       "    <tr>\n",
       "      <th>Sociodemographic</th>\n",
       "      <td>0.700000</td>\n",
       "    </tr>\n",
       "    <tr>\n",
       "      <th>Anthropometric</th>\n",
       "      <td>0.500000</td>\n",
       "    </tr>\n",
       "    <tr>\n",
       "      <th>Comorbidity</th>\n",
       "      <td>0.750000</td>\n",
       "    </tr>\n",
       "    <tr>\n",
       "      <th>Anatomical airway</th>\n",
       "      <td>0.333333</td>\n",
       "    </tr>\n",
       "  </tbody>\n",
       "</table>\n",
       "</div>"
      ],
      "text/plain": [
       "                                         Avg. Jaccard Index\n",
       "Snoring                                            0.555556\n",
       "Breath abnormalities-related complaints            0.250000\n",
       "Breath abnormalities observations                  1.000000\n",
       "Context                                                 NaN\n",
       "Sleepiness                                         0.625000\n",
       "Awakening                                          1.000000\n",
       "Insomnia                                                NaN\n",
       "Sociodemographic                                   0.700000\n",
       "Anthropometric                                     0.500000\n",
       "Comorbidity                                        0.750000\n",
       "Anatomical airway                                  0.333333"
      ]
     },
     "metadata": {},
     "output_type": "display_data"
    }
   ],
   "source": [
    "if df.shape[0] != df['Subcategory'].isnull().sum() : \n",
    "  res = pd.DataFrame(np.zeros((len(df.Subcategory.unique()),1)), index = df.sort_values(by=\"Ab\").Subcategory.unique(), columns=['Avg. Jaccard Index'])\n",
    "  for subcategory in df.Subcategory.unique() : \n",
    "      df_subcategory = df.drop(header+['sum_symptoms'],axis = 1)[df.Subcategory==subcategory]\n",
    "      df_subcategory = df_subcategory.iloc[:,(df_subcategory.sum(axis = 0)!=0.0).to_numpy()] # we keep only the questionnaire with at least 1 symptom\n",
    "      liste_avg = []\n",
    "      for questionnaire1 in df_subcategory.columns : \n",
    "        liste = []\n",
    "        for questionnaire2 in df_subcategory.columns : \n",
    "          if questionnaire1!= questionnaire2 :\n",
    "            liste.append(jaccard_score(df_subcategory[questionnaire1]>=1, df_subcategory[questionnaire2]>=1))\n",
    "        liste_avg.append(np.mean(liste))\n",
    "      res.loc[subcategory, 'Avg. Jaccard Index'] = np.mean(liste_avg)\n",
    "  display(res)\n",
    "  res.to_excel(\"table5b_jaccard_subcategories.xlsx\")\n",
    "\n",
    "else : \n",
    "  print(\"Subcategory is empty\")"
   ]
  },
  {
   "attachments": {},
   "cell_type": "markdown",
   "metadata": {},
   "source": [
    "# Sunburst Plot"
   ]
  },
  {
   "cell_type": "code",
   "execution_count": 146,
   "metadata": {},
   "outputs": [],
   "source": [
    "#replacing some wordings\n",
    "if experiment == \"Gauld2023_OSAS_content_analysis\" : \n",
    "    df.replace(\"Stop breathing observations\",\"Stop breathing <br> observations\", inplace = True)\n",
    "    df.replace(\"Self-complaints of breath abnormalities\",\"Self-complaints of <br> breath abnormalities\", inplace = True)\n",
    "    df.replace(\"Breath abnormalities complaints reported by other\",\"Breath abnormalities <br> complaints reported <br> by other\", inplace = True)\n",
    "    df.replace(\"Sociodemographic\",\"Sociodem.\", inplace = True)\n",
    "    df.replace(\"Anthropometry\",\"Antropo.\", inplace = True)\n",
    "    df.replace(\"Sleep-related symptoms\",\"Sleep-related <br> symptoms\", inplace = True)\n",
    "    df.replace(\"Breath abnormalities complaints\",\"Breath abn. compl.\", inplace = True)\n",
    "    df.replace(\"OSA symptoms\",\"OSA <br> symptoms\", inplace = True)\n",
    "    df.replace(\"Clinical characteristics\",\"Clinical <br> characteristics\", inplace = True)\n",
    "    df.replace(\"Breath abnormalities observations\",\"Breath <br> abnormalities <br> observations\", inplace = True)\n",
    "    df.replace(\"Breath abnormalities-related complaints\",\"Breath <br> abnormalities-related <br> complaints\", inplace = True)"
   ]
  },
  {
   "cell_type": "code",
   "execution_count": 147,
   "metadata": {},
   "outputs": [
    {
     "data": {
      "application/vnd.plotly.v1+json": {
       "config": {
        "plotlyServerURL": "https://plotly.com"
       },
       "data": [
        {
         "branchvalues": "total",
         "domain": {
          "x": [
           0,
           1
          ],
          "y": [
           0,
           1
          ]
         },
         "hovertemplate": "sum_symptom: %{value}",
         "ids": [
          "Clinical <br> characteristics/Sociodem./Age",
          "OSA <br> symptoms/Context/Alcohol",
          "Clinical <br> characteristics/Anatomical airway/Amygdala/Toncil",
          "Sleep-related <br> symptoms/Awakening/Awakening",
          "Clinical <br> characteristics/Anthropometric/BMI",
          "OSA <br> symptoms/Breath <br> abnormalities-related <br> complaints/Breath abnormalities <br> complaints reported <br> by other",
          "Clinical <br> characteristics/Anatomical airway/Craniofacial",
          "Sleep-related <br> symptoms/Sleepiness/Daytime sleepiness",
          "Sleep-related <br> symptoms/Sleepiness/Fatigue",
          "Sleep-related <br> symptoms/Sleepiness/Functionning complaints",
          "Clinical <br> characteristics/Comorbidity/HTA",
          "Sleep-related <br> symptoms/Insomnia/Insomnia initiating",
          "Sleep-related <br> symptoms/Insomnia/Insomnia maintaining",
          "OSA <br> symptoms/Snoring/Loud Snoring",
          "Clinical <br> characteristics/Anthropometric/Neck circumference",
          "Clinical <br> characteristics/Anatomical airway/Nose",
          "OSA <br> symptoms/Context/Positional",
          "OSA <br> symptoms/Breath <br> abnormalities-related <br> complaints/Self-complaints of <br> breath abnormalities",
          "Clinical <br> characteristics/Sociodem./Sex",
          "Sleep-related <br> symptoms/Sleepiness/Sleepiness at the wheel",
          "OSA <br> symptoms/Snoring/Snoring",
          "OSA <br> symptoms/Breath <br> abnormalities <br> observations/Stop breathing <br> observations",
          "OSA <br> symptoms/Breath <br> abnormalities-related <br> complaints/Sweating",
          "Clinical <br> characteristics/Comorbidity/Tobacco",
          "Clinical <br> characteristics/Anthropometric/Waist circumference ",
          "Clinical <br> characteristics/Anatomical airway",
          "Clinical <br> characteristics/Anthropometric",
          "Sleep-related <br> symptoms/Awakening",
          "OSA <br> symptoms/Breath <br> abnormalities <br> observations",
          "OSA <br> symptoms/Breath <br> abnormalities-related <br> complaints",
          "Clinical <br> characteristics/Comorbidity",
          "OSA <br> symptoms/Context",
          "Sleep-related <br> symptoms/Insomnia",
          "Sleep-related <br> symptoms/Sleepiness",
          "OSA <br> symptoms/Snoring",
          "Clinical <br> characteristics/Sociodem.",
          "Clinical <br> characteristics",
          "OSA <br> symptoms",
          "Sleep-related <br> symptoms"
         ],
         "insidetextorientation": "radial",
         "labels": [
          "Age",
          "Alcohol",
          "Amygdala/Toncil",
          "Awakening",
          "BMI",
          "Breath abnormalities <br> complaints reported <br> by other",
          "Craniofacial",
          "Daytime sleepiness",
          "Fatigue",
          "Functionning complaints",
          "HTA",
          "Insomnia initiating",
          "Insomnia maintaining",
          "Loud Snoring",
          "Neck circumference",
          "Nose",
          "Positional",
          "Self-complaints of <br> breath abnormalities",
          "Sex",
          "Sleepiness at the wheel",
          "Snoring",
          "Stop breathing <br> observations",
          "Sweating",
          "Tobacco",
          "Waist circumference ",
          "Anatomical airway",
          "Anthropometric",
          "Awakening",
          "Breath <br> abnormalities <br> observations",
          "Breath <br> abnormalities-related <br> complaints",
          "Comorbidity",
          "Context",
          "Insomnia",
          "Sleepiness",
          "Snoring",
          "Sociodem.",
          "Clinical <br> characteristics",
          "OSA <br> symptoms",
          "Sleep-related <br> symptoms"
         ],
         "name": "",
         "parents": [
          "Clinical <br> characteristics/Sociodem.",
          "OSA <br> symptoms/Context",
          "Clinical <br> characteristics/Anatomical airway",
          "Sleep-related <br> symptoms/Awakening",
          "Clinical <br> characteristics/Anthropometric",
          "OSA <br> symptoms/Breath <br> abnormalities-related <br> complaints",
          "Clinical <br> characteristics/Anatomical airway",
          "Sleep-related <br> symptoms/Sleepiness",
          "Sleep-related <br> symptoms/Sleepiness",
          "Sleep-related <br> symptoms/Sleepiness",
          "Clinical <br> characteristics/Comorbidity",
          "Sleep-related <br> symptoms/Insomnia",
          "Sleep-related <br> symptoms/Insomnia",
          "OSA <br> symptoms/Snoring",
          "Clinical <br> characteristics/Anthropometric",
          "Clinical <br> characteristics/Anatomical airway",
          "OSA <br> symptoms/Context",
          "OSA <br> symptoms/Breath <br> abnormalities-related <br> complaints",
          "Clinical <br> characteristics/Sociodem.",
          "Sleep-related <br> symptoms/Sleepiness",
          "OSA <br> symptoms/Snoring",
          "OSA <br> symptoms/Breath <br> abnormalities <br> observations",
          "OSA <br> symptoms/Breath <br> abnormalities-related <br> complaints",
          "Clinical <br> characteristics/Comorbidity",
          "Clinical <br> characteristics/Anthropometric",
          "Clinical <br> characteristics",
          "Clinical <br> characteristics",
          "Sleep-related <br> symptoms",
          "OSA <br> symptoms",
          "OSA <br> symptoms",
          "Clinical <br> characteristics",
          "OSA <br> symptoms",
          "Sleep-related <br> symptoms",
          "Sleep-related <br> symptoms",
          "OSA <br> symptoms",
          "Clinical <br> characteristics",
          "",
          "",
          ""
         ],
         "type": "sunburst",
         "values": [
          5,
          1,
          2,
          3,
          6,
          2,
          1,
          4,
          5,
          1,
          4,
          1,
          1,
          8,
          3,
          1,
          1,
          2,
          3,
          2,
          6,
          9,
          1,
          1,
          1,
          4,
          10,
          3,
          9,
          5,
          5,
          2,
          2,
          12,
          14,
          8,
          27,
          30,
          17
         ]
        }
       ],
       "layout": {
        "font": {
         "size": 11
        },
        "height": 600,
        "legend": {
         "tracegroupgap": 0
        },
        "margin": {
         "b": 0,
         "l": 0,
         "r": 0,
         "t": 0
        },
        "sunburstcolorway": [
         "rgb(102, 197, 204)",
         "rgb(246, 207, 113)",
         "rgb(248, 156, 116)",
         "rgb(220, 176, 242)",
         "rgb(135, 197, 95)",
         "rgb(158, 185, 243)",
         "rgb(254, 136, 177)",
         "rgb(201, 219, 116)",
         "rgb(139, 224, 164)",
         "rgb(180, 151, 231)",
         "rgb(179, 179, 179)"
        ],
        "template": {
         "data": {
          "bar": [
           {
            "error_x": {
             "color": "#2a3f5f"
            },
            "error_y": {
             "color": "#2a3f5f"
            },
            "marker": {
             "line": {
              "color": "#E5ECF6",
              "width": 0.5
             },
             "pattern": {
              "fillmode": "overlay",
              "size": 10,
              "solidity": 0.2
             }
            },
            "type": "bar"
           }
          ],
          "barpolar": [
           {
            "marker": {
             "line": {
              "color": "#E5ECF6",
              "width": 0.5
             },
             "pattern": {
              "fillmode": "overlay",
              "size": 10,
              "solidity": 0.2
             }
            },
            "type": "barpolar"
           }
          ],
          "carpet": [
           {
            "aaxis": {
             "endlinecolor": "#2a3f5f",
             "gridcolor": "white",
             "linecolor": "white",
             "minorgridcolor": "white",
             "startlinecolor": "#2a3f5f"
            },
            "baxis": {
             "endlinecolor": "#2a3f5f",
             "gridcolor": "white",
             "linecolor": "white",
             "minorgridcolor": "white",
             "startlinecolor": "#2a3f5f"
            },
            "type": "carpet"
           }
          ],
          "choropleth": [
           {
            "colorbar": {
             "outlinewidth": 0,
             "ticks": ""
            },
            "type": "choropleth"
           }
          ],
          "contour": [
           {
            "colorbar": {
             "outlinewidth": 0,
             "ticks": ""
            },
            "colorscale": [
             [
              0,
              "#0d0887"
             ],
             [
              0.1111111111111111,
              "#46039f"
             ],
             [
              0.2222222222222222,
              "#7201a8"
             ],
             [
              0.3333333333333333,
              "#9c179e"
             ],
             [
              0.4444444444444444,
              "#bd3786"
             ],
             [
              0.5555555555555556,
              "#d8576b"
             ],
             [
              0.6666666666666666,
              "#ed7953"
             ],
             [
              0.7777777777777778,
              "#fb9f3a"
             ],
             [
              0.8888888888888888,
              "#fdca26"
             ],
             [
              1,
              "#f0f921"
             ]
            ],
            "type": "contour"
           }
          ],
          "contourcarpet": [
           {
            "colorbar": {
             "outlinewidth": 0,
             "ticks": ""
            },
            "type": "contourcarpet"
           }
          ],
          "heatmap": [
           {
            "colorbar": {
             "outlinewidth": 0,
             "ticks": ""
            },
            "colorscale": [
             [
              0,
              "#0d0887"
             ],
             [
              0.1111111111111111,
              "#46039f"
             ],
             [
              0.2222222222222222,
              "#7201a8"
             ],
             [
              0.3333333333333333,
              "#9c179e"
             ],
             [
              0.4444444444444444,
              "#bd3786"
             ],
             [
              0.5555555555555556,
              "#d8576b"
             ],
             [
              0.6666666666666666,
              "#ed7953"
             ],
             [
              0.7777777777777778,
              "#fb9f3a"
             ],
             [
              0.8888888888888888,
              "#fdca26"
             ],
             [
              1,
              "#f0f921"
             ]
            ],
            "type": "heatmap"
           }
          ],
          "heatmapgl": [
           {
            "colorbar": {
             "outlinewidth": 0,
             "ticks": ""
            },
            "colorscale": [
             [
              0,
              "#0d0887"
             ],
             [
              0.1111111111111111,
              "#46039f"
             ],
             [
              0.2222222222222222,
              "#7201a8"
             ],
             [
              0.3333333333333333,
              "#9c179e"
             ],
             [
              0.4444444444444444,
              "#bd3786"
             ],
             [
              0.5555555555555556,
              "#d8576b"
             ],
             [
              0.6666666666666666,
              "#ed7953"
             ],
             [
              0.7777777777777778,
              "#fb9f3a"
             ],
             [
              0.8888888888888888,
              "#fdca26"
             ],
             [
              1,
              "#f0f921"
             ]
            ],
            "type": "heatmapgl"
           }
          ],
          "histogram": [
           {
            "marker": {
             "pattern": {
              "fillmode": "overlay",
              "size": 10,
              "solidity": 0.2
             }
            },
            "type": "histogram"
           }
          ],
          "histogram2d": [
           {
            "colorbar": {
             "outlinewidth": 0,
             "ticks": ""
            },
            "colorscale": [
             [
              0,
              "#0d0887"
             ],
             [
              0.1111111111111111,
              "#46039f"
             ],
             [
              0.2222222222222222,
              "#7201a8"
             ],
             [
              0.3333333333333333,
              "#9c179e"
             ],
             [
              0.4444444444444444,
              "#bd3786"
             ],
             [
              0.5555555555555556,
              "#d8576b"
             ],
             [
              0.6666666666666666,
              "#ed7953"
             ],
             [
              0.7777777777777778,
              "#fb9f3a"
             ],
             [
              0.8888888888888888,
              "#fdca26"
             ],
             [
              1,
              "#f0f921"
             ]
            ],
            "type": "histogram2d"
           }
          ],
          "histogram2dcontour": [
           {
            "colorbar": {
             "outlinewidth": 0,
             "ticks": ""
            },
            "colorscale": [
             [
              0,
              "#0d0887"
             ],
             [
              0.1111111111111111,
              "#46039f"
             ],
             [
              0.2222222222222222,
              "#7201a8"
             ],
             [
              0.3333333333333333,
              "#9c179e"
             ],
             [
              0.4444444444444444,
              "#bd3786"
             ],
             [
              0.5555555555555556,
              "#d8576b"
             ],
             [
              0.6666666666666666,
              "#ed7953"
             ],
             [
              0.7777777777777778,
              "#fb9f3a"
             ],
             [
              0.8888888888888888,
              "#fdca26"
             ],
             [
              1,
              "#f0f921"
             ]
            ],
            "type": "histogram2dcontour"
           }
          ],
          "mesh3d": [
           {
            "colorbar": {
             "outlinewidth": 0,
             "ticks": ""
            },
            "type": "mesh3d"
           }
          ],
          "parcoords": [
           {
            "line": {
             "colorbar": {
              "outlinewidth": 0,
              "ticks": ""
             }
            },
            "type": "parcoords"
           }
          ],
          "pie": [
           {
            "automargin": true,
            "type": "pie"
           }
          ],
          "scatter": [
           {
            "fillpattern": {
             "fillmode": "overlay",
             "size": 10,
             "solidity": 0.2
            },
            "type": "scatter"
           }
          ],
          "scatter3d": [
           {
            "line": {
             "colorbar": {
              "outlinewidth": 0,
              "ticks": ""
             }
            },
            "marker": {
             "colorbar": {
              "outlinewidth": 0,
              "ticks": ""
             }
            },
            "type": "scatter3d"
           }
          ],
          "scattercarpet": [
           {
            "marker": {
             "colorbar": {
              "outlinewidth": 0,
              "ticks": ""
             }
            },
            "type": "scattercarpet"
           }
          ],
          "scattergeo": [
           {
            "marker": {
             "colorbar": {
              "outlinewidth": 0,
              "ticks": ""
             }
            },
            "type": "scattergeo"
           }
          ],
          "scattergl": [
           {
            "marker": {
             "colorbar": {
              "outlinewidth": 0,
              "ticks": ""
             }
            },
            "type": "scattergl"
           }
          ],
          "scattermapbox": [
           {
            "marker": {
             "colorbar": {
              "outlinewidth": 0,
              "ticks": ""
             }
            },
            "type": "scattermapbox"
           }
          ],
          "scatterpolar": [
           {
            "marker": {
             "colorbar": {
              "outlinewidth": 0,
              "ticks": ""
             }
            },
            "type": "scatterpolar"
           }
          ],
          "scatterpolargl": [
           {
            "marker": {
             "colorbar": {
              "outlinewidth": 0,
              "ticks": ""
             }
            },
            "type": "scatterpolargl"
           }
          ],
          "scatterternary": [
           {
            "marker": {
             "colorbar": {
              "outlinewidth": 0,
              "ticks": ""
             }
            },
            "type": "scatterternary"
           }
          ],
          "surface": [
           {
            "colorbar": {
             "outlinewidth": 0,
             "ticks": ""
            },
            "colorscale": [
             [
              0,
              "#0d0887"
             ],
             [
              0.1111111111111111,
              "#46039f"
             ],
             [
              0.2222222222222222,
              "#7201a8"
             ],
             [
              0.3333333333333333,
              "#9c179e"
             ],
             [
              0.4444444444444444,
              "#bd3786"
             ],
             [
              0.5555555555555556,
              "#d8576b"
             ],
             [
              0.6666666666666666,
              "#ed7953"
             ],
             [
              0.7777777777777778,
              "#fb9f3a"
             ],
             [
              0.8888888888888888,
              "#fdca26"
             ],
             [
              1,
              "#f0f921"
             ]
            ],
            "type": "surface"
           }
          ],
          "table": [
           {
            "cells": {
             "fill": {
              "color": "#EBF0F8"
             },
             "line": {
              "color": "white"
             }
            },
            "header": {
             "fill": {
              "color": "#C8D4E3"
             },
             "line": {
              "color": "white"
             }
            },
            "type": "table"
           }
          ]
         },
         "layout": {
          "annotationdefaults": {
           "arrowcolor": "#2a3f5f",
           "arrowhead": 0,
           "arrowwidth": 1
          },
          "autotypenumbers": "strict",
          "coloraxis": {
           "colorbar": {
            "outlinewidth": 0,
            "ticks": ""
           }
          },
          "colorscale": {
           "diverging": [
            [
             0,
             "#8e0152"
            ],
            [
             0.1,
             "#c51b7d"
            ],
            [
             0.2,
             "#de77ae"
            ],
            [
             0.3,
             "#f1b6da"
            ],
            [
             0.4,
             "#fde0ef"
            ],
            [
             0.5,
             "#f7f7f7"
            ],
            [
             0.6,
             "#e6f5d0"
            ],
            [
             0.7,
             "#b8e186"
            ],
            [
             0.8,
             "#7fbc41"
            ],
            [
             0.9,
             "#4d9221"
            ],
            [
             1,
             "#276419"
            ]
           ],
           "sequential": [
            [
             0,
             "#0d0887"
            ],
            [
             0.1111111111111111,
             "#46039f"
            ],
            [
             0.2222222222222222,
             "#7201a8"
            ],
            [
             0.3333333333333333,
             "#9c179e"
            ],
            [
             0.4444444444444444,
             "#bd3786"
            ],
            [
             0.5555555555555556,
             "#d8576b"
            ],
            [
             0.6666666666666666,
             "#ed7953"
            ],
            [
             0.7777777777777778,
             "#fb9f3a"
            ],
            [
             0.8888888888888888,
             "#fdca26"
            ],
            [
             1,
             "#f0f921"
            ]
           ],
           "sequentialminus": [
            [
             0,
             "#0d0887"
            ],
            [
             0.1111111111111111,
             "#46039f"
            ],
            [
             0.2222222222222222,
             "#7201a8"
            ],
            [
             0.3333333333333333,
             "#9c179e"
            ],
            [
             0.4444444444444444,
             "#bd3786"
            ],
            [
             0.5555555555555556,
             "#d8576b"
            ],
            [
             0.6666666666666666,
             "#ed7953"
            ],
            [
             0.7777777777777778,
             "#fb9f3a"
            ],
            [
             0.8888888888888888,
             "#fdca26"
            ],
            [
             1,
             "#f0f921"
            ]
           ]
          },
          "colorway": [
           "#636efa",
           "#EF553B",
           "#00cc96",
           "#ab63fa",
           "#FFA15A",
           "#19d3f3",
           "#FF6692",
           "#B6E880",
           "#FF97FF",
           "#FECB52"
          ],
          "font": {
           "color": "#2a3f5f"
          },
          "geo": {
           "bgcolor": "white",
           "lakecolor": "white",
           "landcolor": "#E5ECF6",
           "showlakes": true,
           "showland": true,
           "subunitcolor": "white"
          },
          "hoverlabel": {
           "align": "left"
          },
          "hovermode": "closest",
          "mapbox": {
           "style": "light"
          },
          "paper_bgcolor": "white",
          "plot_bgcolor": "#E5ECF6",
          "polar": {
           "angularaxis": {
            "gridcolor": "white",
            "linecolor": "white",
            "ticks": ""
           },
           "bgcolor": "#E5ECF6",
           "radialaxis": {
            "gridcolor": "white",
            "linecolor": "white",
            "ticks": ""
           }
          },
          "scene": {
           "xaxis": {
            "backgroundcolor": "#E5ECF6",
            "gridcolor": "white",
            "gridwidth": 2,
            "linecolor": "white",
            "showbackground": true,
            "ticks": "",
            "zerolinecolor": "white"
           },
           "yaxis": {
            "backgroundcolor": "#E5ECF6",
            "gridcolor": "white",
            "gridwidth": 2,
            "linecolor": "white",
            "showbackground": true,
            "ticks": "",
            "zerolinecolor": "white"
           },
           "zaxis": {
            "backgroundcolor": "#E5ECF6",
            "gridcolor": "white",
            "gridwidth": 2,
            "linecolor": "white",
            "showbackground": true,
            "ticks": "",
            "zerolinecolor": "white"
           }
          },
          "shapedefaults": {
           "line": {
            "color": "#2a3f5f"
           }
          },
          "ternary": {
           "aaxis": {
            "gridcolor": "white",
            "linecolor": "white",
            "ticks": ""
           },
           "baxis": {
            "gridcolor": "white",
            "linecolor": "white",
            "ticks": ""
           },
           "bgcolor": "#E5ECF6",
           "caxis": {
            "gridcolor": "white",
            "linecolor": "white",
            "ticks": ""
           }
          },
          "title": {
           "x": 0.05
          },
          "xaxis": {
           "automargin": true,
           "gridcolor": "white",
           "linecolor": "white",
           "ticks": "",
           "title": {
            "standoff": 15
           },
           "zerolinecolor": "white",
           "zerolinewidth": 2
          },
          "yaxis": {
           "automargin": true,
           "gridcolor": "white",
           "linecolor": "white",
           "ticks": "",
           "title": {
            "standoff": 15
           },
           "zerolinecolor": "white",
           "zerolinewidth": 2
          }
         }
        },
        "width": 600
       }
      }
     },
     "metadata": {},
     "output_type": "display_data"
    }
   ],
   "source": [
    "if np.sum(df.Subcategory.isna()) != df.shape[0] : # with category and subcategory\n",
    "    fig = px.sunburst(df, path=['Category', 'Subcategory', 'Symptom'], values='sum_symptoms',color_discrete_sequence = px.colors.qualitative.Pastel)\n",
    "    fig.update_layout(margin = dict(t=0, l=0, r=0, b=0), font_size=11, width =600, height = 600)\n",
    "    fig.update_traces(insidetextorientation='radial')\n",
    "    fig.update_traces(hovertemplate='sum_symptom: %{value}')\n",
    "    #fig.write_image(\"figure6_sunburst_plot.pdf\") # writting the figure into a file\n",
    "    fig.show()\n",
    "elif np.sum(df.Category.isna()) != df.shape[0] : # with category only\n",
    "    fig = px.sunburst(df, path=['Category', 'Symptom'], values='sum_symptoms',color_discrete_sequence = px.colors.qualitative.Pastel)\n",
    "    fig.update_layout(margin = dict(t=0, l=0, r=0, b=0), font_size=11, width =600, height = 600)\n",
    "    fig.update_traces(insidetextorientation='radial')\n",
    "    fig.update_traces(hovertemplate='sum_symptom: %{value}')\n",
    "    #fig.write_image(\"figure6_sunburst_plot.pdf\") # writting the figure into a file\n",
    "    fig.show()\n",
    "else : \n",
    "    print(\"No category -> no sunburst plot\")\n"
   ]
  },
  {
   "attachments": {},
   "cell_type": "markdown",
   "metadata": {},
   "source": [
    "The figure has been save in the online folder (📁 symbol on the left) under the name [figure6_sunburst_plot.pdf](figure6_sunburst_plot.pdf). <br>You can change the name and the format of the file changing the name in the `#fig.write_image()` function. \n",
    "<br>⚠️ If you want it, save the figure on your local computer : these online file will be deleted as soon as you quit this page!"
   ]
  },
  {
   "cell_type": "markdown",
   "metadata": {},
   "source": [
    "---\n",
    "# Export to html\n",
    "You have reached the end of this notebook. \n",
    "If you want to save the whole page, you can download it to html with dynamic figures:\n",
    ">* \"File\" → \"Save and Export Notebook as\" → \"HTML\" "
   ]
  }
 ],
 "metadata": {
  "colab": {
   "collapsed_sections": [],
   "provenance": []
  },
  "kernelspec": {
   "display_name": "Python 3",
   "language": "python",
   "name": "python3"
  },
  "language_info": {
   "codemirror_mode": {
    "name": "ipython",
    "version": 3
   },
   "file_extension": ".py",
   "mimetype": "text/x-python",
   "name": "python",
   "nbconvert_exporter": "python",
   "pygments_lexer": "ipython3",
   "version": "3.10.10"
  },
  "vscode": {
   "interpreter": {
    "hash": "68522a6d5c06a8311fc2294da1fa0b58af198971039928249c933578fb2cb27d"
   }
  }
 },
 "nbformat": 4,
 "nbformat_minor": 4
}
